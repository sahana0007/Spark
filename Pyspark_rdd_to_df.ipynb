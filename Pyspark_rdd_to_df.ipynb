{
  "nbformat": 4,
  "nbformat_minor": 0,
  "metadata": {
    "colab": {
      "name": "Pyspark rdd to df.ipynb",
      "provenance": [],
      "mount_file_id": "1vO_R2ot1oXlgOHBZNltp2lWzQyQ1X-zt",
      "authorship_tag": "ABX9TyMYTc7TVKIX53hWPUWXzMhx",
      "include_colab_link": true
    },
    "kernelspec": {
      "name": "python3",
      "display_name": "Python 3"
    },
    "language_info": {
      "name": "python"
    }
  },
  "cells": [
    {
      "cell_type": "markdown",
      "metadata": {
        "id": "view-in-github",
        "colab_type": "text"
      },
      "source": [
        "<a href=\"https://colab.research.google.com/github/sahana0007/Spark/blob/main/Pyspark_rdd_to_df.ipynb\" target=\"_parent\"><img src=\"https://colab.research.google.com/assets/colab-badge.svg\" alt=\"Open In Colab\"/></a>"
      ]
    },
    {
      "cell_type": "code",
      "execution_count": 1,
      "metadata": {
        "colab": {
          "base_uri": "https://localhost:8080/"
        },
        "id": "RaWHsZdCiwXv",
        "outputId": "dd0876b1-2b87-4a27-ab21-c9200091a2fe"
      },
      "outputs": [
        {
          "output_type": "stream",
          "name": "stdout",
          "text": [
            "Drive already mounted at /content/drive; to attempt to forcibly remount, call drive.mount(\"/content/drive\", force_remount=True).\n"
          ]
        }
      ],
      "source": [
        "from google.colab import drive\n",
        "drive.mount('/content/drive')"
      ]
    },
    {
      "cell_type": "code",
      "source": [
        "!pip install pyspark"
      ],
      "metadata": {
        "colab": {
          "base_uri": "https://localhost:8080/"
        },
        "id": "9jjeIoXJiyTW",
        "outputId": "f677a80d-2420-4681-8146-635a08a6440c"
      },
      "execution_count": 2,
      "outputs": [
        {
          "output_type": "stream",
          "name": "stdout",
          "text": [
            "Looking in indexes: https://pypi.org/simple, https://us-python.pkg.dev/colab-wheels/public/simple/\n",
            "Collecting pyspark\n",
            "  Downloading pyspark-3.3.0.tar.gz (281.3 MB)\n",
            "\u001b[K     |████████████████████████████████| 281.3 MB 45 kB/s \n",
            "\u001b[?25hCollecting py4j==0.10.9.5\n",
            "  Downloading py4j-0.10.9.5-py2.py3-none-any.whl (199 kB)\n",
            "\u001b[K     |████████████████████████████████| 199 kB 46.0 MB/s \n",
            "\u001b[?25hBuilding wheels for collected packages: pyspark\n",
            "  Building wheel for pyspark (setup.py) ... \u001b[?25l\u001b[?25hdone\n",
            "  Created wheel for pyspark: filename=pyspark-3.3.0-py2.py3-none-any.whl size=281764026 sha256=5085635e57584311eec8268efa9e404cdeeb6887162119aeda5aae24ca20c55e\n",
            "  Stored in directory: /root/.cache/pip/wheels/7a/8e/1b/f73a52650d2e5f337708d9f6a1750d451a7349a867f928b885\n",
            "Successfully built pyspark\n",
            "Installing collected packages: py4j, pyspark\n",
            "Successfully installed py4j-0.10.9.5 pyspark-3.3.0\n"
          ]
        }
      ]
    },
    {
      "cell_type": "code",
      "source": [
        "from pyspark import SparkContext, SparkConf\n",
        "import pyspark\n",
        "from pyspark.sql import SparkSession\n",
        "spark = SparkSession.builder\\\n",
        "        .master(\"local\")\\\n",
        "        .appName(\"Data pipeline RDD\").\\\n",
        "        getOrCreate()\n",
        "#conf = SparkConf().setAppName(\"Data pipeline RDD\").setMaster(\"local\")\n",
        "#sc = SparkContext (conf = conf)"
      ],
      "metadata": {
        "id": "yxPd7CfBiyWG"
      },
      "execution_count": 3,
      "outputs": []
    },
    {
      "cell_type": "code",
      "source": [
        "df = spark.read\\\n",
        "    .format(\"csv\")\\\n",
        "    .option(\"header\", \"true\")\\\n",
        "    .option(\"inferSchema\", \"true\")\\\n",
        "    .csv(\"/content/drive/MyDrive/Colab Notebooks/supermarket_sales.csv\")\n",
        "    #.csv(\"s3a://sparkbuckets\")\\\n"
      ],
      "metadata": {
        "id": "D4voTIr9iyYG"
      },
      "execution_count": 4,
      "outputs": []
    },
    {
      "cell_type": "code",
      "source": [
        "import pyspark\n",
        "from pyspark.sql.functions import *\n",
        "from pyspark.sql.functions import col\n",
        "from pyspark.sql.window import * \n",
        "from pyspark.sql.types import * \n",
        "from pyspark.sql.functions import split\n",
        "from pyspark.sql.functions import udf\n"
      ],
      "metadata": {
        "id": "2kbmc-5fiyar"
      },
      "execution_count": 6,
      "outputs": []
    },
    {
      "cell_type": "code",
      "source": [
        "df.show()"
      ],
      "metadata": {
        "colab": {
          "base_uri": "https://localhost:8080/"
        },
        "id": "V9l7Vrrmiyc7",
        "outputId": "5bf0099a-da08-485f-d0e9-61e9326b2a48"
      },
      "execution_count": 10,
      "outputs": [
        {
          "output_type": "stream",
          "name": "stdout",
          "text": [
            "+-----------+---------+------+--------------------+----------+--------+-------+--------+---------+\n",
            "| Invoice ID|     City|Gender|        Product line|Unit price|Quantity| Tax 5%|   Total|     Date|\n",
            "+-----------+---------+------+--------------------+----------+--------+-------+--------+---------+\n",
            "|750-67-8428|   Yangon|Female|   Health and beauty|     74.69|       7|26.1415|548.9715| 1/5/2019|\n",
            "|226-31-3081|Naypyitaw|Female|Electronic access...|     15.28|       5|   3.82|   80.22| 3/8/2019|\n",
            "|631-41-3108|   Yangon|  Male|  Home and lifestyle|     46.33|       7|16.2155|340.5255| 3/3/2019|\n",
            "|123-19-1176|   Yangon|  Male|   Health and beauty|     58.22|       8| 23.288| 489.048|1/27/2019|\n",
            "|373-73-7910|   Yangon|  Male|   Sports and travel|     86.31|       7|30.2085|634.3785| 2/8/2019|\n",
            "|699-14-3026|Naypyitaw|  Male|Electronic access...|     85.39|       7|29.8865|627.6165|3/25/2019|\n",
            "|355-53-5943|   Yangon|Female|Electronic access...|     68.84|       6| 20.652| 433.692|2/25/2019|\n",
            "|315-22-5665|Naypyitaw|Female|  Home and lifestyle|     73.56|      10|  36.78|  772.38|2/24/2019|\n",
            "|665-32-9167|   Yangon|Female|   Health and beauty|     36.26|       2|  3.626|  76.146|1/10/2019|\n",
            "|692-92-5582| Mandalay|Female|  Food and beverages|     54.84|       3|  8.226| 172.746|2/20/2019|\n",
            "|351-62-0822| Mandalay|Female| Fashion accessories|     14.48|       4|  2.896|  60.816| 2/6/2019|\n",
            "|529-56-3974| Mandalay|  Male|Electronic access...|     25.51|       4|  5.102| 107.142| 3/9/2019|\n",
            "|365-64-0515|   Yangon|Female|Electronic access...|     46.95|       5|11.7375|246.4875|2/12/2019|\n",
            "|252-56-2699|   Yangon|  Male|  Food and beverages|     43.19|      10| 21.595| 453.495| 2/7/2019|\n",
            "|829-34-3910|   Yangon|Female|   Health and beauty|     71.38|      10|  35.69|  749.49|3/29/2019|\n",
            "|299-46-1805| Mandalay|Female|   Sports and travel|     93.72|       6| 28.116| 590.436|1/15/2019|\n",
            "|656-95-9349|   Yangon|Female|   Health and beauty|     68.93|       7|24.1255|506.6355|3/11/2019|\n",
            "|765-26-6951|   Yangon|  Male|   Sports and travel|     72.61|       6| 21.783| 457.443| 1/1/2019|\n",
            "|329-62-1586|   Yangon|  Male|  Food and beverages|     54.67|       3| 8.2005|172.2105|1/21/2019|\n",
            "|319-50-3348| Mandalay|Female|  Home and lifestyle|      40.3|       2|   4.03|   84.63|3/11/2019|\n",
            "+-----------+---------+------+--------------------+----------+--------+-------+--------+---------+\n",
            "only showing top 20 rows\n",
            "\n"
          ]
        }
      ]
    },
    {
      "cell_type": "markdown",
      "source": [
        "Covert df to rdd to create calculation field on quantity. Remember that RDD is schemaless"
      ],
      "metadata": {
        "id": "ZFSay-0E0v7n"
      }
    },
    {
      "cell_type": "code",
      "source": [
        "rdd = df.rdd.map(lambda x: (x[1], x[5], x[5] *2))\n",
        "print(rdd.collect())"
      ],
      "metadata": {
        "colab": {
          "base_uri": "https://localhost:8080/"
        },
        "id": "TFb8x1HQiyfc",
        "outputId": "9b5a79d2-7c30-42bc-b075-387f2a7191c0"
      },
      "execution_count": 16,
      "outputs": [
        {
          "output_type": "stream",
          "name": "stdout",
          "text": [
            "[('Yangon', 7, 14), ('Naypyitaw', 5, 10), ('Yangon', 7, 14), ('Yangon', 8, 16), ('Yangon', 7, 14), ('Naypyitaw', 7, 14), ('Yangon', 6, 12), ('Naypyitaw', 10, 20), ('Yangon', 2, 4), ('Mandalay', 3, 6), ('Mandalay', 4, 8), ('Mandalay', 4, 8), ('Yangon', 5, 10), ('Yangon', 10, 20), ('Yangon', 10, 20), ('Mandalay', 6, 12), ('Yangon', 7, 14), ('Yangon', 6, 12), ('Yangon', 3, 6), ('Mandalay', 2, 4), ('Naypyitaw', 5, 10), ('Mandalay', 3, 6), ('Mandalay', 2, 4), ('Yangon', 5, 10), ('Yangon', 3, 6), ('Yangon', 8, 16), ('Mandalay', 1, 2), ('Yangon', 2, 4), ('Mandalay', 5, 10), ('Yangon', 9, 18), ('Mandalay', 5, 10), ('Mandalay', 9, 18), ('Mandalay', 8, 16), ('Yangon', 2, 4), ('Naypyitaw', 4, 8), ('Naypyitaw', 1, 2), ('Yangon', 5, 10), ('Yangon', 9, 18), ('Naypyitaw', 8, 16), ('Mandalay', 8, 16), ('Mandalay', 1, 2), ('Naypyitaw', 2, 4), ('Mandalay', 6, 12), ('Naypyitaw', 8, 16), ('Naypyitaw', 2, 4), ('Mandalay', 4, 8), ('Mandalay', 9, 18), ('Mandalay', 9, 18), ('Mandalay', 6, 12), ('Naypyitaw', 10, 20), ('Naypyitaw', 7, 14), ('Yangon', 5, 10), ('Mandalay', 4, 8), ('Naypyitaw', 1, 2), ('Mandalay', 2, 4), ('Naypyitaw', 8, 16), ('Yangon', 2, 4), ('Yangon', 8, 16), ('Yangon', 10, 20), ('Naypyitaw', 6, 12), ('Naypyitaw', 3, 6), ('Naypyitaw', 6, 12), ('Mandalay', 9, 18), ('Yangon', 10, 20), ('Mandalay', 4, 8), ('Yangon', 10, 20), ('Naypyitaw', 2, 4), ('Mandalay', 6, 12), ('Yangon', 10, 20), ('Yangon', 1, 2), ('Naypyitaw', 10, 20), ('Naypyitaw', 10, 20), ('Mandalay', 3, 6), ('Naypyitaw', 6, 12), ('Yangon', 9, 18), ('Naypyitaw', 10, 20), ('Naypyitaw', 9, 18), ('Yangon', 9, 18), ('Naypyitaw', 10, 20), ('Naypyitaw', 5, 10), ('Naypyitaw', 6, 12), ('Mandalay', 3, 6), ('Naypyitaw', 8, 16), ('Naypyitaw', 4, 8), ('Naypyitaw', 5, 10), ('Naypyitaw', 7, 14), ('Naypyitaw', 5, 10), ('Yangon', 7, 14), ('Yangon', 1, 2), ('Mandalay', 6, 12), ('Naypyitaw', 4, 8), ('Naypyitaw', 10, 20), ('Yangon', 7, 14), ('Mandalay', 9, 18), ('Naypyitaw', 1, 2), ('Yangon', 1, 2), ('Mandalay', 10, 20), ('Naypyitaw', 6, 12), ('Yangon', 3, 6), ('Mandalay', 6, 12), ('Naypyitaw', 1, 2), ('Naypyitaw', 9, 18), ('Naypyitaw', 9, 18), ('Yangon', 6, 12), ('Mandalay', 7, 14), ('Yangon', 10, 20), ('Naypyitaw', 6, 12), ('Yangon', 6, 12), ('Naypyitaw', 9, 18), ('Naypyitaw', 10, 20), ('Mandalay', 2, 4), ('Naypyitaw', 3, 6), ('Mandalay', 7, 14), ('Yangon', 9, 18), ('Naypyitaw', 9, 18), ('Naypyitaw', 3, 6), ('Mandalay', 5, 10), ('Mandalay', 1, 2), ('Yangon', 10, 20), ('Mandalay', 2, 4), ('Yangon', 8, 16), ('Naypyitaw', 7, 14), ('Mandalay', 9, 18), ('Naypyitaw', 8, 16), ('Mandalay', 8, 16), ('Yangon', 7, 14), ('Yangon', 5, 10), ('Naypyitaw', 9, 18), ('Naypyitaw', 8, 16), ('Mandalay', 9, 18), ('Mandalay', 7, 14), ('Yangon', 6, 12), ('Mandalay', 4, 8), ('Mandalay', 6, 12), ('Naypyitaw', 6, 12), ('Naypyitaw', 3, 6), ('Yangon', 5, 10), ('Yangon', 6, 12), ('Mandalay', 10, 20), ('Yangon', 8, 16), ('Naypyitaw', 10, 20), ('Naypyitaw', 10, 20), ('Naypyitaw', 10, 20), ('Naypyitaw', 1, 2), ('Yangon', 6, 12), ('Naypyitaw', 6, 12), ('Yangon', 10, 20), ('Naypyitaw', 4, 8), ('Mandalay', 8, 16), ('Yangon', 8, 16), ('Mandalay', 4, 8), ('Naypyitaw', 7, 14), ('Yangon', 9, 18), ('Naypyitaw', 6, 12), ('Naypyitaw', 8, 16), ('Yangon', 5, 10), ('Mandalay', 1, 2), ('Mandalay', 5, 10), ('Mandalay', 9, 18), ('Mandalay', 6, 12), ('Naypyitaw', 8, 16), ('Yangon', 1, 2), ('Yangon', 7, 14), ('Naypyitaw', 2, 4), ('Mandalay', 10, 20), ('Mandalay', 8, 16), ('Naypyitaw', 10, 20), ('Yangon', 10, 20), ('Yangon', 6, 12), ('Yangon', 7, 14), ('Yangon', 5, 10), ('Mandalay', 5, 10), ('Naypyitaw', 8, 16), ('Mandalay', 6, 12), ('Mandalay', 8, 16), ('Yangon', 9, 18), ('Yangon', 8, 16), ('Naypyitaw', 7, 14), ('Yangon', 6, 12), ('Naypyitaw', 3, 6), ('Naypyitaw', 7, 14), ('Naypyitaw', 8, 16), ('Yangon', 10, 20), ('Naypyitaw', 8, 16), ('Yangon', 7, 14), ('Mandalay', 3, 6), ('Mandalay', 8, 16), ('Mandalay', 4, 8), ('Yangon', 1, 2), ('Naypyitaw', 4, 8), ('Mandalay', 3, 6), ('Mandalay', 2, 4), ('Naypyitaw', 9, 18), ('Mandalay', 4, 8), ('Yangon', 5, 10), ('Naypyitaw', 1, 2), ('Naypyitaw', 2, 4), ('Yangon', 1, 2), ('Naypyitaw', 4, 8), ('Naypyitaw', 5, 10), ('Naypyitaw', 6, 12), ('Mandalay', 4, 8), ('Naypyitaw', 7, 14), ('Mandalay', 10, 20), ('Mandalay', 5, 10), ('Yangon', 9, 18), ('Naypyitaw', 9, 18), ('Naypyitaw', 10, 20), ('Mandalay', 3, 6), ('Mandalay', 9, 18), ('Yangon', 9, 18), ('Naypyitaw', 9, 18), ('Mandalay', 5, 10), ('Mandalay', 3, 6), ('Mandalay', 7, 14), ('Yangon', 1, 2), ('Mandalay', 5, 10), ('Yangon', 3, 6), ('Mandalay', 8, 16), ('Mandalay', 3, 6), ('Mandalay', 6, 12), ('Mandalay', 7, 14), ('Naypyitaw', 5, 10), ('Naypyitaw', 1, 2), ('Yangon', 2, 4), ('Naypyitaw', 2, 4), ('Mandalay', 9, 18), ('Naypyitaw', 4, 8), ('Mandalay', 6, 12), ('Yangon', 8, 16), ('Mandalay', 2, 4), ('Mandalay', 3, 6), ('Mandalay', 9, 18), ('Mandalay', 4, 8), ('Yangon', 10, 20), ('Yangon', 2, 4), ('Naypyitaw', 5, 10), ('Naypyitaw', 5, 10), ('Mandalay', 5, 10), ('Yangon', 1, 2), ('Yangon', 9, 18), ('Yangon', 2, 4), ('Naypyitaw', 2, 4), ('Yangon', 4, 8), ('Mandalay', 8, 16), ('Yangon', 8, 16), ('Mandalay', 3, 6), ('Yangon', 5, 10), ('Yangon', 4, 8), ('Mandalay', 7, 14), ('Mandalay', 9, 18), ('Naypyitaw', 10, 20), ('Naypyitaw', 2, 4), ('Yangon', 4, 8), ('Yangon', 8, 16), ('Mandalay', 4, 8), ('Yangon', 1, 2), ('Yangon', 6, 12), ('Yangon', 4, 8), ('Naypyitaw', 4, 8), ('Yangon', 9, 18), ('Naypyitaw', 4, 8), ('Mandalay', 4, 8), ('Yangon', 10, 20), ('Mandalay', 1, 2), ('Yangon', 7, 14), ('Naypyitaw', 4, 8), ('Mandalay', 10, 20), ('Yangon', 4, 8), ('Yangon', 10, 20), ('Mandalay', 5, 10), ('Naypyitaw', 2, 4), ('Yangon', 9, 18), ('Yangon', 2, 4), ('Mandalay', 6, 12), ('Mandalay', 7, 14), ('Naypyitaw', 10, 20), ('Naypyitaw', 4, 8), ('Naypyitaw', 10, 20), ('Yangon', 10, 20), ('Yangon', 8, 16), ('Naypyitaw', 1, 2), ('Yangon', 1, 2), ('Yangon', 6, 12), ('Yangon', 4, 8), ('Mandalay', 5, 10), ('Naypyitaw', 1, 2), ('Naypyitaw', 9, 18), ('Mandalay', 7, 14), ('Yangon', 7, 14), ('Mandalay', 10, 20), ('Naypyitaw', 7, 14), ('Yangon', 1, 2), ('Yangon', 2, 4), ('Mandalay', 10, 20), ('Naypyitaw', 5, 10), ('Naypyitaw', 4, 8), ('Yangon', 6, 12), ('Yangon', 4, 8), ('Naypyitaw', 1, 2), ('Naypyitaw', 2, 4), ('Mandalay', 1, 2), ('Naypyitaw', 1, 2), ('Yangon', 4, 8), ('Mandalay', 8, 16), ('Yangon', 7, 14), ('Yangon', 7, 14), ('Yangon', 8, 16), ('Yangon', 3, 6), ('Yangon', 2, 4), ('Mandalay', 6, 12), ('Naypyitaw', 2, 4), ('Yangon', 5, 10), ('Yangon', 9, 18), ('Naypyitaw', 10, 20), ('Naypyitaw', 2, 4), ('Naypyitaw', 3, 6), ('Naypyitaw', 5, 10), ('Naypyitaw', 7, 14), ('Naypyitaw', 4, 8), ('Naypyitaw', 9, 18), ('Naypyitaw', 1, 2), ('Yangon', 6, 12), ('Yangon', 5, 10), ('Yangon', 6, 12), ('Mandalay', 4, 8), ('Yangon', 5, 10), ('Naypyitaw', 4, 8), ('Mandalay', 4, 8), ('Yangon', 4, 8), ('Mandalay', 9, 18), ('Yangon', 3, 6), ('Yangon', 5, 10), ('Yangon', 2, 4), ('Naypyitaw', 5, 10), ('Yangon', 5, 10), ('Yangon', 9, 18), ('Mandalay', 6, 12), ('Naypyitaw', 3, 6), ('Mandalay', 9, 18), ('Mandalay', 3, 6), ('Mandalay', 7, 14), ('Mandalay', 7, 14), ('Naypyitaw', 5, 10), ('Yangon', 3, 6), ('Yangon', 9, 18), ('Yangon', 1, 2), ('Naypyitaw', 8, 16), ('Yangon', 7, 14), ('Mandalay', 10, 20), ('Naypyitaw', 10, 20), ('Yangon', 7, 14), ('Mandalay', 7, 14), ('Mandalay', 9, 18), ('Naypyitaw', 1, 2), ('Mandalay', 4, 8), ('Naypyitaw', 10, 20), ('Naypyitaw', 10, 20), ('Mandalay', 3, 6), ('Mandalay', 1, 2), ('Yangon', 8, 16), ('Naypyitaw', 8, 16), ('Naypyitaw', 2, 4), ('Yangon', 6, 12), ('Naypyitaw', 4, 8), ('Naypyitaw', 4, 8), ('Naypyitaw', 9, 18), ('Yangon', 4, 8), ('Naypyitaw', 10, 20), ('Yangon', 9, 18), ('Mandalay', 7, 14), ('Mandalay', 2, 4), ('Naypyitaw', 6, 12), ('Naypyitaw', 6, 12), ('Yangon', 5, 10), ('Yangon', 5, 10), ('Mandalay', 9, 18), ('Naypyitaw', 7, 14), ('Naypyitaw', 4, 8), ('Mandalay', 4, 8), ('Yangon', 4, 8), ('Naypyitaw', 2, 4), ('Mandalay', 5, 10), ('Naypyitaw', 4, 8), ('Yangon', 5, 10), ('Mandalay', 1, 2), ('Naypyitaw', 6, 12), ('Yangon', 10, 20), ('Naypyitaw', 9, 18), ('Mandalay', 7, 14), ('Naypyitaw', 3, 6), ('Mandalay', 10, 20), ('Yangon', 1, 2), ('Yangon', 10, 20), ('Yangon', 1, 2), ('Yangon', 5, 10), ('Yangon', 5, 10), ('Mandalay', 9, 18), ('Mandalay', 6, 12), ('Mandalay', 9, 18), ('Naypyitaw', 6, 12), ('Naypyitaw', 4, 8), ('Naypyitaw', 1, 2), ('Mandalay', 5, 10), ('Naypyitaw', 7, 14), ('Yangon', 4, 8), ('Yangon', 5, 10), ('Mandalay', 4, 8), ('Yangon', 4, 8), ('Naypyitaw', 5, 10), ('Mandalay', 10, 20), ('Mandalay', 2, 4), ('Yangon', 5, 10), ('Yangon', 3, 6), ('Yangon', 8, 16), ('Mandalay', 1, 2), ('Naypyitaw', 4, 8), ('Naypyitaw', 1, 2), ('Mandalay', 2, 4), ('Yangon', 7, 14), ('Naypyitaw', 3, 6), ('Naypyitaw', 3, 6), ('Naypyitaw', 10, 20), ('Mandalay', 8, 16), ('Naypyitaw', 1, 2), ('Mandalay', 9, 18), ('Yangon', 7, 14), ('Mandalay', 3, 6), ('Mandalay', 5, 10), ('Yangon', 10, 20), ('Mandalay', 2, 4), ('Naypyitaw', 2, 4), ('Yangon', 6, 12), ('Mandalay', 7, 14), ('Mandalay', 1, 2), ('Naypyitaw', 9, 18), ('Naypyitaw', 4, 8), ('Yangon', 6, 12), ('Naypyitaw', 4, 8), ('Naypyitaw', 8, 16), ('Naypyitaw', 5, 10), ('Mandalay', 8, 16), ('Yangon', 9, 18), ('Naypyitaw', 1, 2), ('Yangon', 7, 14), ('Mandalay', 1, 2), ('Naypyitaw', 10, 20), ('Naypyitaw', 3, 6), ('Mandalay', 1, 2), ('Mandalay', 1, 2), ('Mandalay', 6, 12), ('Mandalay', 6, 12), ('Yangon', 5, 10), ('Yangon', 1, 2), ('Yangon', 4, 8), ('Mandalay', 5, 10), ('Mandalay', 9, 18), ('Mandalay', 10, 20), ('Naypyitaw', 10, 20), ('Naypyitaw', 1, 2), ('Naypyitaw', 5, 10), ('Mandalay', 10, 20), ('Naypyitaw', 4, 8), ('Naypyitaw', 1, 2), ('Yangon', 5, 10), ('Naypyitaw', 10, 20), ('Naypyitaw', 7, 14), ('Mandalay', 6, 12), ('Naypyitaw', 1, 2), ('Naypyitaw', 1, 2), ('Naypyitaw', 6, 12), ('Yangon', 4, 8), ('Yangon', 10, 20), ('Mandalay', 8, 16), ('Yangon', 5, 10), ('Yangon', 3, 6), ('Yangon', 5, 10), ('Naypyitaw', 4, 8), ('Mandalay', 10, 20), ('Yangon', 1, 2), ('Naypyitaw', 8, 16), ('Naypyitaw', 10, 20), ('Yangon', 5, 10), ('Mandalay', 10, 20), ('Naypyitaw', 10, 20), ('Mandalay', 4, 8), ('Mandalay', 10, 20), ('Yangon', 4, 8), ('Naypyitaw', 1, 2), ('Mandalay', 9, 18), ('Mandalay', 2, 4), ('Yangon', 10, 20), ('Mandalay', 8, 16), ('Naypyitaw', 10, 20), ('Mandalay', 2, 4), ('Mandalay', 8, 16), ('Naypyitaw', 2, 4), ('Naypyitaw', 6, 12), ('Mandalay', 1, 2), ('Yangon', 8, 16), ('Mandalay', 1, 2), ('Naypyitaw', 1, 2), ('Naypyitaw', 2, 4), ('Mandalay', 2, 4), ('Mandalay', 1, 2), ('Yangon', 8, 16), ('Mandalay', 3, 6), ('Mandalay', 6, 12), ('Mandalay', 5, 10), ('Naypyitaw', 6, 12), ('Mandalay', 7, 14), ('Yangon', 5, 10), ('Yangon', 7, 14), ('Yangon', 7, 14), ('Naypyitaw', 7, 14), ('Naypyitaw', 1, 2), ('Mandalay', 5, 10), ('Naypyitaw', 5, 10), ('Yangon', 2, 4), ('Naypyitaw', 5, 10), ('Mandalay', 3, 6), ('Naypyitaw', 6, 12), ('Yangon', 6, 12), ('Naypyitaw', 2, 4), ('Yangon', 6, 12), ('Yangon', 5, 10), ('Mandalay', 4, 8), ('Mandalay', 2, 4), ('Mandalay', 10, 20), ('Yangon', 9, 18), ('Yangon', 6, 12), ('Yangon', 8, 16), ('Mandalay', 10, 20), ('Naypyitaw', 9, 18), ('Yangon', 5, 10), ('Naypyitaw', 7, 14), ('Mandalay', 1, 2), ('Yangon', 1, 2), ('Yangon', 4, 8), ('Naypyitaw', 6, 12), ('Yangon', 3, 6), ('Naypyitaw', 1, 2), ('Mandalay', 4, 8), ('Naypyitaw', 6, 12), ('Mandalay', 1, 2), ('Mandalay', 4, 8), ('Yangon', 10, 20), ('Yangon', 9, 18), ('Mandalay', 5, 10), ('Yangon', 6, 12), ('Mandalay', 3, 6), ('Mandalay', 9, 18), ('Mandalay', 9, 18), ('Naypyitaw', 6, 12), ('Yangon', 7, 14), ('Mandalay', 3, 6), ('Mandalay', 2, 4), ('Naypyitaw', 10, 20), ('Yangon', 6, 12), ('Yangon', 3, 6), ('Mandalay', 9, 18), ('Naypyitaw', 10, 20), ('Mandalay', 8, 16), ('Yangon', 6, 12), ('Mandalay', 2, 4), ('Yangon', 10, 20), ('Naypyitaw', 10, 20), ('Yangon', 9, 18), ('Mandalay', 7, 14), ('Naypyitaw', 7, 14), ('Mandalay', 5, 10), ('Mandalay', 10, 20), ('Yangon', 7, 14), ('Mandalay', 2, 4), ('Yangon', 5, 10), ('Mandalay', 7, 14), ('Mandalay', 4, 8), ('Naypyitaw', 4, 8), ('Yangon', 4, 8), ('Mandalay', 2, 4), ('Naypyitaw', 3, 6), ('Yangon', 4, 8), ('Naypyitaw', 2, 4), ('Mandalay', 4, 8), ('Mandalay', 3, 6), ('Yangon', 4, 8), ('Yangon', 3, 6), ('Yangon', 5, 10), ('Naypyitaw', 10, 20), ('Yangon', 5, 10), ('Naypyitaw', 6, 12), ('Naypyitaw', 7, 14), ('Yangon', 1, 2), ('Yangon', 3, 6), ('Mandalay', 3, 6), ('Mandalay', 3, 6), ('Yangon', 3, 6), ('Naypyitaw', 9, 18), ('Naypyitaw', 5, 10), ('Yangon', 2, 4), ('Naypyitaw', 1, 2), ('Naypyitaw', 1, 2), ('Naypyitaw', 10, 20), ('Mandalay', 6, 12), ('Naypyitaw', 7, 14), ('Mandalay', 4, 8), ('Yangon', 7, 14), ('Naypyitaw', 4, 8), ('Yangon', 1, 2), ('Mandalay', 2, 4), ('Yangon', 1, 2), ('Naypyitaw', 9, 18), ('Mandalay', 3, 6), ('Naypyitaw', 1, 2), ('Yangon', 10, 20), ('Yangon', 9, 18), ('Mandalay', 6, 12), ('Naypyitaw', 5, 10), ('Yangon', 6, 12), ('Naypyitaw', 6, 12), ('Yangon', 3, 6), ('Yangon', 1, 2), ('Mandalay', 7, 14), ('Mandalay', 10, 20), ('Mandalay', 1, 2), ('Mandalay', 2, 4), ('Yangon', 2, 4), ('Mandalay', 10, 20), ('Yangon', 3, 6), ('Yangon', 1, 2), ('Yangon', 10, 20), ('Yangon', 3, 6), ('Yangon', 2, 4), ('Mandalay', 3, 6), ('Mandalay', 3, 6), ('Mandalay', 10, 20), ('Yangon', 7, 14), ('Naypyitaw', 1, 2), ('Mandalay', 5, 10), ('Mandalay', 3, 6), ('Mandalay', 3, 6), ('Naypyitaw', 8, 16), ('Mandalay', 2, 4), ('Naypyitaw', 8, 16), ('Naypyitaw', 5, 10), ('Yangon', 9, 18), ('Naypyitaw', 6, 12), ('Mandalay', 1, 2), ('Naypyitaw', 2, 4), ('Naypyitaw', 10, 20), ('Mandalay', 5, 10), ('Mandalay', 6, 12), ('Yangon', 10, 20), ('Mandalay', 9, 18), ('Mandalay', 4, 8), ('Yangon', 3, 6), ('Naypyitaw', 1, 2), ('Yangon', 3, 6), ('Yangon', 5, 10), ('Yangon', 1, 2), ('Mandalay', 3, 6), ('Naypyitaw', 7, 14), ('Mandalay', 6, 12), ('Naypyitaw', 10, 20), ('Naypyitaw', 2, 4), ('Yangon', 4, 8), ('Mandalay', 3, 6), ('Mandalay', 4, 8), ('Naypyitaw', 6, 12), ('Mandalay', 2, 4), ('Yangon', 10, 20), ('Mandalay', 2, 4), ('Mandalay', 3, 6), ('Naypyitaw', 8, 16), ('Yangon', 10, 20), ('Mandalay', 2, 4), ('Mandalay', 7, 14), ('Yangon', 4, 8), ('Naypyitaw', 10, 20), ('Yangon', 6, 12), ('Mandalay', 1, 2), ('Mandalay', 1, 2), ('Naypyitaw', 6, 12), ('Yangon', 2, 4), ('Mandalay', 6, 12), ('Mandalay', 2, 4), ('Mandalay', 2, 4), ('Yangon', 10, 20), ('Naypyitaw', 2, 4), ('Yangon', 3, 6), ('Naypyitaw', 9, 18), ('Naypyitaw', 7, 14), ('Yangon', 10, 20), ('Naypyitaw', 7, 14), ('Naypyitaw', 9, 18), ('Yangon', 5, 10), ('Yangon', 4, 8), ('Mandalay', 4, 8), ('Yangon', 9, 18), ('Naypyitaw', 10, 20), ('Naypyitaw', 8, 16), ('Mandalay', 3, 6), ('Mandalay', 10, 20), ('Mandalay', 9, 18), ('Mandalay', 9, 18), ('Mandalay', 7, 14), ('Mandalay', 4, 8), ('Naypyitaw', 1, 2), ('Naypyitaw', 8, 16), ('Yangon', 3, 6), ('Yangon', 6, 12), ('Naypyitaw', 4, 8), ('Naypyitaw', 9, 18), ('Naypyitaw', 9, 18), ('Naypyitaw', 8, 16), ('Yangon', 5, 10), ('Yangon', 7, 14), ('Yangon', 3, 6), ('Yangon', 3, 6), ('Mandalay', 6, 12), ('Mandalay', 7, 14), ('Naypyitaw', 9, 18), ('Mandalay', 3, 6), ('Naypyitaw', 7, 14), ('Mandalay', 4, 8), ('Naypyitaw', 8, 16), ('Naypyitaw', 3, 6), ('Mandalay', 10, 20), ('Naypyitaw', 4, 8), ('Mandalay', 7, 14), ('Yangon', 4, 8), ('Yangon', 3, 6), ('Yangon', 1, 2), ('Mandalay', 7, 14), ('Mandalay', 1, 2), ('Naypyitaw', 10, 20), ('Naypyitaw', 7, 14), ('Naypyitaw', 10, 20), ('Mandalay', 8, 16), ('Yangon', 9, 18), ('Naypyitaw', 7, 14), ('Naypyitaw', 1, 2), ('Yangon', 2, 4), ('Yangon', 2, 4), ('Naypyitaw', 8, 16), ('Naypyitaw', 1, 2), ('Mandalay', 10, 20), ('Naypyitaw', 5, 10), ('Mandalay', 9, 18), ('Naypyitaw', 7, 14), ('Mandalay', 4, 8), ('Yangon', 5, 10), ('Yangon', 10, 20), ('Mandalay', 5, 10), ('Naypyitaw', 3, 6), ('Yangon', 8, 16), ('Mandalay', 8, 16), ('Yangon', 6, 12), ('Yangon', 10, 20), ('Yangon', 4, 8), ('Mandalay', 10, 20), ('Mandalay', 10, 20), ('Yangon', 8, 16), ('Yangon', 5, 10), ('Yangon', 4, 8), ('Mandalay', 8, 16), ('Naypyitaw', 3, 6), ('Mandalay', 6, 12), ('Mandalay', 4, 8), ('Yangon', 6, 12), ('Mandalay', 4, 8), ('Naypyitaw', 7, 14), ('Naypyitaw', 7, 14), ('Naypyitaw', 1, 2), ('Naypyitaw', 2, 4), ('Mandalay', 5, 10), ('Naypyitaw', 7, 14), ('Mandalay', 1, 2), ('Naypyitaw', 5, 10), ('Mandalay', 9, 18), ('Naypyitaw', 8, 16), ('Yangon', 4, 8), ('Yangon', 1, 2), ('Naypyitaw', 8, 16), ('Naypyitaw', 5, 10), ('Yangon', 7, 14), ('Naypyitaw', 8, 16), ('Naypyitaw', 5, 10), ('Naypyitaw', 3, 6), ('Yangon', 7, 14), ('Yangon', 1, 2), ('Naypyitaw', 4, 8), ('Mandalay', 10, 20), ('Yangon', 7, 14), ('Yangon', 2, 4), ('Mandalay', 2, 4), ('Naypyitaw', 1, 2), ('Yangon', 10, 20), ('Mandalay', 1, 2), ('Naypyitaw', 5, 10), ('Mandalay', 6, 12), ('Naypyitaw', 8, 16), ('Naypyitaw', 7, 14), ('Yangon', 9, 18), ('Mandalay', 9, 18), ('Yangon', 4, 8), ('Yangon', 2, 4), ('Yangon', 4, 8), ('Mandalay', 1, 2), ('Naypyitaw', 10, 20), ('Mandalay', 8, 16), ('Yangon', 10, 20), ('Naypyitaw', 5, 10), ('Yangon', 1, 2), ('Yangon', 8, 16), ('Mandalay', 8, 16), ('Naypyitaw', 7, 14), ('Yangon', 8, 16), ('Mandalay', 4, 8), ('Mandalay', 5, 10), ('Mandalay', 4, 8), ('Yangon', 2, 4), ('Naypyitaw', 1, 2), ('Yangon', 3, 6), ('Mandalay', 7, 14), ('Yangon', 4, 8), ('Mandalay', 9, 18), ('Yangon', 3, 6), ('Naypyitaw', 10, 20), ('Yangon', 10, 20), ('Yangon', 8, 16), ('Mandalay', 4, 8), ('Mandalay', 8, 16), ('Yangon', 1, 2), ('Mandalay', 7, 14), ('Yangon', 1, 2), ('Yangon', 5, 10), ('Mandalay', 6, 12), ('Naypyitaw', 10, 20), ('Naypyitaw', 6, 12), ('Yangon', 3, 6), ('Mandalay', 1, 2), ('Yangon', 2, 4), ('Naypyitaw', 2, 4), ('Yangon', 1, 2), ('Yangon', 3, 6), ('Yangon', 1, 2), ('Naypyitaw', 1, 2), ('Naypyitaw', 9, 18), ('Yangon', 6, 12), ('Yangon', 1, 2), ('Yangon', 2, 4), ('Naypyitaw', 7, 14), ('Mandalay', 10, 20), ('Yangon', 5, 10), ('Mandalay', 9, 18), ('Mandalay', 8, 16), ('Yangon', 4, 8), ('Mandalay', 6, 12), ('Yangon', 9, 18), ('Naypyitaw', 1, 2), ('Yangon', 2, 4), ('Mandalay', 9, 18), ('Mandalay', 7, 14), ('Yangon', 3, 6), ('Naypyitaw', 3, 6), ('Mandalay', 8, 16), ('Naypyitaw', 2, 4), ('Naypyitaw', 3, 6), ('Yangon', 4, 8), ('Yangon', 7, 14), ('Naypyitaw', 1, 2), ('Mandalay', 10, 20), ('Yangon', 6, 12), ('Yangon', 4, 8), ('Naypyitaw', 8, 16), ('Naypyitaw', 1, 2), ('Mandalay', 1, 2), ('Yangon', 8, 16), ('Mandalay', 8, 16), ('Mandalay', 10, 20), ('Naypyitaw', 8, 16), ('Mandalay', 10, 20), ('Yangon', 6, 12), ('Yangon', 2, 4), ('Yangon', 7, 14), ('Yangon', 1, 2), ('Yangon', 10, 20), ('Naypyitaw', 8, 16), ('Yangon', 10, 20), ('Naypyitaw', 5, 10), ('Mandalay', 8, 16), ('Naypyitaw', 5, 10), ('Mandalay', 5, 10), ('Mandalay', 6, 12), ('Mandalay', 8, 16), ('Naypyitaw', 7, 14), ('Naypyitaw', 6, 12), ('Naypyitaw', 7, 14), ('Yangon', 9, 18), ('Naypyitaw', 9, 18), ('Mandalay', 4, 8), ('Yangon', 5, 10), ('Yangon', 7, 14), ('Naypyitaw', 2, 4), ('Naypyitaw', 4, 8), ('Naypyitaw', 10, 20), ('Mandalay', 5, 10), ('Yangon', 2, 4), ('Mandalay', 10, 20), ('Mandalay', 3, 6), ('Naypyitaw', 4, 8), ('Yangon', 8, 16), ('Yangon', 8, 16), ('Yangon', 3, 6), ('Naypyitaw', 6, 12), ('Naypyitaw', 1, 2), ('Yangon', 4, 8), ('Mandalay', 3, 6), ('Mandalay', 3, 6), ('Naypyitaw', 9, 18), ('Mandalay', 6, 12), ('Naypyitaw', 2, 4), ('Naypyitaw', 7, 14), ('Naypyitaw', 6, 12), ('Mandalay', 4, 8), ('Mandalay', 1, 2), ('Yangon', 9, 18), ('Mandalay', 9, 18), ('Mandalay', 2, 4), ('Mandalay', 6, 12), ('Naypyitaw', 2, 4), ('Yangon', 10, 20), ('Naypyitaw', 7, 14), ('Mandalay', 6, 12), ('Naypyitaw', 3, 6), ('Naypyitaw', 7, 14), ('Yangon', 5, 10), ('Yangon', 3, 6), ('Naypyitaw', 6, 12), ('Yangon', 4, 8), ('Naypyitaw', 9, 18), ('Yangon', 10, 20), ('Yangon', 5, 10), ('Yangon', 7, 14), ('Yangon', 7, 14), ('Naypyitaw', 2, 4), ('Mandalay', 1, 2), ('Naypyitaw', 5, 10), ('Mandalay', 8, 16), ('Mandalay', 3, 6), ('Mandalay', 3, 6), ('Mandalay', 4, 8), ('Naypyitaw', 4, 8), ('Mandalay', 6, 12), ('Yangon', 7, 14), ('Naypyitaw', 9, 18), ('Mandalay', 6, 12), ('Naypyitaw', 10, 20), ('Yangon', 9, 18), ('Naypyitaw', 1, 2), ('Yangon', 2, 4), ('Yangon', 1, 2), ('Naypyitaw', 3, 6), ('Mandalay', 2, 4), ('Mandalay', 2, 4), ('Yangon', 9, 18), ('Yangon', 3, 6), ('Yangon', 3, 6), ('Mandalay', 5, 10), ('Mandalay', 10, 20), ('Mandalay', 7, 14), ('Mandalay', 7, 14), ('Yangon', 3, 6), ('Naypyitaw', 2, 4), ('Mandalay', 2, 4), ('Yangon', 4, 8), ('Mandalay', 6, 12), ('Mandalay', 1, 2), ('Mandalay', 1, 2), ('Naypyitaw', 4, 8), ('Yangon', 4, 8), ('Yangon', 9, 18), ('Naypyitaw', 7, 14), ('Naypyitaw', 7, 14), ('Mandalay', 5, 10), ('Mandalay', 2, 4), ('Mandalay', 8, 16), ('Naypyitaw', 10, 20), ('Mandalay', 8, 16), ('Yangon', 5, 10), ('Mandalay', 10, 20), ('Yangon', 2, 4), ('Mandalay', 10, 20), ('Naypyitaw', 1, 2), ('Naypyitaw', 1, 2), ('Mandalay', 10, 20), ('Yangon', 1, 2), ('Yangon', 1, 2), ('Yangon', 7, 14)]\n"
          ]
        }
      ]
    },
    {
      "cell_type": "markdown",
      "source": [
        "Converting rdd to df"
      ],
      "metadata": {
        "id": "Mjbc1ylY2ctJ"
      }
    },
    {
      "cell_type": "code",
      "source": [
        "newSchema = \"City\",\"Quantity\",\"Multiquantity\""
      ],
      "metadata": {
        "id": "6x9awdT7iyhg"
      },
      "execution_count": 18,
      "outputs": []
    },
    {
      "cell_type": "code",
      "source": [
        "df1 = spark.createDataFrame(rdd,schema = newSchema)\n",
        "df1.printSchema()\n",
        "df1.show(truncate=False)"
      ],
      "metadata": {
        "colab": {
          "base_uri": "https://localhost:8080/"
        },
        "id": "zeXV36BHiyjy",
        "outputId": "a3138670-2a1e-4aa3-f26f-6d1179401420"
      },
      "execution_count": 19,
      "outputs": [
        {
          "output_type": "stream",
          "name": "stdout",
          "text": [
            "root\n",
            " |-- City: string (nullable = true)\n",
            " |-- Quantity: long (nullable = true)\n",
            " |-- Multiquantity: long (nullable = true)\n",
            "\n",
            "+---------+--------+-------------+\n",
            "|City     |Quantity|Multiquantity|\n",
            "+---------+--------+-------------+\n",
            "|Yangon   |7       |14           |\n",
            "|Naypyitaw|5       |10           |\n",
            "|Yangon   |7       |14           |\n",
            "|Yangon   |8       |16           |\n",
            "|Yangon   |7       |14           |\n",
            "|Naypyitaw|7       |14           |\n",
            "|Yangon   |6       |12           |\n",
            "|Naypyitaw|10      |20           |\n",
            "|Yangon   |2       |4            |\n",
            "|Mandalay |3       |6            |\n",
            "|Mandalay |4       |8            |\n",
            "|Mandalay |4       |8            |\n",
            "|Yangon   |5       |10           |\n",
            "|Yangon   |10      |20           |\n",
            "|Yangon   |10      |20           |\n",
            "|Mandalay |6       |12           |\n",
            "|Yangon   |7       |14           |\n",
            "|Yangon   |6       |12           |\n",
            "|Yangon   |3       |6            |\n",
            "|Mandalay |2       |4            |\n",
            "+---------+--------+-------------+\n",
            "only showing top 20 rows\n",
            "\n"
          ]
        }
      ]
    },
    {
      "cell_type": "code",
      "source": [
        ""
      ],
      "metadata": {
        "id": "AERJvqYoiynT"
      },
      "execution_count": 5,
      "outputs": []
    },
    {
      "cell_type": "code",
      "source": [
        ""
      ],
      "metadata": {
        "id": "Ikwe1kcZ5143"
      },
      "execution_count": null,
      "outputs": []
    },
    {
      "cell_type": "code",
      "source": [
        ""
      ],
      "metadata": {
        "id": "tKUNx5AB517j"
      },
      "execution_count": null,
      "outputs": []
    },
    {
      "cell_type": "code",
      "source": [
        ""
      ],
      "metadata": {
        "id": "vQQMgkTS51-Y"
      },
      "execution_count": null,
      "outputs": []
    },
    {
      "cell_type": "code",
      "source": [
        ""
      ],
      "metadata": {
        "id": "RTStkGTK52A4"
      },
      "execution_count": null,
      "outputs": []
    },
    {
      "cell_type": "code",
      "source": [
        ""
      ],
      "metadata": {
        "id": "AvKSNS5Z52Dd"
      },
      "execution_count": null,
      "outputs": []
    },
    {
      "cell_type": "code",
      "source": [
        ""
      ],
      "metadata": {
        "id": "Zx4pHwG752GU"
      },
      "execution_count": null,
      "outputs": []
    },
    {
      "cell_type": "code",
      "source": [
        ""
      ],
      "metadata": {
        "id": "nx8uQdjO52Jq"
      },
      "execution_count": null,
      "outputs": []
    },
    {
      "cell_type": "code",
      "source": [
        ""
      ],
      "metadata": {
        "id": "OKVDWCMh52MK"
      },
      "execution_count": null,
      "outputs": []
    },
    {
      "cell_type": "code",
      "source": [
        ""
      ],
      "metadata": {
        "id": "-DEbec5X52Pz"
      },
      "execution_count": null,
      "outputs": []
    }
  ]
}