{
  "nbformat": 4,
  "nbformat_minor": 0,
  "metadata": {
    "colab": {
      "name": "PySpark RDD.ipynb",
      "provenance": [],
      "authorship_tag": "ABX9TyM3Do2+Of7f4SoNrRxZ9vHX",
      "include_colab_link": true
    },
    "kernelspec": {
      "name": "python3",
      "display_name": "Python 3"
    },
    "language_info": {
      "name": "python"
    }
  },
  "cells": [
    {
      "cell_type": "markdown",
      "metadata": {
        "id": "view-in-github",
        "colab_type": "text"
      },
      "source": [
        "<a href=\"https://colab.research.google.com/github/sahana0007/Spark/blob/main/PySpark_RDD.ipynb\" target=\"_parent\"><img src=\"https://colab.research.google.com/assets/colab-badge.svg\" alt=\"Open In Colab\"/></a>"
      ]
    },
    {
      "cell_type": "code",
      "source": [
        "from google.colab import drive\n",
        "drive.mount('/content/drive')"
      ],
      "metadata": {
        "colab": {
          "base_uri": "https://localhost:8080/"
        },
        "id": "IUPwsaiXOSVe",
        "outputId": "2f28b107-76da-4bf7-e0ba-8a14d0bf231f"
      },
      "execution_count": null,
      "outputs": [
        {
          "output_type": "stream",
          "name": "stdout",
          "text": [
            "Mounted at /content/drive\n"
          ]
        }
      ]
    },
    {
      "cell_type": "code",
      "source": [
        "!pip install pyspark"
      ],
      "metadata": {
        "colab": {
          "base_uri": "https://localhost:8080/"
        },
        "id": "7KKnhoh1OTwt",
        "outputId": "69e1f05e-8706-4970-d33c-c371de51843c"
      },
      "execution_count": null,
      "outputs": [
        {
          "output_type": "stream",
          "name": "stdout",
          "text": [
            "Looking in indexes: https://pypi.org/simple, https://us-python.pkg.dev/colab-wheels/public/simple/\n",
            "Collecting pyspark\n",
            "  Downloading pyspark-3.3.0.tar.gz (281.3 MB)\n",
            "\u001b[K     |████████████████████████████████| 281.3 MB 43 kB/s \n",
            "\u001b[?25hCollecting py4j==0.10.9.5\n",
            "  Downloading py4j-0.10.9.5-py2.py3-none-any.whl (199 kB)\n",
            "\u001b[K     |████████████████████████████████| 199 kB 56.8 MB/s \n",
            "\u001b[?25hBuilding wheels for collected packages: pyspark\n",
            "  Building wheel for pyspark (setup.py) ... \u001b[?25l\u001b[?25hdone\n",
            "  Created wheel for pyspark: filename=pyspark-3.3.0-py2.py3-none-any.whl size=281764026 sha256=8981ab92fadab43013f78968ebc9d1245a92804105cdc190a1c1504355d86f19\n",
            "  Stored in directory: /root/.cache/pip/wheels/7a/8e/1b/f73a52650d2e5f337708d9f6a1750d451a7349a867f928b885\n",
            "Successfully built pyspark\n",
            "Installing collected packages: py4j, pyspark\n",
            "Successfully installed py4j-0.10.9.5 pyspark-3.3.0\n"
          ]
        }
      ]
    },
    {
      "cell_type": "code",
      "execution_count": null,
      "metadata": {
        "id": "tVkR5ku45myI"
      },
      "outputs": [],
      "source": [
        "from pyspark import SparkContext, SparkConf"
      ]
    },
    {
      "cell_type": "code",
      "source": [
        "import pyspark\n",
        "from pyspark.sql import SparkSession\n",
        "#spark = SparkSession.builder.master(\"local\").appName(\"RDD_Practise\").getOrCreate()"
      ],
      "metadata": {
        "id": "H_uVCC1eOuq5"
      },
      "execution_count": null,
      "outputs": []
    },
    {
      "cell_type": "code",
      "source": [
        "conf = SparkConf().setAppName(\"RDD_Practise1\").setMaster(\"local\")\n",
        "sc = SparkContext (conf = conf)"
      ],
      "metadata": {
        "id": "3AK5jzBbP35b"
      },
      "execution_count": null,
      "outputs": []
    },
    {
      "cell_type": "code",
      "source": [
        "rdd = sc.parallelize([5,5,4,3,2,9,2])\n"
      ],
      "metadata": {
        "id": "r521Xs2VOuwO"
      },
      "execution_count": null,
      "outputs": []
    },
    {
      "cell_type": "markdown",
      "source": [
        "RDD ACTIONS\n"
      ],
      "metadata": {
        "id": "-hcnbIKC6e0h"
      }
    },
    {
      "cell_type": "code",
      "source": [
        "rdd.sum()"
      ],
      "metadata": {
        "id": "13Stl4f7Ouy_",
        "colab": {
          "base_uri": "https://localhost:8080/"
        },
        "outputId": "f6e9aa4f-3e48-4248-b06e-96121aae5e62"
      },
      "execution_count": null,
      "outputs": [
        {
          "output_type": "execute_result",
          "data": {
            "text/plain": [
              "30"
            ]
          },
          "metadata": {},
          "execution_count": 8
        }
      ]
    },
    {
      "cell_type": "code",
      "source": [
        "rdd.take(3)"
      ],
      "metadata": {
        "colab": {
          "base_uri": "https://localhost:8080/"
        },
        "id": "uz_sagPgGdBw",
        "outputId": "40484bb8-2cf3-4fbd-ef49-d0883caf518b"
      },
      "execution_count": null,
      "outputs": [
        {
          "output_type": "execute_result",
          "data": {
            "text/plain": [
              "[5, 4, 3]"
            ]
          },
          "metadata": {},
          "execution_count": 27
        }
      ]
    },
    {
      "cell_type": "code",
      "source": [
        "rdd.top(4)"
      ],
      "metadata": {
        "colab": {
          "base_uri": "https://localhost:8080/"
        },
        "id": "PF5xY3hVGj4M",
        "outputId": "75e718a3-aa38-4eda-eedf-b61547cf4dd6"
      },
      "execution_count": null,
      "outputs": [
        {
          "output_type": "execute_result",
          "data": {
            "text/plain": [
              "[9, 5, 4, 3]"
            ]
          },
          "metadata": {},
          "execution_count": 28
        }
      ]
    },
    {
      "cell_type": "code",
      "source": [
        "rdd = rdd.distinct()\n",
        "print(rdd.collect())\n"
      ],
      "metadata": {
        "id": "0sVjHFFDOu1t",
        "colab": {
          "base_uri": "https://localhost:8080/"
        },
        "outputId": "4ff774d8-f03d-4b9d-ee3a-bfcdfd0fe3cb"
      },
      "execution_count": null,
      "outputs": [
        {
          "output_type": "stream",
          "name": "stdout",
          "text": [
            "[5, 4, 3, 2, 9]\n"
          ]
        }
      ]
    },
    {
      "cell_type": "code",
      "source": [
        "rdd1 = sc.parallelize(['A', 'A', 'B'])\n",
        "rdd2 = rdd1.distinct()\n",
        "print(rdd1.collect())\n",
        "print(rdd2.collect())"
      ],
      "metadata": {
        "colab": {
          "base_uri": "https://localhost:8080/"
        },
        "id": "y_uWHGJGEKnU",
        "outputId": "551266b3-facc-494b-f00a-45644e2ac430"
      },
      "execution_count": null,
      "outputs": [
        {
          "output_type": "stream",
          "name": "stdout",
          "text": [
            "['A', 'A', 'B']\n",
            "['A', 'B']\n"
          ]
        }
      ]
    },
    {
      "cell_type": "code",
      "source": [
        "type(rdd1)"
      ],
      "metadata": {
        "id": "PUFgoEloOu5X",
        "colab": {
          "base_uri": "https://localhost:8080/"
        },
        "outputId": "9cf0ac53-0ead-4016-8c73-eb795e31e59d"
      },
      "execution_count": null,
      "outputs": [
        {
          "output_type": "execute_result",
          "data": {
            "text/plain": [
              "pyspark.rdd.RDD"
            ]
          },
          "metadata": {},
          "execution_count": 24
        }
      ]
    },
    {
      "cell_type": "code",
      "source": [
        "dir(rdd1)"
      ],
      "metadata": {
        "id": "FIsiPG3AFAXd"
      },
      "execution_count": null,
      "outputs": []
    },
    {
      "cell_type": "code",
      "source": [
        "help(rdd1)"
      ],
      "metadata": {
        "id": "wSGSlJS9FZKj"
      },
      "execution_count": null,
      "outputs": []
    },
    {
      "cell_type": "markdown",
      "source": [
        "ACTIONS"
      ],
      "metadata": {
        "id": "-SfkhKIDRABo"
      }
    },
    {
      "cell_type": "code",
      "source": [
        "rdd.countByValue()"
      ],
      "metadata": {
        "colab": {
          "base_uri": "https://localhost:8080/"
        },
        "id": "LGWV51-GQ85N",
        "outputId": "c7b56bc2-e105-4b32-eb71-4385b5649d0d"
      },
      "execution_count": null,
      "outputs": [
        {
          "output_type": "execute_result",
          "data": {
            "text/plain": [
              "defaultdict(int, {2: 2, 3: 1, 4: 1, 5: 2, 9: 1})"
            ]
          },
          "metadata": {},
          "execution_count": 7
        }
      ]
    },
    {
      "cell_type": "code",
      "source": [
        "rdd1 = sc.parallelize([('A',2), ('B',6), ('C', 8)])"
      ],
      "metadata": {
        "id": "2_tArA63XTit"
      },
      "execution_count": null,
      "outputs": []
    },
    {
      "cell_type": "code",
      "source": [
        "rdd1.countByKey()"
      ],
      "metadata": {
        "colab": {
          "base_uri": "https://localhost:8080/"
        },
        "id": "5yQ0_culXnha",
        "outputId": "ba966baf-360a-4934-d523-27ec79681da8"
      },
      "execution_count": null,
      "outputs": [
        {
          "output_type": "execute_result",
          "data": {
            "text/plain": [
              "defaultdict(int, {'A': 1, 'B': 1, 'C': 1})"
            ]
          },
          "metadata": {},
          "execution_count": 9
        }
      ]
    },
    {
      "cell_type": "code",
      "source": [
        "rdd1.countByValue()"
      ],
      "metadata": {
        "colab": {
          "base_uri": "https://localhost:8080/"
        },
        "id": "PXMOZ7GDXuNA",
        "outputId": "cf80fc8d-3f16-4952-cf57-d14869277c37"
      },
      "execution_count": null,
      "outputs": [
        {
          "output_type": "execute_result",
          "data": {
            "text/plain": [
              "defaultdict(int, {('A', 2): 1, ('B', 6): 1, ('C', 8): 1})"
            ]
          },
          "metadata": {},
          "execution_count": 10
        }
      ]
    },
    {
      "cell_type": "code",
      "source": [
        "rdd = sc.parallelize([5,5,4,3,2,9,2])\n",
        "rdd.reduce(lambda a,b: a+b)"
      ],
      "metadata": {
        "colab": {
          "base_uri": "https://localhost:8080/"
        },
        "id": "TbBnKMQCa_xH",
        "outputId": "368d0739-7090-47fc-e19f-d63753aac414"
      },
      "execution_count": null,
      "outputs": [
        {
          "output_type": "execute_result",
          "data": {
            "text/plain": [
              "30"
            ]
          },
          "metadata": {},
          "execution_count": 12
        }
      ]
    },
    {
      "cell_type": "code",
      "source": [
        "from operator import add\n",
        "rdd1_fold = sc.parallelize([1,2,3,4,7,10])\n",
        "rdd1_fold.fold(0,add)"
      ],
      "metadata": {
        "colab": {
          "base_uri": "https://localhost:8080/"
        },
        "id": "fr2HZAEjX32I",
        "outputId": "07737d06-42a6-474e-a153-8ef0e3847d04"
      },
      "execution_count": null,
      "outputs": [
        {
          "output_type": "execute_result",
          "data": {
            "text/plain": [
              "27"
            ]
          },
          "metadata": {},
          "execution_count": 15
        }
      ]
    },
    {
      "cell_type": "code",
      "source": [
        "rdd1_range = sc.parallelize(range(1,10))\n",
        "rdd1_range.collect()"
      ],
      "metadata": {
        "colab": {
          "base_uri": "https://localhost:8080/"
        },
        "id": "ZMnG5JYgX4V2",
        "outputId": "af4023ce-c883-4f00-b013-d5ae8c90017b"
      },
      "execution_count": null,
      "outputs": [
        {
          "output_type": "execute_result",
          "data": {
            "text/plain": [
              "[1, 2, 3, 4, 5, 6, 7, 8, 9]"
            ]
          },
          "metadata": {},
          "execution_count": 17
        }
      ]
    },
    {
      "cell_type": "code",
      "source": [
        "rdd.collect()"
      ],
      "metadata": {
        "colab": {
          "base_uri": "https://localhost:8080/"
        },
        "id": "vYBhV_i0eWJb",
        "outputId": "3fd0c736-07a8-4bce-8867-0b87ff6b4ebe"
      },
      "execution_count": null,
      "outputs": [
        {
          "output_type": "execute_result",
          "data": {
            "text/plain": [
              "[5, 5, 4, 3, 2, 9, 2]"
            ]
          },
          "metadata": {},
          "execution_count": 21
        }
      ]
    },
    {
      "cell_type": "code",
      "source": [
        "rdd.coalesce(1).saveAsTextFile(\"file:///F:/Spark/save/saveasfile.csv\")\n"
      ],
      "metadata": {
        "id": "wHHvzZRqX4ZV"
      },
      "execution_count": null,
      "outputs": []
    },
    {
      "cell_type": "markdown",
      "source": [
        "RDD TRANSFORMATIONS"
      ],
      "metadata": {
        "id": "JRFXqcJI6o4l"
      }
    },
    {
      "cell_type": "code",
      "source": [
        "from google.colab import files\n",
        "files.upload()"
      ],
      "metadata": {
        "id": "Vmd8ZA4o6sxm"
      },
      "execution_count": null,
      "outputs": []
    },
    {
      "cell_type": "markdown",
      "source": [
        "MAP"
      ],
      "metadata": {
        "id": "3OO0Q2oKBnxy"
      }
    },
    {
      "cell_type": "code",
      "source": [
        "x_map = sc.parallelize([1,2,5,7,9,10,33])\n",
        "y_map = x_map.map(lambda x: x**2)\n",
        "\n",
        "#collect the copies of the elements to a list\n",
        "print('values of x_map: {0}'.format(x_map.collect()))\n",
        "print('values of y_map: {0}'.format(y_map.collect()))"
      ],
      "metadata": {
        "colab": {
          "base_uri": "https://localhost:8080/"
        },
        "id": "oRB_oQKc9Nlc",
        "outputId": "1099130a-d13c-462c-d6f9-32462d217f3b"
      },
      "execution_count": null,
      "outputs": [
        {
          "output_type": "stream",
          "name": "stdout",
          "text": [
            "values of x_map: [1, 2, 5, 7, 9, 10, 33]\n",
            "values of y_map: [1, 4, 25, 49, 81, 100, 1089]\n"
          ]
        }
      ]
    },
    {
      "cell_type": "markdown",
      "source": [
        "FILTER"
      ],
      "metadata": {
        "id": "_vXEfQ7CBpTk"
      }
    },
    {
      "cell_type": "code",
      "source": [
        "x_rdd = sc.parallelize([1,2,5,7,9,10,33])\n",
        "y_filter = x_rdd.filter(lambda x: x%2 == 0)\n",
        "\n",
        "#collect the copies of the elements to a list\n",
        "print('Values of x_rdd: {0}'.format(x_rdd.collect()))\n",
        "print('values of y_filter: {0}'.format(y_filter.collect()))\n"
      ],
      "metadata": {
        "colab": {
          "base_uri": "https://localhost:8080/"
        },
        "id": "aag8ji11-unA",
        "outputId": "1badfcbb-ef90-46ee-ff57-7993ac0c7402"
      },
      "execution_count": null,
      "outputs": [
        {
          "output_type": "stream",
          "name": "stdout",
          "text": [
            "Values of x_rdd: [1, 2, 5, 7, 9, 10, 33]\n",
            "values of y_filter: [2, 10]\n"
          ]
        }
      ]
    },
    {
      "cell_type": "markdown",
      "source": [
        "FLATMAP"
      ],
      "metadata": {
        "id": "hLYw6tHXBtvj"
      }
    },
    {
      "cell_type": "code",
      "source": [
        "x_flatmap = sc.parallelize([1,2,7,9,10,11])\n",
        "y_flatmap = x_flatmap.flatMap(lambda x: (x**2, x+1,100*x))\n",
        "\n",
        "#collect the copies of the elements to a list\n",
        "print('values of x_flatmap: {0}'.format(x_flatmap.collect()))\n",
        "print('values of y_flatmap: {0}'.format(y_flatmap.collect()))"
      ],
      "metadata": {
        "colab": {
          "base_uri": "https://localhost:8080/"
        },
        "id": "ZTXmudE3ABJV",
        "outputId": "4c4a0ebc-cc84-4826-c22e-e9d875d459b9"
      },
      "execution_count": null,
      "outputs": [
        {
          "output_type": "stream",
          "name": "stdout",
          "text": [
            "values of x_flatmap: [1, 2, 7, 9, 10, 11]\n",
            "values of y_flatmap: [1, 2, 100, 4, 3, 200, 49, 8, 700, 81, 10, 900, 100, 11, 1000, 121, 12, 1100]\n"
          ]
        }
      ]
    },
    {
      "cell_type": "code",
      "source": [
        "x_map_partition = sc.parallelize([1,2,7,9,10,11],2)\n",
        "def f(iterator): yield sum(iterator)\n",
        "y_map_partition = x_map_partition.mapPartitions(f)\n",
        "\n",
        "#glom flattens elements on same partitions\n",
        "print(x_map_partition.glom().collect())\n",
        "print(y_map_partition.glom().collect())"
      ],
      "metadata": {
        "colab": {
          "base_uri": "https://localhost:8080/"
        },
        "id": "oiGo_H33ABRo",
        "outputId": "663deb62-e8fc-43f2-b2af-23b776071f78"
      },
      "execution_count": null,
      "outputs": [
        {
          "output_type": "stream",
          "name": "stdout",
          "text": [
            "[[1, 2, 7], [9, 10, 11]]\n",
            "[[10], [30]]\n"
          ]
        }
      ]
    },
    {
      "cell_type": "markdown",
      "source": [
        "Map Partitions With Index"
      ],
      "metadata": {
        "id": "E9ck7g_IYnvT"
      }
    },
    {
      "cell_type": "code",
      "source": [
        "x_ind = sc.parallelize([1,2,7,9,10,11],3)\n",
        "def f(partitionIndex, iterator): yield (partitionIndex,sum(iterator))\n",
        "y_ind = x_ind.mapPartitionsWithIndex(f)\n",
        "\n",
        "#glom flattens elements on same partitions\n",
        "print(x_ind.glom().collect())\n",
        "print(y_ind.glom().collect())"
      ],
      "metadata": {
        "colab": {
          "base_uri": "https://localhost:8080/"
        },
        "id": "8wCriszjABYD",
        "outputId": "7d8ba80f-2626-4a80-debf-8c17fe529298"
      },
      "execution_count": null,
      "outputs": [
        {
          "output_type": "stream",
          "name": "stdout",
          "text": [
            "[[1, 2], [7, 9], [10, 11]]\n",
            "[[(0, 3)], [(1, 16)], [(2, 21)]]\n"
          ]
        }
      ]
    },
    {
      "cell_type": "markdown",
      "source": [
        "Union"
      ],
      "metadata": {
        "id": "gjNkNc99Ys8Y"
      }
    },
    {
      "cell_type": "code",
      "source": [
        "rdd_1 = sc.parallelize([1,1,2,3,4])\n",
        "rdd_2 = sc.parallelize([1,1,2,4,5])\n",
        "\n",
        "rdd_1.union(rdd_2).collect()"
      ],
      "metadata": {
        "colab": {
          "base_uri": "https://localhost:8080/"
        },
        "id": "V5wjtNfUABew",
        "outputId": "e7f1ed1f-e1ce-4b8f-86d1-d2eec6e650c3"
      },
      "execution_count": null,
      "outputs": [
        {
          "output_type": "execute_result",
          "data": {
            "text/plain": [
              "[1, 1, 2, 3, 4, 1, 1, 2, 4, 5]"
            ]
          },
          "metadata": {},
          "execution_count": 23
        }
      ]
    },
    {
      "cell_type": "markdown",
      "source": [
        "Intersection"
      ],
      "metadata": {
        "id": "zCf9__kTYvgI"
      }
    },
    {
      "cell_type": "code",
      "source": [
        "rdd_1 = sc.parallelize([1,1,2,3,4])\n",
        "rdd_2 = sc.parallelize([1,1,2,4,5])\n",
        "\n",
        "rdd_1.intersection(rdd_2).collect()"
      ],
      "metadata": {
        "colab": {
          "base_uri": "https://localhost:8080/"
        },
        "id": "TfNiH58tYxfm",
        "outputId": "216beeb9-0820-4d92-c9cf-0d3ebf444625"
      },
      "execution_count": null,
      "outputs": [
        {
          "output_type": "execute_result",
          "data": {
            "text/plain": [
              "[2, 4, 1]"
            ]
          },
          "metadata": {},
          "execution_count": 24
        }
      ]
    },
    {
      "cell_type": "markdown",
      "source": [
        "Distinct"
      ],
      "metadata": {
        "id": "w2PmHw8AYy7c"
      }
    },
    {
      "cell_type": "code",
      "source": [
        "rdd_1 = sc.parallelize(['a','a','b','c','d'])\n",
        "rdd_2 = rdd_1.distinct()\n",
        "\n",
        "print('Values of x: {0}'.format(rdd_1.collect()))\n",
        "print('Dictinct values of y: {0}'.format(rdd_2.collect()))"
      ],
      "metadata": {
        "colab": {
          "base_uri": "https://localhost:8080/"
        },
        "id": "sfGOsvorY0ss",
        "outputId": "d45809c1-5503-4195-a759-f9f3ac77b1fc"
      },
      "execution_count": null,
      "outputs": [
        {
          "output_type": "stream",
          "name": "stdout",
          "text": [
            "Values of x: ['a', 'a', 'b', 'c', 'd']\n",
            "Dictinct values of y: ['a', 'b', 'c', 'd']\n"
          ]
        }
      ]
    },
    {
      "cell_type": "markdown",
      "source": [
        "GroupbyKey"
      ],
      "metadata": {
        "id": "r2cBtubOY3Vk"
      }
    },
    {
      "cell_type": "code",
      "source": [
        "rdd_v = sc.parallelize([('A',2), ('A',6) ,('B',6),('B',9), ('C', 8)])\n",
        "rdd_gpk = rdd_v.groupByKey()\n",
        "\n",
        "print(rdd_v.collect())\n",
        "print([(j[0],[i for i in j[1]]) for j in rdd_gpk.collect()])"
      ],
      "metadata": {
        "colab": {
          "base_uri": "https://localhost:8080/"
        },
        "id": "3GYulXpSY41E",
        "outputId": "1c6c2975-8427-4aee-820b-3bdce1b3c2a0"
      },
      "execution_count": null,
      "outputs": [
        {
          "output_type": "stream",
          "name": "stdout",
          "text": [
            "[('A', 2), ('A', 6), ('B', 6), ('B', 9), ('C', 8)]\n",
            "[('A', [2, 6]), ('B', [6, 9]), ('C', [8])]\n"
          ]
        }
      ]
    },
    {
      "cell_type": "markdown",
      "source": [
        ""
      ],
      "metadata": {
        "id": "XobJQTaTcn75"
      }
    },
    {
      "cell_type": "code",
      "source": [
        ""
      ],
      "metadata": {
        "id": "Q_Al-ZnfcoKY"
      },
      "execution_count": null,
      "outputs": []
    }
  ]
}