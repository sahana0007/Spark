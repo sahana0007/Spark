{
  "cells": [
    {
      "cell_type": "markdown",
      "metadata": {
        "id": "view-in-github",
        "colab_type": "text"
      },
      "source": [
        "<a href=\"https://colab.research.google.com/github/sahana0007/Spark/blob/main/Dataframe_spark_pre_processing.ipynb\" target=\"_parent\"><img src=\"https://colab.research.google.com/assets/colab-badge.svg\" alt=\"Open In Colab\"/></a>"
      ]
    },
    {
      "cell_type": "code",
      "execution_count": 1,
      "metadata": {
        "colab": {
          "base_uri": "https://localhost:8080/"
        },
        "id": "Rvlo08Ovwu1u",
        "outputId": "f0f00319-ede2-4e90-942b-622fe8fb2e23"
      },
      "outputs": [
        {
          "output_type": "stream",
          "name": "stdout",
          "text": [
            "Mounted at /content/drive\n"
          ]
        }
      ],
      "source": [
        "from google.colab import drive\n",
        "drive.mount('/content/drive')"
      ]
    },
    {
      "cell_type": "code",
      "execution_count": 2,
      "metadata": {
        "colab": {
          "base_uri": "https://localhost:8080/"
        },
        "id": "nv4DV8c6w-F3",
        "outputId": "22a211e7-4f07-44b3-99e5-4de5fd6a1acf"
      },
      "outputs": [
        {
          "output_type": "stream",
          "name": "stdout",
          "text": [
            "Looking in indexes: https://pypi.org/simple, https://us-python.pkg.dev/colab-wheels/public/simple/\n",
            "Collecting pyspark\n",
            "  Downloading pyspark-3.3.0.tar.gz (281.3 MB)\n",
            "\u001b[K     |████████████████████████████████| 281.3 MB 54 kB/s \n",
            "\u001b[?25hCollecting py4j==0.10.9.5\n",
            "  Downloading py4j-0.10.9.5-py2.py3-none-any.whl (199 kB)\n",
            "\u001b[K     |████████████████████████████████| 199 kB 64.4 MB/s \n",
            "\u001b[?25hBuilding wheels for collected packages: pyspark\n",
            "  Building wheel for pyspark (setup.py) ... \u001b[?25l\u001b[?25hdone\n",
            "  Created wheel for pyspark: filename=pyspark-3.3.0-py2.py3-none-any.whl size=281764026 sha256=4863d5f66f252b0f7cb24bd718d7181a08c435f646abf30230c30c93445078c6\n",
            "  Stored in directory: /root/.cache/pip/wheels/7a/8e/1b/f73a52650d2e5f337708d9f6a1750d451a7349a867f928b885\n",
            "Successfully built pyspark\n",
            "Installing collected packages: py4j, pyspark\n",
            "Successfully installed py4j-0.10.9.5 pyspark-3.3.0\n"
          ]
        }
      ],
      "source": [
        "!pip install pyspark"
      ]
    },
    {
      "cell_type": "code",
      "execution_count": 3,
      "metadata": {
        "id": "VCtAfWX_y5Ms"
      },
      "outputs": [],
      "source": [
        "import pyspark\n",
        "from pyspark.sql import SparkSession"
      ]
    },
    {
      "cell_type": "code",
      "execution_count": 4,
      "metadata": {
        "id": "iqEGVMnJ0X0b"
      },
      "outputs": [],
      "source": [
        "spark = SparkSession.builder.master(\"local\").appName(\"demo\").getOrCreate()"
      ]
    },
    {
      "cell_type": "code",
      "execution_count": 5,
      "metadata": {
        "colab": {
          "base_uri": "https://localhost:8080/",
          "height": 1000,
          "resources": {
            "http://localhost:8080/nbextensions/google.colab/files.js": {
              "data": "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",
              "headers": [
                [
                  "content-type",
                  "application/javascript"
                ]
              ],
              "ok": true,
              "status": 200,
              "status_text": ""
            }
          }
        },
        "id": "efgzZzsHy5Wu",
        "outputId": "7b79437e-3cc0-4ddc-a898-520dcef23870"
      },
      "outputs": [
        {
          "output_type": "display_data",
          "data": {
            "text/plain": [
              "<IPython.core.display.HTML object>"
            ],
            "text/html": [
              "\n",
              "     <input type=\"file\" id=\"files-0318433a-2beb-4fcc-880b-f6f003c14171\" name=\"files[]\" multiple disabled\n",
              "        style=\"border:none\" />\n",
              "     <output id=\"result-0318433a-2beb-4fcc-880b-f6f003c14171\">\n",
              "      Upload widget is only available when the cell has been executed in the\n",
              "      current browser session. Please rerun this cell to enable.\n",
              "      </output>\n",
              "      <script src=\"/nbextensions/google.colab/files.js\"></script> "
            ]
          },
          "metadata": {}
        },
        {
          "output_type": "stream",
          "name": "stdout",
          "text": [
            "Saving supermarket_sales.csv to supermarket_sales.csv\n"
          ]
        },
        {
          "output_type": "execute_result",
          "data": {
            "text/plain": [
              "{'supermarket_sales.csv': b'Invoice ID,City,Gender,Product line,Unit price,Quantity,Tax 5%,Total,Date\\r\\n750-67-8428,Yangon,Female,Health and beauty,74.69,7,26.1415,548.9715,1/5/2019\\r\\n226-31-3081,Naypyitaw,Female,Electronic accessories,15.28,5,3.82,80.22,3/8/2019\\r\\n631-41-3108,Yangon,Male,Home and lifestyle,46.33,7,16.2155,340.5255,3/3/2019\\r\\n123-19-1176,Yangon,Male,Health and beauty,58.22,8,23.288,489.048,1/27/2022\\r\\n377-73-7997,London,Feale,,,,30.2085,634.3785,2/8/2022\\r\\n377-93-7997,,,,,,30.2085,634.3785,2/8/2022\\r\\n373-73-7910,Yangon,Male,Sports and travel,86.31,7,30.2085,634.3785,2/8/2019\\r\\n699-14-3026,Naypyitaw,Male,Electronic accessories,85.39,7,29.8865,627.6165,3/25/2022\\r\\n355-53-5943,Yangon,Female,Electronic accessories,68.84,6,20.652,433.692,2/25/2019\\r\\n315-22-5665,Naypyitaw,Female,Home and lifestyle,73.56,10,36.78,772.38,2/24/2019\\r\\n665-32-9167,Yangon,Female,Health and beauty,36.26,2,3.626,76.146,1/10/2019\\r\\n692-92-5582,Mandalay,Female,Food and beverages,54.84,3,8.226,172.746,2/20/2019\\r\\n351-62-0822,Mandalay,Female,Fashion accessories,14.48,4,2.896,60.816,2/6/2019\\r\\n529-56-3974,Mandalay,Male,Electronic accessories,25.51,4,5.102,107.142,3/9/2019\\r\\n365-64-0515,Yangon,Female,Electronic accessories,46.95,5,11.7375,246.4875,2/12/2019\\r\\n252-56-2699,Yangon,Male,Food and beverages,43.19,10,21.595,453.495,2/7/2019\\r\\n829-34-3910,Yangon,Female,Health and beauty,71.38,10,35.69,749.49,3/29/2019\\r\\n299-46-1805,Mandalay,Female,Sports and travel,93.72,6,28.116,590.436,1/15/2019\\r\\n656-95-9349,Yangon,Female,Health and beauty,68.93,7,24.1255,506.6355,3/11/2019\\r\\n765-26-6951,Yangon,Male,Sports and travel,72.61,6,21.783,457.443,1/1/2019\\r\\n329-62-1586,Yangon,Male,Food and beverages,54.67,3,8.2005,172.2105,1/21/2019\\r\\n319-50-3348,Mandalay,Female,Home and lifestyle,40.3,2,4.03,84.63,3/11/2019\\r\\n300-71-4605,Naypyitaw,Male,Electronic accessories,86.04,5,21.51,451.71,2/25/2019\\r\\n371-85-5789,Mandalay,Male,Health and beauty,87.98,3,13.197,277.137,3/5/2019\\r\\n273-16-6619,Mandalay,Male,Home and lifestyle,33.2,2,3.32,69.72,3/15/2019\\r\\n636-48-8204,Yangon,Male,Electronic accessories,34.56,5,8.64,181.44,2/17/2019\\r\\n549-59-1358,Yangon,Male,Sports and travel,88.63,3,13.2945,279.1845,3/2/2019\\r\\n227-03-5010,Yangon,Female,Home and lifestyle,52.59,8,21.036,441.756,3/22/2019\\r\\n649-29-6775,Mandalay,Male,Fashion accessories,33.52,1,1.676,35.196,2/8/2019\\r\\n189-17-4241,Yangon,Female,Fashion accessories,87.67,2,8.767,184.107,3/10/2019\\r\\n145-94-9061,Mandalay,Female,Food and beverages,88.36,5,22.09,463.89,1/25/2019\\r\\n848-62-7243,Yangon,Male,Health and beauty,24.89,9,11.2005,235.2105,3/15/2019\\r\\n871-79-8483,Mandalay,Male,Fashion accessories,94.13,5,23.5325,494.1825,2/25/2019\\r\\n149-71-6266,Mandalay,Male,Sports and travel,78.07,9,35.1315,737.7615,1/28/2019\\r\\n640-49-2076,Mandalay,Male,Sports and travel,83.78,8,33.512,703.752,1/10/2019\\r\\n595-11-5460,Yangon,Male,Health and beauty,96.58,2,9.658,202.818,3/15/2019\\r\\n183-56-6882,Naypyitaw,Female,Food and beverages,99.42,4,19.884,417.564,2/6/2019\\r\\n232-16-2483,Naypyitaw,Female,Sports and travel,68.12,1,3.406,71.526,1/7/2019\\r\\n129-29-8530,Yangon,Male,Sports and travel,62.62,5,15.655,328.755,3/10/2019\\r\\n272-65-1806,Yangon,Female,Electronic accessories,60.88,9,27.396,575.316,1/15/2019\\r\\n333-73-7901,Naypyitaw,Female,Health and beauty,54.92,8,21.968,461.328,3/23/2019\\r\\n777-82-7220,Mandalay,Male,Home and lifestyle,30.12,8,12.048,253.008,3/3/2019\\r\\n280-35-5823,Mandalay,Female,Home and lifestyle,86.72,1,4.336,91.056,1/17/2019\\r\\n554-53-8700,Naypyitaw,Male,Home and lifestyle,56.11,2,5.611,117.831,2/2/2019\\r\\n354-25-5821,Mandalay,Female,Sports and travel,69.12,6,20.736,435.456,2/8/2019\\r\\n228-96-1411,Naypyitaw,Female,Food and beverages,98.7,8,39.48,829.08,3/4/2019\\r\\n617-15-4209,Naypyitaw,Male,Health and beauty,15.37,2,1.537,32.277,3/16/2019\\r\\n132-32-9879,Mandalay,Female,Electronic accessories,93.96,4,18.792,394.632,3/9/2019\\r\\n370-41-7321,Mandalay,Male,Health and beauty,56.69,9,25.5105,535.7205,2/27/2019\\r\\n727-46-3608,Mandalay,Female,Food and beverages,20.01,9,9.0045,189.0945,2/6/2019\\r\\n669-54-1719,Mandalay,Male,Electronic accessories,18.93,6,5.679,119.259,2/10/2019\\r\\n574-22-5561,Naypyitaw,Female,Fashion accessories,82.63,10,41.315,867.615,3/19/2019\\r\\n326-78-5178,Naypyitaw,Male,Food and beverages,91.4,7,31.99,671.79,2/3/2019\\r\\n162-48-8011,Yangon,Female,Food and beverages,44.59,5,11.1475,234.0975,2/10/2019\\r\\n616-24-2851,Mandalay,Female,Fashion accessories,17.87,4,3.574,75.054,3/22/2019\\r\\n778-71-5554,Naypyitaw,Male,Fashion accessories,15.43,1,0.7715,16.2015,1/25/2019\\r\\n242-55-6721,Mandalay,Male,Home and lifestyle,16.16,2,1.616,33.936,3/7/2019\\r\\n399-46-5918,Naypyitaw,Female,Electronic accessories,85.98,8,34.392,722.232,2/28/2019\\r\\n106-35-6779,Yangon,Male,Home and lifestyle,44.34,2,4.434,93.114,3/27/2019\\r\\n635-40-6220,Yangon,Male,Health and beauty,89.6,8,35.84,752.64,2/7/2019\\r\\n817-48-8732,Yangon,Female,Home and lifestyle,72.35,10,36.175,759.675,1/20/2019\\r\\n120-06-4233,Naypyitaw,Male,Electronic accessories,30.61,6,9.183,192.843,3/12/2019\\r\\n285-68-5083,Naypyitaw,Female,Sports and travel,24.74,3,3.711,77.931,2/15/2019\\r\\n803-83-5989,Naypyitaw,Male,Home and lifestyle,55.73,6,16.719,351.099,2/24/2019\\r\\n347-34-2234,Mandalay,Female,Sports and travel,55.07,9,24.7815,520.4115,2/3/2019\\r\\n199-75-8169,Yangon,Male,Sports and travel,15.81,10,7.905,166.005,3/6/2019\\r\\n853-23-2453,Mandalay,Male,Health and beauty,75.74,4,15.148,318.108,2/14/2019\\r\\n877-22-3308,Yangon,Male,Health and beauty,15.87,10,7.935,166.635,3/13/2019\\r\\n838-78-4295,Naypyitaw,Female,Health and beauty,33.47,2,3.347,70.287,2/10/2019\\r\\n109-28-2512,Mandalay,Female,Fashion accessories,97.61,6,29.283,614.943,1/7/2019\\r\\n232-11-3025,Yangon,Male,Sports and travel,78.77,10,39.385,827.085,1/24/2019\\r\\n382-03-4532,Yangon,Female,Health and beauty,18.33,1,0.9165,19.2465,2/2/2019\\r\\n393-65-2792,Naypyitaw,Male,Food and beverages,89.48,10,44.74,939.54,1/6/2019\\r\\n796-12-2025,Naypyitaw,Male,Fashion accessories,62.12,10,31.06,652.26,2/11/2019\\r\\n510-95-6347,Mandalay,Female,Food and beverages,48.52,3,7.278,152.838,3/5/2019\\r\\n841-35-6630,Naypyitaw,Female,Electronic accessories,75.91,6,22.773,478.233,3/9/2019\\r\\n287-21-9091,Yangon,Male,Home and lifestyle,74.67,9,33.6015,705.6315,1/22/2019\\r\\n732-94-0499,Naypyitaw,Female,Electronic accessories,41.65,10,20.825,437.325,1/13/2019\\r\\n263-10-3913,Naypyitaw,Male,Fashion accessories,49.04,9,22.068,463.428,1/9/2019\\r\\n381-20-0914,Yangon,Female,Fashion accessories,20.01,9,9.0045,189.0945,1/12/2019\\r\\n829-49-1914,Naypyitaw,Female,Food and beverages,78.31,10,39.155,822.255,3/5/2019\\r\\n756-01-7507,Naypyitaw,Female,Health and beauty,20.38,5,5.095,106.995,1/22/2019\\r\\n870-72-4431,Naypyitaw,Female,Health and beauty,99.19,6,29.757,624.897,1/21/2019\\r\\n847-38-7188,Mandalay,Female,Food and beverages,96.68,3,14.502,304.542,1/26/2019\\r\\n480-63-2856,Naypyitaw,Male,Food and beverages,19.25,8,7.7,161.7,1/23/2019\\r\\n787-56-0757,Naypyitaw,Female,Food and beverages,80.36,4,16.072,337.512,2/23/2019\\r\\n360-39-5055,Naypyitaw,Male,Sports and travel,48.91,5,12.2275,256.7775,3/9/2019\\r\\n730-50-9884,Naypyitaw,Female,Sports and travel,83.06,7,29.071,610.491,3/5/2019\\r\\n362-58-8315,Naypyitaw,Male,Fashion accessories,76.52,5,19.13,401.73,3/25/2019\\r\\n633-44-8566,Yangon,Male,Food and beverages,49.38,7,17.283,362.943,3/27/2019\\r\\n504-35-8843,Yangon,Male,Sports and travel,42.47,1,2.1235,44.5935,1/2/2019\\r\\n318-68-5053,Mandalay,Female,Health and beauty,76.99,6,23.097,485.037,2/27/2019\\r\\n565-80-5980,Naypyitaw,Female,Home and lifestyle,47.38,4,9.476,198.996,1/23/2019\\r\\n225-32-0908,Naypyitaw,Female,Sports and travel,44.86,10,22.43,471.03,1/26/2019\\r\\n873-51-0671,Yangon,Female,Sports and travel,21.98,7,7.693,161.553,1/10/2019\\r\\n152-08-9985,Mandalay,Male,Health and beauty,64.36,9,28.962,608.202,3/12/2019\\r\\n512-91-0811,Naypyitaw,Male,Health and beauty,89.75,1,4.4875,94.2375,2/6/2019\\r\\n594-34-4444,Yangon,Male,Electronic accessories,97.16,1,4.858,102.018,3/8/2019\\r\\n766-85-7061,Mandalay,Male,Health and beauty,87.87,10,43.935,922.635,3/29/2019\\r\\n871-39-9221,Naypyitaw,Female,Electronic accessories,12.45,6,3.735,78.435,2/9/2019\\r\\n865-92-6136,Yangon,Male,Food and beverages,52.75,3,7.9125,166.1625,3/23/2019\\r\\n733-01-9107,Mandalay,Male,Home and lifestyle,82.7,6,24.81,521.01,3/5/2019\\r\\n163-56-7055,Naypyitaw,Male,Fashion accessories,48.71,1,2.4355,51.1455,3/26/2019\\r\\n189-98-2939,Naypyitaw,Male,Fashion accessories,78.55,9,35.3475,742.2975,3/1/2019\\r\\n551-21-3069,Naypyitaw,Female,Electronic accessories,23.07,9,10.3815,218.0115,2/1/2019\\r\\n212-62-1842,Yangon,Male,Food and beverages,58.26,6,17.478,367.038,3/28/2019\\r\\n716-39-1409,Mandalay,Male,Health and beauty,30.35,7,10.6225,223.0725,3/19/2019\\r\\n704-48-3927,Yangon,Male,Electronic accessories,88.67,10,44.335,931.035,1/12/2019\\r\\n628-34-3388,Naypyitaw,Male,Fashion accessories,27.38,6,8.214,172.494,1/5/2019\\r\\n630-74-5166,Yangon,Male,Sports and travel,62.13,6,18.639,391.419,3/22/2019\\r\\n588-01-7461,Naypyitaw,Female,Food and beverages,33.98,9,15.291,321.111,3/24/2019\\r\\n861-77-0145,Naypyitaw,Male,Electronic accessories,81.97,10,40.985,860.685,3/3/2019\\r\\n479-26-8945,Mandalay,Female,Sports and travel,16.49,2,1.649,34.629,2/5/2019\\r\\n210-67-5886,Naypyitaw,Female,Health and beauty,98.21,3,14.7315,309.3615,2/5/2019\\r\\n227-78-1148,Mandalay,Female,Fashion accessories,72.84,7,25.494,535.374,2/15/2019\\r\\n645-44-1170,Yangon,Male,Home and lifestyle,58.07,9,26.1315,548.7615,1/19/2019\\r\\n237-01-6122,Naypyitaw,Female,Home and lifestyle,80.79,9,36.3555,763.4655,2/1/2019\\r\\n225-98-1496,Naypyitaw,Female,Fashion accessories,27.02,3,4.053,85.113,3/2/2019\\r\\n291-32-1427,Mandalay,Male,Fashion accessories,21.94,5,5.485,115.185,3/5/2019\\r\\n659-65-8956,Mandalay,Male,Fashion accessories,51.36,1,2.568,53.928,1/16/2019\\r\\n642-32-2990,Yangon,Female,Food and beverages,10.96,10,5.48,115.08,2/2/2019\\r\\n378-24-2715,Mandalay,Male,Home and lifestyle,53.44,2,5.344,112.224,1/20/2019\\r\\n638-60-7125,Yangon,Female,Electronic accessories,99.56,8,39.824,836.304,2/14/2019\\r\\n659-36-1684,Naypyitaw,Male,Sports and travel,57.12,7,19.992,419.832,1/12/2019\\r\\n219-22-9386,Mandalay,Male,Sports and travel,99.96,9,44.982,944.622,3/9/2019\\r\\n336-78-2147,Naypyitaw,Male,Home and lifestyle,63.91,8,25.564,536.844,3/13/2019\\r\\n268-27-6179,Mandalay,Female,Fashion accessories,56.47,8,22.588,474.348,3/9/2019\\r\\n668-90-8900,Yangon,Female,Home and lifestyle,93.69,7,32.7915,688.6215,3/10/2019\\r\\n870-54-3162,Yangon,Female,Sports and travel,32.25,5,8.0625,169.3125,1/27/2019\\r\\n189-08-9157,Naypyitaw,Female,Fashion accessories,31.73,9,14.2785,299.8485,1/8/2019\\r\\n663-86-9076,Naypyitaw,Female,Food and beverages,68.54,8,27.416,575.736,1/8/2019\\r\\n549-84-7482,Mandalay,Female,Sports and travel,90.28,9,40.626,853.146,2/8/2019\\r\\n191-10-6171,Mandalay,Female,Fashion accessories,39.62,7,13.867,291.207,1/25/2019\\r\\n802-70-5316,Yangon,Female,Sports and travel,92.13,6,27.639,580.419,3/6/2019\\r\\n695-51-0018,Mandalay,Female,Sports and travel,34.84,4,6.968,146.328,2/10/2019\\r\\n590-83-4591,Mandalay,Male,Electronic accessories,87.45,6,26.235,550.935,2/17/2019\\r\\n483-71-1164,Naypyitaw,Female,Health and beauty,81.3,6,24.39,512.19,3/8/2019\\r\\n597-78-7908,Naypyitaw,Male,Fashion accessories,90.22,3,13.533,284.193,2/18/2019\\r\\n700-81-1757,Yangon,Female,Electronic accessories,26.31,5,6.5775,138.1275,1/18/2019\\r\\n354-39-5160,Yangon,Female,Home and lifestyle,34.42,6,10.326,216.846,2/18/2019\\r\\n241-72-9525,Mandalay,Male,Sports and travel,51.91,10,25.955,545.055,2/16/2019\\r\\n575-30-8091,Yangon,Male,Sports and travel,72.5,8,29,609,3/16/2019\\r\\n731-81-9469,Naypyitaw,Female,Sports and travel,89.8,10,44.9,942.9,1/23/2019\\r\\n280-17-4359,Naypyitaw,Male,Health and beauty,90.5,10,45.25,950.25,1/25/2019\\r\\n338-65-2210,Naypyitaw,Female,Health and beauty,68.6,10,34.3,720.3,2/5/2019\\r\\n488-25-4221,Naypyitaw,Female,Food and beverages,30.41,1,1.5205,31.9305,2/22/2019\\r\\n239-10-7476,Yangon,Female,Home and lifestyle,77.95,6,23.385,491.085,1/21/2019\\r\\n458-41-1477,Naypyitaw,Female,Health and beauty,46.26,6,13.878,291.438,3/8/2019\\r\\n685-64-1609,Yangon,Female,Fashion accessories,30.14,10,15.07,316.47,2/10/2019\\r\\n568-90-5112,Naypyitaw,Male,Health and beauty,66.14,4,13.228,277.788,3/19/2019\\r\\n262-47-2794,Mandalay,Male,Home and lifestyle,71.86,8,28.744,603.624,3/6/2019\\r\\n238-49-0436,Yangon,Male,Health and beauty,32.46,8,12.984,272.664,3/27/2019\\r\\n608-96-3517,Mandalay,Female,Fashion accessories,91.54,4,18.308,384.468,3/23/2019\\r\\n584-86-7256,Naypyitaw,Male,Sports and travel,34.56,7,12.096,254.016,3/11/2019\\r\\n746-94-0204,Yangon,Male,Fashion accessories,83.24,9,37.458,786.618,1/29/2019\\r\\n214-17-6927,Naypyitaw,Female,Food and beverages,16.48,6,4.944,103.824,2/7/2019\\r\\n400-89-4171,Naypyitaw,Female,Sports and travel,80.97,8,32.388,680.148,1/28/2019\\r\\n782-95-9291,Yangon,Male,Food and beverages,92.29,5,23.0725,484.5225,2/20/2019\\r\\n279-74-2924,Mandalay,Male,Electronic accessories,72.17,1,3.6085,75.7785,1/4/2019\\r\\n307-85-2293,Mandalay,Male,Home and lifestyle,50.28,5,12.57,263.97,3/7/2019\\r\\n743-04-1105,Mandalay,Male,Health and beauty,97.22,9,43.749,918.729,3/30/2019\\r\\n423-57-2993,Mandalay,Male,Sports and travel,93.39,6,28.017,588.357,3/27/2019\\r\\n894-41-5205,Naypyitaw,Female,Food and beverages,43.18,8,17.272,362.712,1/19/2019\\r\\n275-28-0149,Yangon,Male,Sports and travel,63.69,1,3.1845,66.8745,2/25/2019\\r\\n101-17-6199,Yangon,Male,Food and beverages,45.79,7,16.0265,336.5565,3/13/2019\\r\\n423-80-0988,Naypyitaw,Male,Sports and travel,76.4,2,7.64,160.44,1/30/2019\\r\\n548-46-9322,Mandalay,Male,Food and beverages,39.9,10,19.95,418.95,2/20/2019\\r\\n505-02-0892,Mandalay,Male,Health and beauty,42.57,8,17.028,357.588,2/25/2019\\r\\n234-65-2137,Naypyitaw,Male,Home and lifestyle,95.58,10,47.79,1003.59,1/16/2019\\r\\n687-47-8271,Yangon,Male,Fashion accessories,98.98,10,49.49,1039.29,2/8/2019\\r\\n796-32-9050,Yangon,Male,Food and beverages,51.28,6,15.384,323.064,1/19/2019\\r\\n105-31-1824,Yangon,Male,Sports and travel,69.52,7,24.332,510.972,2/1/2019\\r\\n249-42-3782,Yangon,Male,Health and beauty,70.01,5,17.5025,367.5525,1/3/2019\\r\\n316-55-4634,Mandalay,Male,Food and beverages,80.05,5,20.0125,420.2625,1/26/2019\\r\\n733-33-4967,Naypyitaw,Male,Electronic accessories,20.85,8,8.34,175.14,3/3/2019\\r\\n608-27-6295,Mandalay,Male,Electronic accessories,52.89,6,15.867,333.207,1/19/2019\\r\\n414-12-7047,Mandalay,Male,Food and beverages,19.79,8,7.916,166.236,1/18/2019\\r\\n827-26-2100,Yangon,Male,Home and lifestyle,33.84,9,15.228,319.788,3/21/2019\\r\\n175-54-2529,Yangon,Male,Food and beverages,22.17,8,8.868,186.228,3/3/2019\\r\\n139-52-2867,Naypyitaw,Female,Fashion accessories,22.51,7,7.8785,165.4485,2/13/2019\\r\\n407-63-8975,Yangon,Male,Food and beverages,73.88,6,22.164,465.444,3/23/2019\\r\\n342-65-4817,Naypyitaw,Male,Health and beauty,86.8,3,13.02,273.42,1/28/2019\\r\\n130-98-8941,Naypyitaw,Male,Fashion accessories,64.26,7,22.491,472.311,2/9/2019\\r\\n434-83-9547,Naypyitaw,Male,Food and beverages,38.47,8,15.388,323.148,1/23/2019\\r\\n851-28-6367,Yangon,Male,Sports and travel,15.5,10,7.75,162.75,3/23/2019\\r\\n824-88-3614,Naypyitaw,Male,Health and beauty,34.31,8,13.724,288.204,1/25/2019\\r\\n586-25-0848,Yangon,Female,Sports and travel,12.34,7,4.319,90.699,3/4/2019\\r\\n895-66-0685,Mandalay,Male,Food and beverages,18.08,3,2.712,56.952,3/5/2019\\r\\n305-14-0245,Mandalay,Female,Home and lifestyle,94.49,8,37.796,793.716,3/3/2019\\r\\n732-04-5373,Mandalay,Male,Home and lifestyle,46.47,4,9.294,195.174,2/8/2019\\r\\n400-60-7251,Yangon,Male,Home and lifestyle,74.07,1,3.7035,77.7735,2/10/2019\\r\\n593-65-1552,Naypyitaw,Female,Home and lifestyle,69.81,4,13.962,293.202,1/28/2019\\r\\n284-34-9626,Mandalay,Female,Home and lifestyle,77.04,3,11.556,242.676,2/11/2019\\r\\n437-58-8131,Mandalay,Female,Fashion accessories,73.52,2,7.352,154.392,1/15/2019\\r\\n286-43-6208,Naypyitaw,Female,Food and beverages,87.8,9,39.51,829.71,3/16/2019\\r\\n641-43-2399,Mandalay,Male,Home and lifestyle,25.55,4,5.11,107.31,1/26/2019\\r\\n831-07-6050,Yangon,Male,Electronic accessories,32.71,5,8.1775,171.7275,3/19/2019\\r\\n556-86-3144,Naypyitaw,Female,Fashion accessories,74.29,1,3.7145,78.0045,1/13/2019\\r\\n848-24-9445,Naypyitaw,Male,Health and beauty,43.7,2,4.37,91.77,3/26/2019\\r\\n856-22-8149,Yangon,Female,Home and lifestyle,25.29,1,1.2645,26.5545,3/23/2019\\r\\n699-01-4164,Naypyitaw,Male,Health and beauty,41.5,4,8.3,174.3,3/12/2019\\r\\n420-11-4919,Naypyitaw,Female,Food and beverages,71.39,5,17.8475,374.7975,2/17/2019\\r\\n606-80-4905,Naypyitaw,Female,Sports and travel,19.15,6,5.745,120.645,1/29/2019\\r\\n542-41-0513,Mandalay,Female,Electronic accessories,57.49,4,11.498,241.458,3/15/2019\\r\\n426-39-2418,Naypyitaw,Male,Electronic accessories,61.41,7,21.4935,451.3635,1/14/2019\\r\\n875-46-5808,Mandalay,Male,Health and beauty,25.9,10,12.95,271.95,2/6/2019\\r\\n394-43-4238,Mandalay,Male,Home and lifestyle,17.77,5,4.4425,93.2925,2/15/2019\\r\\n749-24-1565,Yangon,Female,Health and beauty,23.03,9,10.3635,217.6335,1/3/2019\\r\\n672-51-8681,Naypyitaw,Female,Electronic accessories,66.65,9,29.9925,629.8425,1/4/2019\\r\\n263-87-5680,Naypyitaw,Female,Home and lifestyle,28.53,10,14.265,299.565,3/18/2019\\r\\n573-58-9734,Mandalay,Female,Fashion accessories,30.37,3,4.5555,95.6655,3/28/2019\\r\\n817-69-8206,Mandalay,Female,Electronic accessories,99.73,9,44.8785,942.4485,3/2/2019\\r\\n888-02-0338,Yangon,Male,Electronic accessories,26.23,9,11.8035,247.8735,1/25/2019\\r\\n677-11-0152,Naypyitaw,Female,Food and beverages,93.26,9,41.967,881.307,1/16/2019\\r\\n142-63-6033,Mandalay,Male,Home and lifestyle,92.36,5,23.09,484.89,3/20/2019\\r\\n656-16-1063,Mandalay,Male,Sports and travel,46.42,3,6.963,146.223,1/4/2019\\r\\n891-58-8335,Mandalay,Female,Sports and travel,29.61,7,10.3635,217.6335,3/11/2019\\r\\n802-43-8934,Yangon,Male,Home and lifestyle,18.28,1,0.914,19.194,3/22/2019\\r\\n560-30-5617,Mandalay,Female,Sports and travel,24.77,5,6.1925,130.0425,3/24/2019\\r\\n319-74-2561,Yangon,Female,Electronic accessories,94.64,3,14.196,298.116,2/21/2019\\r\\n549-03-9315,Mandalay,Male,Fashion accessories,94.87,8,37.948,796.908,2/12/2019\\r\\n790-29-1172,Mandalay,Female,Food and beverages,57.34,3,8.601,180.621,3/10/2019\\r\\n239-36-3640,Mandalay,Male,Electronic accessories,45.35,6,13.605,285.705,1/31/2019\\r\\n468-01-2051,Mandalay,Male,Food and beverages,62.08,7,21.728,456.288,3/6/2019\\r\\n389-25-3394,Naypyitaw,Male,Electronic accessories,11.81,5,2.9525,62.0025,2/17/2019\\r\\n279-62-1445,Naypyitaw,Female,Fashion accessories,12.54,1,0.627,13.167,2/21/2019\\r\\n213-72-6612,Yangon,Male,Food and beverages,43.25,2,4.325,90.825,3/20/2019\\r\\n746-68-6593,Naypyitaw,Female,Sports and travel,87.16,2,8.716,183.036,1/11/2019\\r\\n836-82-5858,Mandalay,Male,Health and beauty,69.37,9,31.2165,655.5465,1/26/2019\\r\\n583-72-1480,Naypyitaw,Male,Electronic accessories,37.06,4,7.412,155.652,1/31/2019\\r\\n466-61-5506,Mandalay,Female,Electronic accessories,90.7,6,27.21,571.41,2/26/2019\\r\\n721-86-6247,Yangon,Female,Home and lifestyle,63.42,8,25.368,532.728,3/11/2019\\r\\n289-65-5721,Mandalay,Female,Fashion accessories,81.37,2,8.137,170.877,1/26/2019\\r\\n545-46-3100,Mandalay,Female,Electronic accessories,10.59,3,1.5885,33.3585,3/12/2019\\r\\n418-02-5978,Mandalay,Female,Health and beauty,84.09,9,37.8405,794.6505,2/11/2019\\r\\n269-04-5750,Mandalay,Male,Fashion accessories,73.82,4,14.764,310.044,2/21/2019\\r\\n157-13-5295,Yangon,Male,Health and beauty,51.94,10,25.97,545.37,3/9/2019\\r\\n645-78-8093,Yangon,Female,Sports and travel,93.14,2,9.314,195.594,1/20/2019\\r\\n211-30-9270,Naypyitaw,Male,Health and beauty,17.41,5,4.3525,91.4025,1/28/2019\\r\\n755-12-3214,Naypyitaw,Female,Fashion accessories,44.22,5,11.055,232.155,3/5/2019\\r\\n346-84-3103,Mandalay,Female,Electronic accessories,13.22,5,3.305,69.405,3/2/2019\\r\\n478-06-7835,Yangon,Male,Fashion accessories,89.69,1,4.4845,94.1745,1/11/2019\\r\\n540-11-4336,Yangon,Male,Food and beverages,24.94,9,11.223,235.683,1/11/2019\\r\\n448-81-5016,Yangon,Male,Health and beauty,59.77,2,5.977,125.517,3/11/2019\\r\\n142-72-4741,Naypyitaw,Male,Fashion accessories,93.2,2,9.32,195.72,2/28/2019\\r\\n217-58-1179,Yangon,Male,Home and lifestyle,62.65,4,12.53,263.13,1/5/2019\\r\\n376-02-8238,Mandalay,Male,Home and lifestyle,93.87,8,37.548,788.508,2/2/2019\\r\\n530-90-9855,Yangon,Male,Home and lifestyle,47.59,8,19.036,399.756,1/1/2019\\r\\n866-05-7563,Mandalay,Female,Electronic accessories,81.4,3,12.21,256.41,2/9/2019\\r\\n604-70-6476,Yangon,Male,Fashion accessories,17.94,5,4.485,94.185,1/23/2019\\r\\n799-71-1548,Yangon,Male,Electronic accessories,77.72,4,15.544,326.424,1/7/2019\\r\\n785-13-7708,Mandalay,Male,Food and beverages,73.06,7,25.571,536.991,1/14/2019\\r\\n845-51-0542,Mandalay,Male,Food and beverages,46.55,9,20.9475,439.8975,2/2/2019\\r\\n662-47-5456,Naypyitaw,Male,Fashion accessories,35.19,10,17.595,369.495,3/17/2019\\r\\n883-17-4236,Naypyitaw,Female,Sports and travel,14.39,2,1.439,30.219,3/2/2019\\r\\n290-68-2984,Yangon,Male,Home and lifestyle,23.75,4,4.75,99.75,3/16/2019\\r\\n704-11-6354,Yangon,Male,Home and lifestyle,58.9,8,23.56,494.76,1/6/2019\\r\\n110-48-7033,Mandalay,Male,Fashion accessories,32.62,4,6.524,137.004,1/29/2019\\r\\n366-93-0948,Yangon,Male,Electronic accessories,66.35,1,3.3175,69.6675,1/31/2019\\r\\n729-09-9681,Yangon,Male,Home and lifestyle,25.91,6,7.773,163.233,2/5/2019\\r\\n151-16-1484,Yangon,Male,Electronic accessories,32.25,4,6.45,135.45,2/13/2019\\r\\n380-94-4661,Naypyitaw,Male,Electronic accessories,65.94,4,13.188,276.948,2/7/2019\\r\\n850-41-9669,Yangon,Female,Electronic accessories,75.06,9,33.777,709.317,3/19/2019\\r\\n821-07-3596,Naypyitaw,Female,Fashion accessories,16.45,4,3.29,69.09,3/7/2019\\r\\n655-85-5130,Mandalay,Female,Fashion accessories,38.3,4,7.66,160.86,3/13/2019\\r\\n447-15-7839,Yangon,Female,Sports and travel,22.24,10,11.12,233.52,2/9/2019\\r\\n154-74-7179,Mandalay,Male,Sports and travel,54.45,1,2.7225,57.1725,2/26/2019\\r\\n253-12-6086,Yangon,Female,Sports and travel,98.4,7,34.44,723.24,3/12/2019\\r\\n808-65-0703,Naypyitaw,Male,Home and lifestyle,35.47,4,7.094,148.974,3/14/2019\\r\\n571-94-0759,Mandalay,Female,Food and beverages,74.6,10,37.3,783.3,1/8/2019\\r\\n144-51-6085,Yangon,Male,Home and lifestyle,70.74,4,14.148,297.108,1/5/2019\\r\\n731-14-2199,Yangon,Female,Home and lifestyle,35.54,10,17.77,373.17,1/4/2019\\r\\n783-09-1637,Mandalay,Female,Sports and travel,67.43,5,16.8575,354.0075,3/6/2019\\r\\n687-15-1097,Naypyitaw,Female,Health and beauty,21.12,2,2.112,44.352,1/3/2019\\r\\n126-54-1082,Yangon,Female,Home and lifestyle,21.54,9,9.693,203.553,1/7/2019\\r\\n633-91-1052,Yangon,Female,Home and lifestyle,12.03,2,1.203,25.263,1/27/2019\\r\\n477-24-6490,Mandalay,Female,Health and beauty,99.71,6,29.913,628.173,2/26/2019\\r\\n566-19-5475,Mandalay,Male,Fashion accessories,47.97,7,16.7895,352.5795,1/7/2019\\r\\n526-86-8552,Naypyitaw,Female,Home and lifestyle,21.82,10,10.91,229.11,1/7/2019\\r\\n376-56-3573,Naypyitaw,Female,Fashion accessories,95.42,4,19.084,400.764,2/2/2019\\r\\n537-72-0426,Naypyitaw,Male,Fashion accessories,70.99,10,35.495,745.395,3/20/2019\\r\\n828-61-5674,Yangon,Male,Sports and travel,44.02,10,22.01,462.21,3/20/2019\\r\\n136-08-6195,Yangon,Female,Home and lifestyle,69.96,8,27.984,587.664,2/15/2019\\r\\n523-38-0215,Naypyitaw,Male,Home and lifestyle,37,1,1.85,38.85,3/6/2019\\r\\n490-29-1201,Yangon,Female,Sports and travel,15.34,1,0.767,16.107,1/6/2019\\r\\n667-92-0055,Yangon,Male,Health and beauty,99.83,6,29.949,628.929,3/4/2019\\r\\n565-17-3836,Yangon,Female,Health and beauty,47.67,4,9.534,200.214,3/12/2019\\r\\n498-41-1961,Mandalay,Male,Health and beauty,66.68,5,16.67,350.07,2/20/2019\\r\\n593-95-4461,Naypyitaw,Male,Home and lifestyle,74.86,1,3.743,78.603,3/24/2019\\r\\n226-71-3580,Naypyitaw,Female,Sports and travel,23.75,9,10.6875,224.4375,1/31/2019\\r\\n283-79-9594,Mandalay,Female,Food and beverages,48.51,7,16.9785,356.5485,1/25/2019\\r\\n430-60-3493,Yangon,Female,Home and lifestyle,94.88,7,33.208,697.368,2/3/2019\\r\\n139-20-0155,Mandalay,Male,Electronic accessories,40.3,10,20.15,423.15,1/24/2019\\r\\n558-80-4082,Naypyitaw,Male,Electronic accessories,27.85,7,9.7475,204.6975,3/14/2019\\r\\n278-97-7759,Yangon,Female,Electronic accessories,62.48,1,3.124,65.604,2/18/2019\\r\\n316-68-6352,Yangon,Female,Food and beverages,36.36,2,3.636,76.356,1/21/2019\\r\\n585-03-5943,Mandalay,Male,Health and beauty,18.11,10,9.055,190.155,3/13/2019\\r\\n211-05-0490,Naypyitaw,Female,Electronic accessories,51.92,5,12.98,272.58,3/3/2019\\r\\n727-75-6477,Naypyitaw,Male,Electronic accessories,28.84,4,5.768,121.128,3/29/2019\\r\\n744-02-5987,Yangon,Male,Home and lifestyle,78.38,6,23.514,493.794,1/10/2019\\r\\n307-83-9164,Yangon,Male,Home and lifestyle,60.01,4,12.002,252.042,1/25/2019\\r\\n779-06-0012,Naypyitaw,Female,Home and lifestyle,88.61,1,4.4305,93.0405,1/19/2019\\r\\n446-47-6729,Naypyitaw,Male,Fashion accessories,99.82,2,9.982,209.622,1/2/2019\\r\\n573-10-3877,Mandalay,Male,Health and beauty,39.01,1,1.9505,40.9605,3/12/2019\\r\\n735-06-4124,Naypyitaw,Male,Food and beverages,48.61,1,2.4305,51.0405,2/25/2019\\r\\n439-54-7422,Yangon,Female,Electronic accessories,51.19,4,10.238,214.998,3/18/2019\\r\\n396-90-2219,Mandalay,Female,Electronic accessories,14.96,8,5.984,125.664,2/23/2019\\r\\n411-77-0180,Yangon,Male,Electronic accessories,72.2,7,25.27,530.67,3/26/2019\\r\\n286-01-5402,Yangon,Female,Sports and travel,40.23,7,14.0805,295.6905,3/30/2019\\r\\n803-17-8013,Yangon,Female,Home and lifestyle,88.79,8,35.516,745.836,2/17/2019\\r\\n512-98-1403,Yangon,Female,Electronic accessories,26.48,3,3.972,83.412,3/21/2019\\r\\n848-42-2560,Yangon,Female,Fashion accessories,81.91,2,8.191,172.011,3/5/2019\\r\\n532-59-7201,Mandalay,Male,Sports and travel,79.93,6,23.979,503.559,1/31/2019\\r\\n181-94-6432,Naypyitaw,Male,Fashion accessories,69.33,2,6.933,145.593,2/5/2019\\r\\n870-76-1733,Yangon,Female,Food and beverages,14.23,5,3.5575,74.7075,2/1/2019\\r\\n423-64-4619,Yangon,Female,Health and beauty,15.55,9,6.9975,146.9475,3/7/2019\\r\\n227-07-4446,Naypyitaw,Female,Electronic accessories,78.13,10,39.065,820.365,2/10/2019\\r\\n174-36-3675,Naypyitaw,Male,Food and beverages,99.37,2,9.937,208.677,2/14/2019\\r\\n428-83-5800,Naypyitaw,Female,Food and beverages,21.08,3,3.162,66.402,2/9/2019\\r\\n603-07-0961,Naypyitaw,Male,Electronic accessories,74.79,5,18.6975,392.6475,1/10/2019\\r\\n704-20-4138,Naypyitaw,Female,Health and beauty,29.67,7,10.3845,218.0745,3/11/2019\\r\\n787-15-1757,Naypyitaw,Male,Health and beauty,44.07,4,8.814,185.094,2/18/2019\\r\\n649-11-3678,Naypyitaw,Female,Food and beverages,22.93,9,10.3185,216.6885,2/26/2019\\r\\n622-20-1945,Naypyitaw,Female,Health and beauty,39.42,1,1.971,41.391,1/18/2019\\r\\n372-94-8041,Yangon,Male,Health and beauty,15.26,6,4.578,96.138,2/15/2019\\r\\n563-91-7120,Yangon,Female,Fashion accessories,61.77,5,15.4425,324.2925,3/8/2019\\r\\n746-54-5508,Yangon,Male,Home and lifestyle,21.52,6,6.456,135.576,1/17/2019\\r\\n276-54-0879,Mandalay,Male,Sports and travel,97.74,4,19.548,410.508,3/12/2019\\r\\n815-11-1168,Yangon,Male,Food and beverages,99.78,5,24.945,523.845,3/9/2019\\r\\n719-76-3868,Naypyitaw,Male,Food and beverages,94.26,4,18.852,395.892,3/12/2019\\r\\n730-61-8757,Mandalay,Male,Health and beauty,51.13,4,10.226,214.746,1/25/2019\\r\\n340-66-0321,Yangon,Male,Electronic accessories,36.36,4,7.272,152.712,3/25/2019\\r\\n868-81-1752,Mandalay,Male,Home and lifestyle,22.02,9,9.909,208.089,2/7/2019\\r\\n634-97-8956,Yangon,Male,Food and beverages,32.9,3,4.935,103.635,2/17/2019\\r\\n566-71-1091,Yangon,Male,Fashion accessories,77.02,5,19.255,404.355,2/3/2019\\r\\n442-48-3607,Yangon,Male,Food and beverages,23.48,2,2.348,49.308,3/14/2019\\r\\n835-16-0096,Naypyitaw,Male,Sports and travel,14.7,5,3.675,77.175,3/24/2019\\r\\n527-09-6272,Yangon,Female,Electronic accessories,28.45,5,7.1125,149.3625,3/21/2019\\r\\n898-04-2717,Yangon,Male,Fashion accessories,76.4,9,34.38,721.98,3/19/2019\\r\\n692-27-8933,Mandalay,Female,Sports and travel,57.95,6,17.385,365.085,2/24/2019\\r\\n633-09-3463,Naypyitaw,Female,Electronic accessories,47.65,3,7.1475,150.0975,3/28/2019\\r\\n374-17-3652,Mandalay,Female,Food and beverages,42.82,9,19.269,404.649,2/5/2019\\r\\n378-07-7001,Mandalay,Male,Electronic accessories,48.09,3,7.2135,151.4835,2/10/2019\\r\\n433-75-6987,Mandalay,Female,Health and beauty,55.97,7,19.5895,411.3795,3/5/2019\\r\\n873-95-4984,Mandalay,Female,Health and beauty,76.9,7,26.915,565.215,2/15/2019\\r\\n416-13-5917,Naypyitaw,Female,Food and beverages,97.03,5,24.2575,509.4075,1/30/2019\\r\\n150-89-8043,Yangon,Male,Sports and travel,44.65,3,6.6975,140.6475,2/14/2019\\r\\n135-84-8019,Yangon,Female,Fashion accessories,77.93,9,35.0685,736.4385,2/27/2019\\r\\n441-94-7118,Yangon,Male,Electronic accessories,71.95,1,3.5975,75.5475,2/4/2019\\r\\n725-96-3778,Naypyitaw,Female,Home and lifestyle,89.25,8,35.7,749.7,1/20/2019\\r\\n531-80-1784,Yangon,Male,Electronic accessories,26.02,7,9.107,191.247,3/28/2019\\r\\n400-45-1220,Mandalay,Female,Health and beauty,13.5,10,6.75,141.75,2/27/2019\\r\\n860-79-0874,Naypyitaw,Female,Fashion accessories,99.3,10,49.65,1042.65,2/15/2019\\r\\n834-61-8124,Yangon,Male,Electronic accessories,51.69,7,18.0915,379.9215,1/26/2019\\r\\n115-99-4379,Mandalay,Female,Fashion accessories,54.73,7,19.1555,402.2655,3/14/2019\\r\\n565-67-6697,Mandalay,Male,Home and lifestyle,27,9,12.15,255.15,3/2/2019\\r\\n320-49-6392,Naypyitaw,Female,Electronic accessories,30.24,1,1.512,31.752,3/4/2019\\r\\n889-04-9723,Mandalay,Female,Food and beverages,89.14,4,17.828,374.388,1/7/2019\\r\\n632-90-0281,Naypyitaw,Female,Fashion accessories,37.55,10,18.775,394.275,3/8/2019\\r\\n554-42-2417,Naypyitaw,Female,Sports and travel,95.44,10,47.72,1002.12,1/9/2019\\r\\n453-63-6187,Mandalay,Male,Electronic accessories,27.5,3,4.125,86.625,3/1/2019\\r\\n578-80-7669,Mandalay,Male,Sports and travel,74.97,1,3.7485,78.7185,3/16/2019\\r\\n612-36-5536,Yangon,Male,Food and beverages,80.96,8,32.384,680.064,2/17/2019\\r\\n605-72-4132,Naypyitaw,Female,Food and beverages,94.47,8,37.788,793.548,2/27/2019\\r\\n471-41-2823,Naypyitaw,Male,Food and beverages,99.79,2,9.979,209.559,3/7/2019\\r\\n462-67-9126,Yangon,Male,Home and lifestyle,73.22,6,21.966,461.286,1/21/2019\\r\\n272-27-9238,Naypyitaw,Female,Food and beverages,41.24,4,8.248,173.208,2/19/2019\\r\\n834-25-9262,Naypyitaw,Female,Fashion accessories,81.68,4,16.336,343.056,1/6/2019\\r\\n122-61-9553,Naypyitaw,Female,Electronic accessories,51.32,9,23.094,484.974,3/14/2019\\r\\n468-88-0009,Yangon,Male,Home and lifestyle,65.94,4,13.188,276.948,3/24/2019\\r\\n613-59-9758,Naypyitaw,Female,Sports and travel,14.36,10,7.18,150.78,1/27/2019\\r\\n254-31-0042,Yangon,Male,Electronic accessories,21.5,9,9.675,203.175,3/6/2019\\r\\n201-86-2184,Mandalay,Female,Electronic accessories,26.26,7,9.191,193.011,2/2/2019\\r\\n261-12-8671,Mandalay,Female,Fashion accessories,60.96,2,6.096,128.016,1/25/2019\\r\\n730-70-9830,Naypyitaw,Female,Home and lifestyle,70.11,6,21.033,441.693,3/14/2019\\r\\n382-25-8917,Naypyitaw,Male,Fashion accessories,42.08,6,12.624,265.104,1/29/2019\\r\\n422-29-8786,Yangon,Female,Home and lifestyle,67.09,5,16.7725,352.2225,1/3/2019\\r\\n667-23-5919,Yangon,Female,Fashion accessories,96.7,5,24.175,507.675,1/14/2019\\r\\n843-01-4703,Mandalay,Female,Home and lifestyle,35.38,9,15.921,334.341,1/5/2019\\r\\n743-88-1662,Naypyitaw,Male,Sports and travel,95.49,7,33.4215,701.8515,2/22/2019\\r\\n595-86-2894,Naypyitaw,Male,Fashion accessories,96.98,4,19.396,407.316,2/6/2019\\r\\n182-69-8360,Mandalay,Female,Electronic accessories,23.65,4,4.73,99.33,1/30/2019\\r\\n289-15-7034,Yangon,Male,Sports and travel,82.33,4,16.466,345.786,1/11/2019\\r\\n462-78-5240,Naypyitaw,Female,Electronic accessories,26.61,2,2.661,55.881,3/19/2019\\r\\n868-52-7573,Mandalay,Female,Food and beverages,99.69,5,24.9225,523.3725,1/14/2019\\r\\n153-58-4872,Naypyitaw,Female,Food and beverages,74.89,4,14.978,314.538,3/1/2019\\r\\n662-72-2873,Yangon,Female,Food and beverages,40.94,5,10.235,214.935,1/6/2019\\r\\n525-88-7307,Mandalay,Male,Sports and travel,75.82,1,3.791,79.611,1/31/2019\\r\\n689-16-9784,Naypyitaw,Male,Food and beverages,46.77,6,14.031,294.651,3/11/2019\\r\\n725-56-0833,Yangon,Female,Health and beauty,32.32,10,16.16,339.36,2/20/2019\\r\\n394-41-0748,Naypyitaw,Female,Fashion accessories,54.07,9,24.3315,510.9615,1/27/2019\\r\\n596-42-3999,Mandalay,Male,Food and beverages,18.22,7,6.377,133.917,3/10/2019\\r\\n541-89-9860,Naypyitaw,Female,Fashion accessories,80.48,3,12.072,253.512,2/15/2019\\r\\n173-82-9529,Mandalay,Female,Fashion accessories,37.95,10,18.975,398.475,1/26/2019\\r\\n563-36-9814,Yangon,Male,Electronic accessories,76.82,1,3.841,80.661,2/13/2019\\r\\n308-47-4913,Yangon,Female,Sports and travel,52.26,10,26.13,548.73,3/9/2019\\r\\n885-17-6250,Yangon,Female,Health and beauty,79.74,1,3.987,83.727,3/6/2019\\r\\n726-27-2396,Yangon,Female,Health and beauty,77.5,5,19.375,406.875,1/24/2019\\r\\n316-01-3952,Yangon,Female,Food and beverages,54.27,5,13.5675,284.9175,3/13/2019\\r\\n760-54-1821,Mandalay,Male,Home and lifestyle,13.59,9,6.1155,128.4255,3/15/2019\\r\\n793-10-3222,Mandalay,Female,Health and beauty,41.06,6,12.318,258.678,3/5/2019\\r\\n346-12-3257,Mandalay,Male,Electronic accessories,19.24,9,8.658,181.818,3/4/2019\\r\\n110-05-6330,Naypyitaw,Female,Food and beverages,39.43,6,11.829,248.409,3/25/2019\\r\\n651-61-0874,Naypyitaw,Male,Home and lifestyle,46.22,4,9.244,194.124,3/12/2019\\r\\n236-86-3015,Naypyitaw,Male,Home and lifestyle,13.98,1,0.699,14.679,2/4/2019\\r\\n831-64-0259,Mandalay,Female,Fashion accessories,39.75,5,9.9375,208.6875,2/22/2019\\r\\n587-03-7455,Naypyitaw,Female,Fashion accessories,97.79,7,34.2265,718.7565,2/16/2019\\r\\n882-40-4577,Yangon,Male,Sports and travel,67.26,4,13.452,282.492,1/19/2019\\r\\n732-67-5346,Yangon,Male,Food and beverages,13.79,5,3.4475,72.3975,1/11/2019\\r\\n725-32-9708,Mandalay,Female,Fashion accessories,68.71,4,13.742,288.582,1/4/2019\\r\\n256-08-8343,Yangon,Female,Home and lifestyle,56.53,4,11.306,237.426,3/4/2019\\r\\n372-26-1506,Naypyitaw,Female,Fashion accessories,23.82,5,5.955,125.055,1/28/2019\\r\\n244-08-0162,Mandalay,Female,Health and beauty,34.21,10,17.105,359.205,1/2/2019\\r\\n569-71-4390,Mandalay,Male,Sports and travel,21.87,2,2.187,45.927,1/25/2019\\r\\n132-23-6451,Yangon,Male,Health and beauty,20.97,5,5.2425,110.0925,1/4/2019\\r\\n696-90-2548,Yangon,Male,Sports and travel,25.84,3,3.876,81.396,3/10/2019\\r\\n472-15-9636,Yangon,Male,Home and lifestyle,50.93,8,20.372,427.812,3/22/2019\\r\\n268-03-6164,Mandalay,Male,Health and beauty,96.11,1,4.8055,100.9155,1/25/2019\\r\\n750-57-9686,Naypyitaw,Female,Home and lifestyle,45.38,4,9.076,190.596,1/8/2019\\r\\n186-09-3669,Naypyitaw,Female,Health and beauty,81.51,1,4.0755,85.5855,1/22/2019\\r\\n848-07-1692,Mandalay,Female,Health and beauty,57.22,2,5.722,120.162,1/12/2019\\r\\n745-71-3520,Yangon,Female,Electronic accessories,25.22,7,8.827,185.367,2/4/2019\\r\\n266-76-6436,Naypyitaw,Female,Food and beverages,38.6,3,5.79,121.59,3/28/2019\\r\\n740-22-2500,Naypyitaw,Female,Electronic accessories,84.05,3,12.6075,264.7575,1/23/2019\\r\\n271-88-8734,Naypyitaw,Female,Fashion accessories,97.21,10,48.605,1020.705,2/8/2019\\r\\n301-81-8610,Mandalay,Male,Fashion accessories,25.42,8,10.168,213.528,3/19/2019\\r\\n489-64-4354,Naypyitaw,Male,Fashion accessories,16.28,1,0.814,17.094,3/9/2019\\r\\n198-84-7132,Mandalay,Male,Fashion accessories,40.61,9,18.2745,383.7645,1/2/2019\\r\\n269-10-8440,Yangon,Male,Health and beauty,53.17,7,18.6095,390.7995,1/21/2019\\r\\n650-98-6268,Mandalay,Female,Food and beverages,20.87,3,3.1305,65.7405,3/20/2019\\r\\n741-73-3559,Mandalay,Male,Sports and travel,67.27,5,16.8175,353.1675,2/27/2019\\r\\n325-77-6186,Yangon,Female,Home and lifestyle,90.65,10,45.325,951.825,3/8/2019\\r\\n286-75-7818,Mandalay,Male,Fashion accessories,69.08,2,6.908,145.068,1/31/2019\\r\\n574-57-9721,Naypyitaw,Male,Food and beverages,43.27,2,4.327,90.867,3/8/2019\\r\\n459-50-7686,Yangon,Female,Electronic accessories,23.46,6,7.038,147.798,1/13/2019\\r\\n616-87-0016,Mandalay,Male,Fashion accessories,95.54,7,33.439,702.219,3/9/2019\\r\\n837-55-7229,Mandalay,Female,Fashion accessories,47.44,1,2.372,49.812,2/22/2019\\r\\n751-69-0068,Naypyitaw,Male,Sports and travel,99.24,9,44.658,937.818,3/19/2019\\r\\n257-73-1380,Naypyitaw,Male,Sports and travel,82.93,4,16.586,348.306,1/20/2019\\r\\n345-08-4992,Yangon,Male,Home and lifestyle,33.99,6,10.197,214.137,3/8/2019\\r\\n549-96-4200,Naypyitaw,Male,Food and beverages,17.04,4,3.408,71.568,3/8/2019\\r\\n810-60-6344,Naypyitaw,Female,Electronic accessories,40.86,8,16.344,343.224,2/7/2019\\r\\n450-28-2866,Naypyitaw,Male,Food and beverages,17.44,5,4.36,91.56,1/15/2019\\r\\n394-30-3170,Mandalay,Female,Sports and travel,88.43,8,35.372,742.812,3/22/2019\\r\\n138-17-5109,Yangon,Female,Home and lifestyle,89.21,9,40.1445,843.0345,1/15/2019\\r\\n192-98-7397,Naypyitaw,Male,Fashion accessories,12.78,1,0.639,13.419,1/8/2019\\r\\n301-11-9629,Yangon,Female,Sports and travel,19.1,7,6.685,140.385,1/15/2019\\r\\n390-80-5128,Mandalay,Female,Health and beauty,19.15,1,0.9575,20.1075,1/28/2019\\r\\n235-46-8343,Naypyitaw,Male,Food and beverages,27.66,10,13.83,290.43,2/14/2019\\r\\n453-12-7053,Naypyitaw,Male,Fashion accessories,45.74,3,6.861,144.081,3/10/2019\\r\\n296-11-7041,Mandalay,Female,Health and beauty,27.07,1,1.3535,28.4235,1/12/2019\\r\\n449-27-2918,Mandalay,Female,Sports and travel,39.12,1,1.956,41.076,3/26/2019\\r\\n891-01-7034,Mandalay,Female,Electronic accessories,74.71,6,22.413,470.673,1/1/2019\\r\\n744-09-5786,Mandalay,Male,Electronic accessories,22.01,6,6.603,138.663,1/2/2019\\r\\n727-17-0390,Yangon,Female,Food and beverages,63.61,5,15.9025,333.9525,3/16/2019\\r\\n568-88-3448,Yangon,Male,Health and beauty,25,1,1.25,26.25,3/3/2019\\r\\n187-83-5490,Yangon,Male,Electronic accessories,20.77,4,4.154,87.234,1/31/2019\\r\\n767-54-1907,Mandalay,Female,Fashion accessories,29.56,5,7.39,155.19,2/13/2019\\r\\n710-46-4433,Mandalay,Female,Food and beverages,77.4,9,34.83,731.43,2/15/2019\\r\\n533-33-5337,Mandalay,Male,Electronic accessories,79.39,10,39.695,833.595,2/7/2019\\r\\n325-90-8763,Naypyitaw,Female,Electronic accessories,46.57,10,23.285,488.985,1/27/2019\\r\\n729-46-7422,Naypyitaw,Male,Food and beverages,35.89,1,1.7945,37.6845,2/23/2019\\r\\n639-76-1242,Naypyitaw,Male,Food and beverages,40.52,5,10.13,212.73,2/3/2019\\r\\n234-03-4040,Mandalay,Female,Food and beverages,73.05,10,36.525,767.025,3/3/2019\\r\\n326-71-2155,Naypyitaw,Female,Sports and travel,73.95,4,14.79,310.59,2/3/2019\\r\\n320-32-8842,Naypyitaw,Female,Food and beverages,22.62,1,1.131,23.751,3/17/2019\\r\\n470-32-9057,Yangon,Male,Food and beverages,51.34,5,12.835,269.535,3/28/2019\\r\\n878-30-2331,Naypyitaw,Female,Sports and travel,54.55,10,27.275,572.775,3/2/2019\\r\\n440-59-5691,Naypyitaw,Female,Health and beauty,37.15,7,13.0025,273.0525,2/8/2019\\r\\n554-53-3790,Mandalay,Male,Sports and travel,37.02,6,11.106,233.226,3/22/2019\\r\\n746-19-0921,Naypyitaw,Male,Food and beverages,21.58,1,1.079,22.659,2/9/2019\\r\\n233-34-0817,Naypyitaw,Female,Electronic accessories,98.84,1,4.942,103.782,2/15/2019\\r\\n767-05-1286,Naypyitaw,Female,Home and lifestyle,83.77,6,25.131,527.751,1/23/2019\\r\\n340-21-9136,Yangon,Female,Sports and travel,40.05,4,8.01,168.21,1/25/2019\\r\\n405-31-3305,Yangon,Male,Fashion accessories,43.13,10,21.565,452.865,2/2/2019\\r\\n731-59-7531,Mandalay,Male,Health and beauty,72.57,8,29.028,609.588,3/30/2019\\r\\n676-39-6028,Yangon,Female,Electronic accessories,64.44,5,16.11,338.31,3/30/2019\\r\\n502-05-1910,Yangon,Male,Health and beauty,65.18,3,9.777,205.317,2/25/2019\\r\\n485-30-8700,Yangon,Female,Sports and travel,33.26,5,8.315,174.615,3/18/2019\\r\\n598-47-9715,Naypyitaw,Male,Electronic accessories,84.07,4,16.814,353.094,3/7/2019\\r\\n701-69-8742,Mandalay,Male,Sports and travel,34.37,10,17.185,360.885,3/16/2019\\r\\n575-67-1508,Yangon,Male,Electronic accessories,38.6,1,1.93,40.53,1/29/2019\\r\\n541-08-3113,Naypyitaw,Male,Food and beverages,65.97,8,26.388,554.148,2/2/2019\\r\\n246-11-3901,Naypyitaw,Female,Electronic accessories,32.8,10,16.4,344.4,2/15/2019\\r\\n674-15-9296,Yangon,Male,Sports and travel,37.14,5,9.285,194.985,1/8/2019\\r\\n305-18-3552,Mandalay,Male,Home and lifestyle,60.38,10,30.19,633.99,2/12/2019\\r\\n493-65-6248,Naypyitaw,Female,Sports and travel,36.98,10,18.49,388.29,1/1/2019\\r\\n438-01-4015,Mandalay,Female,Sports and travel,49.49,4,9.898,207.858,3/21/2019\\r\\n709-58-4068,Mandalay,Female,Fashion accessories,41.09,10,20.545,431.445,2/28/2019\\r\\n795-49-7276,Yangon,Male,Fashion accessories,37.15,4,7.43,156.03,3/23/2019\\r\\n556-72-8512,Naypyitaw,Male,Home and lifestyle,22.96,1,1.148,24.108,1/30/2019\\r\\n627-95-3243,Mandalay,Female,Home and lifestyle,77.68,9,34.956,734.076,2/4/2019\\r\\n686-41-0932,Mandalay,Female,Fashion accessories,34.7,2,3.47,72.87,3/13/2019\\r\\n510-09-5628,Yangon,Female,Fashion accessories,19.66,10,9.83,206.43,3/15/2019\\r\\n608-04-3797,Mandalay,Female,Health and beauty,25.32,8,10.128,212.688,3/5/2019\\r\\n148-82-2527,Naypyitaw,Female,Home and lifestyle,12.12,10,6.06,127.26,3/5/2019\\r\\n437-53-3084,Mandalay,Male,Fashion accessories,99.89,2,9.989,209.769,2/26/2019\\r\\n632-32-4574,Mandalay,Male,Sports and travel,75.92,8,30.368,637.728,3/20/2019\\r\\n556-97-7101,Naypyitaw,Female,Electronic accessories,63.22,2,6.322,132.762,1/1/2019\\r\\n862-59-8517,Naypyitaw,Female,Food and beverages,90.24,6,27.072,568.512,1/27/2019\\r\\n401-18-8016,Mandalay,Female,Sports and travel,98.13,1,4.9065,103.0365,1/21/2019\\r\\n420-18-8989,Yangon,Female,Sports and travel,51.52,8,20.608,432.768,2/2/2019\\r\\n277-63-2961,Mandalay,Male,Sports and travel,73.97,1,3.6985,77.6685,2/3/2019\\r\\n573-98-8548,Naypyitaw,Female,Fashion accessories,31.9,1,1.595,33.495,1/5/2019\\r\\n620-02-2046,Naypyitaw,Male,Home and lifestyle,69.4,2,6.94,145.74,1/27/2019\\r\\n282-35-2475,Mandalay,Female,Sports and travel,93.31,2,9.331,195.951,3/25/2019\\r\\n511-54-3087,Mandalay,Male,Sports and travel,88.45,1,4.4225,92.8725,2/25/2019\\r\\n726-29-6793,Yangon,Male,Electronic accessories,24.18,8,9.672,203.112,1/28/2019\\r\\n387-49-4215,Mandalay,Female,Sports and travel,48.5,3,7.275,152.775,1/8/2019\\r\\n862-17-9201,Mandalay,Female,Food and beverages,84.05,6,25.215,529.515,1/29/2019\\r\\n291-21-5991,Mandalay,Male,Health and beauty,61.29,5,15.3225,321.7725,3/29/2019\\r\\n602-80-9671,Naypyitaw,Female,Home and lifestyle,15.95,6,4.785,100.485,2/9/2019\\r\\n347-72-6115,Mandalay,Female,Sports and travel,90.74,7,31.759,666.939,1/16/2019\\r\\n209-61-0206,Yangon,Female,Home and lifestyle,42.91,5,10.7275,225.2775,1/5/2019\\r\\n595-27-4851,Yangon,Female,Fashion accessories,54.28,7,18.998,398.958,1/27/2019\\r\\n189-52-0236,Yangon,Male,Electronic accessories,99.55,7,34.8425,731.6925,3/14/2019\\r\\n503-07-0930,Naypyitaw,Male,Sports and travel,58.39,7,20.4365,429.1665,2/23/2019\\r\\n413-20-6708,Naypyitaw,Female,Fashion accessories,51.47,1,2.5735,54.0435,3/18/2019\\r\\n425-85-2085,Mandalay,Male,Health and beauty,54.86,5,13.715,288.015,3/29/2019\\r\\n521-18-7827,Naypyitaw,Male,Home and lifestyle,39.39,5,9.8475,206.7975,1/22/2019\\r\\n220-28-1851,Yangon,Male,Home and lifestyle,34.73,2,3.473,72.933,3/1/2019\\r\\n600-38-9738,Naypyitaw,Male,Sports and travel,71.92,5,17.98,377.58,1/17/2019\\r\\n734-91-1155,Mandalay,Female,Electronic accessories,45.71,3,6.8565,143.9865,3/26/2019\\r\\n451-28-5717,Naypyitaw,Female,Home and lifestyle,83.17,6,24.951,523.971,3/20/2019\\r\\n609-81-8548,Yangon,Female,Home and lifestyle,37.44,6,11.232,235.872,2/6/2019\\r\\n133-14-7229,Naypyitaw,Male,Health and beauty,62.87,2,6.287,132.027,1/1/2019\\r\\n534-01-4457,Yangon,Male,Food and beverages,81.71,6,24.513,514.773,1/27/2019\\r\\n719-89-8991,Yangon,Female,Sports and travel,91.41,5,22.8525,479.9025,2/25/2019\\r\\n286-62-6248,Mandalay,Male,Fashion accessories,39.21,4,7.842,164.682,1/16/2019\\r\\n339-38-9982,Mandalay,Male,Fashion accessories,59.86,2,5.986,125.706,1/13/2019\\r\\n827-44-5872,Mandalay,Female,Food and beverages,54.36,10,27.18,570.78,2/7/2019\\r\\n827-77-7633,Yangon,Male,Sports and travel,98.09,9,44.1405,926.9505,2/17/2019\\r\\n287-83-1405,Yangon,Male,Health and beauty,25.43,6,7.629,160.209,2/12/2019\\r\\n435-13-4908,Yangon,Male,Fashion accessories,86.68,8,34.672,728.112,1/24/2019\\r\\n857-67-9057,Mandalay,Male,Electronic accessories,22.95,10,11.475,240.975,2/6/2019\\r\\n236-27-1144,Naypyitaw,Female,Food and beverages,16.31,9,7.3395,154.1295,3/26/2019\\r\\n892-05-6689,Yangon,Female,Home and lifestyle,28.32,5,7.08,148.68,3/11/2019\\r\\n583-41-4548,Naypyitaw,Male,Home and lifestyle,16.67,7,5.8345,122.5245,2/7/2019\\r\\n339-12-4827,Mandalay,Female,Fashion accessories,73.96,1,3.698,77.658,1/5/2019\\r\\n643-38-7867,Yangon,Male,Home and lifestyle,97.94,1,4.897,102.837,3/7/2019\\r\\n308-81-0538,Yangon,Female,Fashion accessories,73.05,4,14.61,306.81,2/25/2019\\r\\n358-88-9262,Naypyitaw,Female,Food and beverages,87.48,6,26.244,551.124,2/1/2019\\r\\n460-35-4390,Yangon,Male,Home and lifestyle,30.68,3,4.602,96.642,1/22/2019\\r\\n343-87-0864,Naypyitaw,Male,Health and beauty,75.88,1,3.794,79.674,1/3/2019\\r\\n173-50-1108,Mandalay,Female,Sports and travel,20.18,4,4.036,84.756,2/13/2019\\r\\n243-47-2663,Naypyitaw,Male,Electronic accessories,18.77,6,5.631,118.251,1/28/2019\\r\\n841-18-8232,Mandalay,Female,Food and beverages,71.2,1,3.56,74.76,1/5/2019\\r\\n701-23-5550,Mandalay,Male,Home and lifestyle,38.81,4,7.762,163.002,3/19/2019\\r\\n647-50-1224,Yangon,Female,Fashion accessories,29.42,10,14.71,308.91,1/12/2019\\r\\n541-48-8554,Yangon,Male,Sports and travel,60.95,9,27.4275,575.9775,1/7/2019\\r\\n539-21-7227,Mandalay,Female,Sports and travel,51.54,5,12.885,270.585,1/26/2019\\r\\n213-32-1216,Yangon,Female,Electronic accessories,66.06,6,19.818,416.178,1/23/2019\\r\\n747-58-7183,Mandalay,Male,Fashion accessories,57.27,3,8.5905,180.4005,2/9/2019\\r\\n582-52-8065,Mandalay,Female,Fashion accessories,54.31,9,24.4395,513.2295,2/22/2019\\r\\n210-57-1719,Mandalay,Female,Health and beauty,58.24,9,26.208,550.368,2/5/2019\\r\\n399-69-4630,Naypyitaw,Male,Electronic accessories,22.21,6,6.663,139.923,3/7/2019\\r\\n134-75-2619,Yangon,Male,Electronic accessories,19.32,7,6.762,142.002,3/25/2019\\r\\n356-44-8813,Mandalay,Male,Home and lifestyle,37.48,3,5.622,118.062,1/20/2019\\r\\n198-66-9832,Mandalay,Female,Fashion accessories,72.04,2,7.204,151.284,2/4/2019\\r\\n283-26-5248,Naypyitaw,Female,Food and beverages,98.52,10,49.26,1034.46,1/30/2019\\r\\n712-39-0363,Yangon,Male,Food and beverages,41.66,6,12.498,262.458,1/2/2019\\r\\n218-59-9410,Yangon,Female,Home and lifestyle,72.42,3,10.863,228.123,3/29/2019\\r\\n174-75-0888,Mandalay,Male,Electronic accessories,21.58,9,9.711,203.931,3/14/2019\\r\\n866-99-7614,Naypyitaw,Male,Food and beverages,89.2,10,44.6,936.6,2/11/2019\\r\\n134-54-4720,Mandalay,Female,Electronic accessories,42.42,8,16.968,356.328,1/30/2019\\r\\n760-90-2357,Yangon,Male,Electronic accessories,74.51,6,22.353,469.413,3/20/2019\\r\\n514-37-2845,Mandalay,Male,Fashion accessories,99.25,2,9.925,208.425,3/20/2019\\r\\n698-98-5964,Yangon,Female,Food and beverages,81.21,10,40.605,852.705,1/17/2019\\r\\n718-57-9773,Naypyitaw,Female,Sports and travel,49.33,10,24.665,517.965,2/3/2019\\r\\n651-88-7328,Yangon,Female,Fashion accessories,65.74,9,29.583,621.243,1/1/2019\\r\\n241-11-2261,Mandalay,Female,Fashion accessories,79.86,7,27.951,586.971,1/10/2019\\r\\n408-26-9866,Naypyitaw,Female,Sports and travel,73.98,7,25.893,543.753,3/2/2019\\r\\n834-83-1826,Mandalay,Female,Home and lifestyle,82.04,5,20.51,430.71,2/25/2019\\r\\n343-61-3544,Mandalay,Male,Sports and travel,26.67,10,13.335,280.035,1/29/2019\\r\\n239-48-4278,Yangon,Male,Food and beverages,10.13,7,3.5455,74.4555,3/10/2019\\r\\n355-34-6244,Mandalay,Male,Food and beverages,72.39,2,7.239,152.019,1/13/2019\\r\\n550-84-8664,Yangon,Male,Sports and travel,85.91,5,21.4775,451.0275,3/22/2019\\r\\n339-96-8318,Mandalay,Male,Fashion accessories,81.31,7,28.4585,597.6285,3/1/2019\\r\\n458-61-0011,Mandalay,Male,Food and beverages,60.3,4,12.06,253.26,2/20/2019\\r\\n592-34-6155,Naypyitaw,Male,Food and beverages,31.77,4,6.354,133.434,1/14/2019\\r\\n797-88-0493,Yangon,Female,Health and beauty,64.27,4,12.854,269.934,3/26/2019\\r\\n207-73-1363,Mandalay,Male,Health and beauty,69.51,2,6.951,145.971,3/1/2019\\r\\n390-31-6381,Naypyitaw,Male,Food and beverages,27.22,3,4.083,85.743,1/7/2019\\r\\n443-82-0585,Yangon,Female,Health and beauty,77.68,4,15.536,326.256,2/1/2019\\r\\n339-18-7061,Naypyitaw,Female,Fashion accessories,92.98,2,9.298,195.258,2/13/2019\\r\\n359-90-3665,Mandalay,Female,Fashion accessories,18.08,4,3.616,75.936,1/14/2019\\r\\n375-72-3056,Mandalay,Male,Sports and travel,63.06,3,9.459,198.639,1/19/2019\\r\\n127-47-6963,Yangon,Male,Health and beauty,51.71,4,10.342,217.182,3/9/2019\\r\\n278-86-2735,Yangon,Female,Food and beverages,52.34,3,7.851,164.871,3/27/2019\\r\\n695-28-6250,Yangon,Female,Sports and travel,43.06,5,10.765,226.065,2/4/2019\\r\\n379-17-6588,Naypyitaw,Male,Fashion accessories,59.61,10,29.805,625.905,3/14/2019\\r\\n227-50-3718,Yangon,Male,Health and beauty,14.62,5,3.655,76.755,3/4/2019\\r\\n302-15-2162,Naypyitaw,Male,Health and beauty,46.53,6,13.959,293.139,3/3/2019\\r\\n788-07-8452,Naypyitaw,Female,Home and lifestyle,24.24,7,8.484,178.164,1/27/2019\\r\\n560-49-6611,Yangon,Female,Sports and travel,45.58,1,2.279,47.859,2/7/2019\\r\\n880-35-0356,Yangon,Female,Sports and travel,75.2,3,11.28,236.88,2/5/2019\\r\\n585-11-6748,Mandalay,Male,Sports and travel,96.8,3,14.52,304.92,3/15/2019\\r\\n470-31-3286,Mandalay,Male,Health and beauty,14.82,3,2.223,46.683,3/1/2019\\r\\n152-68-2907,Yangon,Male,Food and beverages,52.2,3,7.83,164.43,2/15/2019\\r\\n123-35-4896,Naypyitaw,Female,Sports and travel,46.66,9,20.997,440.937,2/17/2019\\r\\n258-69-7810,Naypyitaw,Female,Fashion accessories,36.85,5,9.2125,193.4625,1/26/2019\\r\\n334-64-2006,Yangon,Female,Home and lifestyle,70.32,2,7.032,147.672,3/24/2019\\r\\n219-61-4139,Naypyitaw,Male,Electronic accessories,83.08,1,4.154,87.234,1/23/2019\\r\\n881-41-7302,Naypyitaw,Female,Fashion accessories,64.99,1,3.2495,68.2395,1/26/2019\\r\\n373-09-4567,Naypyitaw,Male,Food and beverages,77.56,10,38.78,814.38,3/14/2019\\r\\n642-30-6693,Mandalay,Female,Sports and travel,54.51,6,16.353,343.413,3/17/2019\\r\\n484-22-8230,Naypyitaw,Female,Fashion accessories,51.89,7,18.1615,381.3915,1/8/2019\\r\\n830-58-2383,Mandalay,Male,Home and lifestyle,31.75,4,6.35,133.35,2/8/2019\\r\\n559-98-9873,Yangon,Female,Fashion accessories,53.65,7,18.7775,394.3275,2/10/2019\\r\\n544-32-5024,Naypyitaw,Female,Food and beverages,49.79,4,9.958,209.118,3/28/2019\\r\\n318-12-0304,Yangon,Male,Fashion accessories,30.61,1,1.5305,32.1405,1/23/2019\\r\\n349-97-8902,Mandalay,Male,Food and beverages,57.89,2,5.789,121.569,1/17/2019\\r\\n421-95-9805,Yangon,Female,Electronic accessories,28.96,1,1.448,30.408,2/7/2019\\r\\n277-35-5865,Naypyitaw,Female,Food and beverages,98.97,9,44.5365,935.2665,3/9/2019\\r\\n789-23-8625,Mandalay,Male,Fashion accessories,93.22,3,13.983,293.643,1/24/2019\\r\\n284-54-4231,Naypyitaw,Male,Sports and travel,80.93,1,4.0465,84.9765,1/19/2019\\r\\n443-59-0061,Yangon,Male,Food and beverages,67.45,10,33.725,708.225,2/3/2019\\r\\n509-29-3912,Yangon,Female,Sports and travel,38.72,9,17.424,365.904,3/20/2019\\r\\n327-40-9673,Mandalay,Male,Sports and travel,72.6,6,21.78,457.38,1/13/2019\\r\\n840-19-2096,Naypyitaw,Male,Electronic accessories,87.91,5,21.9775,461.5275,3/14/2019\\r\\n828-46-6863,Yangon,Male,Food and beverages,98.53,6,29.559,620.739,1/23/2019\\r\\n641-96-3695,Naypyitaw,Female,Fashion accessories,43.46,6,13.038,273.798,2/7/2019\\r\\n420-97-3340,Yangon,Female,Food and beverages,71.68,3,10.752,225.792,3/28/2019\\r\\n436-54-4512,Yangon,Female,Food and beverages,91.61,1,4.5805,96.1905,3/20/2019\\r\\n670-79-6321,Mandalay,Female,Home and lifestyle,94.59,7,33.1065,695.2365,1/17/2019\\r\\n852-62-7105,Mandalay,Female,Fashion accessories,83.25,10,41.625,874.125,1/12/2019\\r\\n598-06-7312,Mandalay,Male,Fashion accessories,91.35,1,4.5675,95.9175,2/16/2019\\r\\n135-13-8269,Mandalay,Female,Food and beverages,78.88,2,7.888,165.648,1/26/2019\\r\\n816-57-2053,Yangon,Male,Sports and travel,60.87,2,6.087,127.827,3/9/2019\\r\\n628-90-8624,Mandalay,Male,Health and beauty,82.58,10,41.29,867.09,3/14/2019\\r\\n856-66-2701,Yangon,Male,Home and lifestyle,53.3,3,7.995,167.895,1/25/2019\\r\\n308-39-1707,Yangon,Female,Fashion accessories,12.09,1,0.6045,12.6945,1/26/2019\\r\\n149-61-1929,Yangon,Male,Sports and travel,64.19,10,32.095,673.995,1/19/2019\\r\\n655-07-2265,Yangon,Male,Electronic accessories,78.31,3,11.7465,246.6765,3/5/2019\\r\\n589-02-8023,Yangon,Male,Food and beverages,83.77,2,8.377,175.917,1/15/2019\\r\\n420-04-7590,Mandalay,Male,Home and lifestyle,99.7,3,14.955,314.055,3/18/2019\\r\\n182-88-2763,Mandalay,Male,Food and beverages,79.91,3,11.9865,251.7165,3/20/2019\\r\\n188-55-0967,Mandalay,Male,Health and beauty,66.47,10,33.235,697.935,1/15/2019\\r\\n610-46-4100,Yangon,Male,Health and beauty,28.95,7,10.1325,212.7825,3/3/2019\\r\\n318-81-2368,Naypyitaw,Female,Electronic accessories,46.2,1,2.31,48.51,3/19/2019\\r\\n364-33-8584,Mandalay,Female,Food and beverages,17.63,5,4.4075,92.5575,3/8/2019\\r\\n665-63-9737,Mandalay,Male,Fashion accessories,52.42,3,7.863,165.123,2/27/2019\\r\\n695-09-5146,Mandalay,Female,Food and beverages,98.79,3,14.8185,311.1885,2/23/2019\\r\\n155-45-3814,Naypyitaw,Female,Electronic accessories,88.55,8,35.42,743.82,3/19/2019\\r\\n794-32-2436,Mandalay,Male,Electronic accessories,55.67,2,5.567,116.907,3/27/2019\\r\\n131-15-8856,Naypyitaw,Female,Food and beverages,72.52,8,29.008,609.168,3/30/2019\\r\\n273-84-2164,Naypyitaw,Male,Electronic accessories,12.05,5,3.0125,63.2625,2/16/2019\\r\\n706-36-6154,Yangon,Male,Home and lifestyle,19.36,9,8.712,182.952,1/18/2019\\r\\n778-89-7974,Naypyitaw,Male,Health and beauty,70.21,6,21.063,442.323,3/30/2019\\r\\n574-31-8277,Mandalay,Male,Fashion accessories,33.63,1,1.6815,35.3115,3/20/2019\\r\\n859-71-0933,Naypyitaw,Female,Sports and travel,15.49,2,1.549,32.529,1/16/2019\\r\\n740-11-5257,Naypyitaw,Male,Electronic accessories,24.74,10,12.37,259.77,2/24/2019\\r\\n369-82-2676,Mandalay,Male,Electronic accessories,75.66,5,18.915,397.215,1/15/2019\\r\\n563-47-4072,Mandalay,Female,Health and beauty,55.81,6,16.743,351.603,1/22/2019\\r\\n742-04-5161,Yangon,Male,Home and lifestyle,72.78,10,36.39,764.19,2/3/2019\\r\\n149-15-7606,Mandalay,Male,Sports and travel,37.32,9,16.794,352.674,3/6/2019\\r\\n133-77-3154,Mandalay,Male,Fashion accessories,60.18,4,12.036,252.756,2/16/2019\\r\\n169-52-4504,Yangon,Female,Electronic accessories,15.69,3,2.3535,49.4235,3/14/2019\\r\\n250-81-7186,Naypyitaw,Female,Electronic accessories,99.69,1,4.9845,104.6745,2/27/2019\\r\\n562-12-5430,Yangon,Female,Fashion accessories,88.15,3,13.2225,277.6725,1/18/2019\\r\\n816-72-8853,Yangon,Female,Sports and travel,27.93,5,6.9825,146.6325,1/29/2019\\r\\n491-38-3499,Yangon,Male,Fashion accessories,55.45,1,2.7725,58.2225,2/26/2019\\r\\n322-02-2271,Mandalay,Female,Sports and travel,42.97,3,6.4455,135.3555,2/3/2019\\r\\n842-29-4695,Naypyitaw,Male,Sports and travel,17.14,7,5.999,125.979,1/16/2019\\r\\n725-67-2480,Mandalay,Female,Fashion accessories,58.75,6,17.625,370.125,3/24/2019\\r\\n641-51-2661,Naypyitaw,Female,Food and beverages,87.1,10,43.55,914.55,2/12/2019\\r\\n714-02-3114,Naypyitaw,Female,Sports and travel,98.8,2,9.88,207.48,2/21/2019\\r\\n518-17-2983,Yangon,Female,Fashion accessories,48.63,4,9.726,204.246,2/4/2019\\r\\n779-42-2410,Mandalay,Male,Food and beverages,57.74,3,8.661,181.881,2/20/2019\\r\\n190-14-3147,Mandalay,Female,Health and beauty,17.97,4,3.594,75.474,2/23/2019\\r\\n408-66-6712,Naypyitaw,Female,Health and beauty,47.71,6,14.313,300.573,2/16/2019\\r\\n679-22-6530,Mandalay,Female,Sports and travel,40.62,2,4.062,85.302,1/17/2019\\r\\n588-47-8641,Yangon,Male,Fashion accessories,56.04,10,28.02,588.42,1/14/2019\\r\\n642-61-4706,Mandalay,Male,Food and beverages,93.4,2,9.34,196.14,3/30/2019\\r\\n576-31-4774,Mandalay,Female,Health and beauty,73.41,3,11.0115,231.2415,3/2/2019\\r\\n556-41-6224,Naypyitaw,Male,Health and beauty,33.64,8,13.456,282.576,2/15/2019\\r\\n811-03-8790,Yangon,Female,Electronic accessories,45.48,10,22.74,477.54,3/1/2019\\r\\n242-11-3142,Mandalay,Male,Fashion accessories,83.77,2,8.377,175.917,2/24/2019\\r\\n752-23-3760,Mandalay,Female,Sports and travel,64.08,7,22.428,470.988,2/19/2019\\r\\n274-05-5470,Yangon,Female,Food and beverages,73.47,4,14.694,308.574,2/23/2019\\r\\n648-94-3045,Naypyitaw,Male,Health and beauty,58.95,10,29.475,618.975,2/7/2019\\r\\n130-67-4723,Yangon,Male,Food and beverages,48.5,6,14.55,305.55,1/11/2019\\r\\n528-87-5606,Mandalay,Female,Electronic accessories,39.48,1,1.974,41.454,2/12/2019\\r\\n320-85-2052,Mandalay,Female,Sports and travel,34.81,1,1.7405,36.5505,1/14/2019\\r\\n370-96-0655,Naypyitaw,Female,Fashion accessories,49.32,6,14.796,310.716,1/9/2019\\r\\n105-10-6182,Yangon,Male,Fashion accessories,21.48,2,2.148,45.108,2/27/2019\\r\\n510-79-0415,Mandalay,Female,Sports and travel,23.08,6,6.924,145.404,1/24/2019\\r\\n241-96-5076,Mandalay,Female,Home and lifestyle,49.1,2,4.91,103.11,1/8/2019\\r\\n767-97-4650,Mandalay,Female,Sports and travel,64.83,2,6.483,136.143,1/8/2019\\r\\n648-83-1321,Yangon,Male,Home and lifestyle,63.56,10,31.78,667.38,1/16/2019\\r\\n173-57-2300,Naypyitaw,Male,Sports and travel,72.88,2,7.288,153.048,3/13/2019\\r\\n305-03-2383,Yangon,Female,Food and beverages,67.1,3,10.065,211.365,2/15/2019\\r\\n394-55-6384,Naypyitaw,Female,Sports and travel,70.19,9,31.5855,663.2955,1/25/2019\\r\\n266-20-6657,Naypyitaw,Male,Food and beverages,55.04,7,19.264,404.544,3/12/2019\\r\\n689-05-1884,Yangon,Male,Health and beauty,48.63,10,24.315,510.615,3/4/2019\\r\\n196-01-2849,Naypyitaw,Female,Fashion accessories,73.38,7,25.683,539.343,2/10/2019\\r\\n372-62-5264,Naypyitaw,Female,Food and beverages,52.6,9,23.67,497.07,1/16/2019\\r\\n800-09-8606,Yangon,Female,Home and lifestyle,87.37,5,21.8425,458.6925,1/29/2019\\r\\n182-52-7000,Yangon,Female,Sports and travel,27.04,4,5.408,113.568,1/1/2019\\r\\n826-58-8051,Mandalay,Male,Home and lifestyle,62.19,4,12.438,261.198,1/6/2019\\r\\n868-06-0466,Yangon,Male,Electronic accessories,69.58,9,31.311,657.531,2/19/2019\\r\\n751-41-9720,Naypyitaw,Male,Home and lifestyle,97.5,10,48.75,1023.75,1/12/2019\\r\\n626-43-7888,Naypyitaw,Female,Fashion accessories,60.41,8,24.164,507.444,2/7/2019\\r\\n176-64-7711,Mandalay,Male,Food and beverages,32.32,3,4.848,101.808,3/27/2019\\r\\n191-29-0321,Mandalay,Female,Fashion accessories,19.77,10,9.885,207.585,2/27/2019\\r\\n729-06-2010,Mandalay,Male,Health and beauty,80.47,9,36.2115,760.4415,1/6/2019\\r\\n640-48-5028,Mandalay,Female,Home and lifestyle,88.39,9,39.7755,835.2855,3/2/2019\\r\\n186-79-9562,Mandalay,Male,Health and beauty,71.77,7,25.1195,527.5095,3/29/2019\\r\\n834-45-5519,Mandalay,Female,Electronic accessories,43,4,8.6,180.6,1/31/2019\\r\\n162-65-8559,Naypyitaw,Male,Food and beverages,68.98,1,3.449,72.429,1/21/2019\\r\\n760-27-5490,Naypyitaw,Male,Fashion accessories,15.62,8,6.248,131.208,1/20/2019\\r\\n445-30-9252,Yangon,Male,Sports and travel,25.7,3,3.855,80.955,1/17/2019\\r\\n786-94-2700,Yangon,Male,Food and beverages,80.62,6,24.186,507.906,2/28/2019\\r\\n728-88-7867,Naypyitaw,Female,Home and lifestyle,75.53,4,15.106,317.226,3/19/2019\\r\\n183-21-3799,Naypyitaw,Female,Electronic accessories,77.63,9,34.9335,733.6035,2/19/2019\\r\\n268-20-3585,Naypyitaw,Female,Health and beauty,13.85,9,6.2325,130.8825,2/4/2019\\r\\n735-32-9839,Naypyitaw,Male,Fashion accessories,98.7,8,39.48,829.08,1/31/2019\\r\\n258-92-7466,Yangon,Female,Health and beauty,35.68,5,8.92,187.32,2/6/2019\\r\\n857-16-3520,Yangon,Female,Fashion accessories,71.46,7,25.011,525.231,3/28/2019\\r\\n482-17-1179,Yangon,Male,Electronic accessories,11.94,3,1.791,37.611,1/19/2019\\r\\n788-21-5741,Yangon,Male,Fashion accessories,45.38,3,6.807,142.947,2/17/2019\\r\\n821-14-9046,Mandalay,Female,Fashion accessories,17.48,6,5.244,110.124,1/18/2019\\r\\n418-05-0656,Mandalay,Female,Fashion accessories,25.56,7,8.946,187.866,2/2/2019\\r\\n678-79-0726,Naypyitaw,Female,Sports and travel,90.63,9,40.7835,856.4535,1/18/2019\\r\\n776-68-1096,Mandalay,Male,Home and lifestyle,44.12,3,6.618,138.978,3/18/2019\\r\\n592-46-1692,Naypyitaw,Female,Food and beverages,36.77,7,12.8695,270.2595,1/11/2019\\r\\n434-35-9162,Mandalay,Male,Food and beverages,23.34,4,4.668,98.028,2/4/2019\\r\\n149-14-0304,Naypyitaw,Female,Health and beauty,28.5,8,11.4,239.4,2/6/2019\\r\\n442-44-6497,Naypyitaw,Male,Home and lifestyle,55.57,3,8.3355,175.0455,1/8/2019\\r\\n174-64-0215,Mandalay,Male,Sports and travel,69.74,10,34.87,732.27,3/5/2019\\r\\n210-74-9613,Naypyitaw,Male,Fashion accessories,97.26,4,19.452,408.492,3/16/2019\\r\\n299-29-0180,Mandalay,Female,Home and lifestyle,52.18,7,18.263,383.523,3/9/2019\\r\\n247-11-2470,Yangon,Female,Fashion accessories,22.32,4,4.464,93.744,3/1/2019\\r\\n635-28-5728,Yangon,Male,Health and beauty,56,3,8.4,176.4,2/28/2019\\r\\n756-49-0168,Yangon,Male,Fashion accessories,19.7,1,0.985,20.685,2/8/2019\\r\\n438-23-1242,Mandalay,Male,Electronic accessories,75.88,7,26.558,557.718,1/24/2019\\r\\n238-45-6950,Mandalay,Male,Food and beverages,53.72,1,2.686,56.406,3/1/2019\\r\\n607-65-2441,Naypyitaw,Male,Health and beauty,81.95,10,40.975,860.475,3/10/2019\\r\\n386-27-7606,Naypyitaw,Female,Home and lifestyle,81.2,7,28.42,596.82,3/23/2019\\r\\n137-63-5492,Naypyitaw,Male,Electronic accessories,58.76,10,29.38,616.98,1/29/2019\\r\\n197-77-7132,Mandalay,Male,Electronic accessories,91.56,8,36.624,769.104,1/12/2019\\r\\n805-86-0265,Yangon,Male,Home and lifestyle,93.96,9,42.282,887.922,3/20/2019\\r\\n733-29-1227,Naypyitaw,Male,Home and lifestyle,55.61,7,19.4635,408.7335,3/23/2019\\r\\n451-73-2711,Naypyitaw,Male,Food and beverages,84.83,1,4.2415,89.0715,1/14/2019\\r\\n373-14-0504,Yangon,Female,Sports and travel,71.63,2,7.163,150.423,2/12/2019\\r\\n546-80-2899,Yangon,Male,Home and lifestyle,37.69,2,3.769,79.149,2/20/2019\\r\\n345-68-9016,Naypyitaw,Female,Sports and travel,31.67,8,12.668,266.028,1/2/2019\\r\\n390-17-5806,Naypyitaw,Female,Food and beverages,38.42,1,1.921,40.341,2/2/2019\\r\\n457-13-1708,Mandalay,Male,Fashion accessories,65.23,10,32.615,684.915,1/8/2019\\r\\n664-14-2882,Naypyitaw,Female,Home and lifestyle,10.53,5,2.6325,55.2825,1/30/2019\\r\\n487-79-6868,Mandalay,Female,Home and lifestyle,12.29,9,5.5305,116.1405,3/26/2019\\r\\n314-23-4520,Naypyitaw,Male,Health and beauty,81.23,7,28.4305,597.0405,1/15/2019\\r\\n210-30-7976,Mandalay,Female,Fashion accessories,22.32,4,4.464,93.744,3/14/2019\\r\\n585-86-8361,Yangon,Female,Food and beverages,27.28,5,6.82,143.22,2/3/2019\\r\\n807-14-7833,Yangon,Female,Electronic accessories,17.42,10,8.71,182.91,2/22/2019\\r\\n775-72-1988,Mandalay,Male,Home and lifestyle,73.28,5,18.32,384.72,1/24/2019\\r\\n288-38-3758,Naypyitaw,Female,Fashion accessories,84.87,3,12.7305,267.3405,1/25/2019\\r\\n652-43-6591,Yangon,Female,Fashion accessories,97.29,8,38.916,817.236,3/9/2019\\r\\n785-96-0615,Mandalay,Female,Electronic accessories,35.74,8,14.296,300.216,2/17/2019\\r\\n406-46-7107,Yangon,Female,Home and lifestyle,96.52,6,28.956,608.076,1/11/2019\\r\\n250-17-5703,Yangon,Male,Food and beverages,18.85,10,9.425,197.925,2/27/2019\\r\\n156-95-3964,Yangon,Female,Food and beverages,55.39,4,11.078,232.638,3/25/2019\\r\\n842-40-8179,Mandalay,Female,Food and beverages,77.2,10,38.6,810.6,2/11/2019\\r\\n525-09-8450,Mandalay,Male,Electronic accessories,72.13,10,36.065,757.365,1/31/2019\\r\\n410-67-1709,Yangon,Female,Fashion accessories,63.88,8,25.552,536.592,1/20/2019\\r\\n587-73-4862,Yangon,Female,Health and beauty,10.69,5,2.6725,56.1225,3/26/2019\\r\\n787-87-2010,Yangon,Male,Health and beauty,55.5,4,11.1,233.1,1/20/2019\\r\\n593-14-4239,Mandalay,Female,Home and lifestyle,95.46,8,38.184,801.864,3/5/2019\\r\\n801-88-0346,Naypyitaw,Female,Fashion accessories,76.06,3,11.409,239.589,1/5/2019\\r\\n388-76-2555,Mandalay,Male,Sports and travel,13.69,6,4.107,86.247,2/13/2019\\r\\n711-31-1234,Mandalay,Female,Electronic accessories,95.64,4,19.128,401.688,3/16/2019\\r\\n886-54-6089,Yangon,Female,Home and lifestyle,11.43,6,3.429,72.009,1/15/2019\\r\\n707-32-7409,Mandalay,Female,Sports and travel,95.54,4,19.108,401.268,2/26/2019\\r\\n759-98-4285,Naypyitaw,Female,Health and beauty,85.87,7,30.0545,631.1445,2/27/2019\\r\\n201-63-8275,Naypyitaw,Female,Sports and travel,67.99,7,23.7965,499.7265,2/17/2019\\r\\n471-06-8611,Naypyitaw,Female,Food and beverages,52.42,1,2.621,55.041,2/6/2019\\r\\n200-16-5952,Naypyitaw,Male,Food and beverages,65.65,2,6.565,137.865,1/17/2019\\r\\n120-54-2248,Mandalay,Female,Food and beverages,28.86,5,7.215,151.515,1/22/2019\\r\\n102-77-2261,Naypyitaw,Male,Health and beauty,65.31,7,22.8585,480.0285,3/5/2019\\r\\n875-31-8302,Mandalay,Male,Sports and travel,93.38,1,4.669,98.049,1/3/2019\\r\\n102-06-2002,Naypyitaw,Male,Sports and travel,25.25,5,6.3125,132.5625,3/20/2019\\r\\n457-94-0464,Mandalay,Male,Electronic accessories,87.87,9,39.5415,830.3715,1/31/2019\\r\\n629-42-4133,Naypyitaw,Male,Health and beauty,21.8,8,8.72,183.12,2/19/2019\\r\\n534-53-3526,Yangon,Female,Sports and travel,94.76,4,18.952,397.992,2/11/2019\\r\\n307-04-2070,Yangon,Female,Fashion accessories,30.62,1,1.531,32.151,2/5/2019\\r\\n468-99-7231,Naypyitaw,Female,Home and lifestyle,44.01,8,17.604,369.684,3/3/2019\\r\\n516-77-6464,Naypyitaw,Female,Health and beauty,10.16,5,2.54,53.34,2/24/2019\\r\\n404-91-5964,Yangon,Male,Electronic accessories,74.58,7,26.103,548.163,2/4/2019\\r\\n886-77-9084,Naypyitaw,Male,Electronic accessories,71.89,8,28.756,603.876,2/19/2019\\r\\n790-38-4466,Naypyitaw,Female,Health and beauty,10.99,5,2.7475,57.6975,1/23/2019\\r\\n704-10-4056,Naypyitaw,Male,Health and beauty,60.47,3,9.0705,190.4805,1/14/2019\\r\\n497-37-6538,Yangon,Male,Sports and travel,58.91,7,20.6185,432.9885,1/17/2019\\r\\n651-96-5970,Yangon,Male,Fashion accessories,46.41,1,2.3205,48.7305,3/3/2019\\r\\n400-80-4065,Naypyitaw,Male,Health and beauty,68.55,4,13.71,287.91,2/15/2019\\r\\n744-16-7898,Mandalay,Female,Home and lifestyle,97.37,10,48.685,1022.385,1/15/2019\\r\\n263-12-5321,Yangon,Male,Electronic accessories,92.6,7,32.41,680.61,2/27/2019\\r\\n702-72-0487,Yangon,Female,Electronic accessories,46.61,2,4.661,97.881,2/26/2019\\r\\n605-83-1050,Mandalay,Male,Fashion accessories,27.18,2,2.718,57.078,3/15/2019\\r\\n443-60-9639,Naypyitaw,Female,Home and lifestyle,60.87,1,3.0435,63.9135,1/24/2019\\r\\n864-24-7918,Yangon,Female,Sports and travel,24.49,10,12.245,257.145,2/22/2019\\r\\n359-94-5395,Mandalay,Male,Health and beauty,92.78,1,4.639,97.419,3/15/2019\\r\\n401-09-4232,Naypyitaw,Male,Home and lifestyle,86.69,5,21.6725,455.1225,2/11/2019\\r\\n751-15-6198,Mandalay,Male,Sports and travel,23.01,6,6.903,144.963,1/12/2019\\r\\n324-41-6833,Naypyitaw,Female,Electronic accessories,30.2,8,12.08,253.68,3/3/2019\\r\\n474-33-8305,Naypyitaw,Male,Fashion accessories,67.39,7,23.5865,495.3165,3/23/2019\\r\\n759-29-9521,Yangon,Female,Fashion accessories,48.96,9,22.032,462.672,3/4/2019\\r\\n831-81-6575,Mandalay,Female,Electronic accessories,75.59,9,34.0155,714.3255,2/23/2019\\r\\n220-68-6701,Yangon,Female,Home and lifestyle,77.47,4,15.494,325.374,3/17/2019\\r\\n618-34-8551,Yangon,Female,Sports and travel,93.18,2,9.318,195.678,1/16/2019\\r\\n257-60-7754,Yangon,Female,Electronic accessories,50.23,4,10.046,210.966,1/8/2019\\r\\n559-61-5987,Mandalay,Female,Health and beauty,17.75,1,0.8875,18.6375,1/14/2019\\r\\n189-55-2313,Naypyitaw,Female,Fashion accessories,62.18,10,31.09,652.89,1/31/2019\\r\\n565-91-4567,Mandalay,Male,Health and beauty,10.75,8,4.3,90.3,3/15/2019\\r\\n380-60-5336,Yangon,Female,Electronic accessories,40.26,10,20.13,422.73,2/24/2019\\r\\n815-04-6282,Naypyitaw,Female,Sports and travel,64.97,5,16.2425,341.0925,2/8/2019\\r\\n674-56-6360,Yangon,Male,Electronic accessories,95.15,1,4.7575,99.9075,3/22/2019\\r\\n778-34-2523,Yangon,Female,Electronic accessories,48.62,8,19.448,408.408,1/24/2019\\r\\n499-27-7781,Mandalay,Female,Food and beverages,53.21,8,21.284,446.964,3/14/2019\\r\\n477-59-2456,Naypyitaw,Female,Fashion accessories,45.44,7,15.904,333.984,1/23/2019\\r\\n832-51-6761,Yangon,Male,Food and beverages,33.88,8,13.552,284.592,1/19/2019\\r\\n869-11-3082,Mandalay,Male,Health and beauty,96.16,4,19.232,403.872,1/27/2019\\r\\n190-59-3964,Mandalay,Male,Food and beverages,47.16,5,11.79,247.59,2/3/2019\\r\\n366-43-6862,Mandalay,Male,Electronic accessories,52.89,4,10.578,222.138,3/25/2019\\r\\n186-43-8965,Yangon,Female,Home and lifestyle,47.68,2,4.768,100.128,2/24/2019\\r\\n784-21-9238,Naypyitaw,Male,Sports and travel,10.17,1,0.5085,10.6785,2/7/2019\\r\\n276-75-6884,Yangon,Female,Health and beauty,68.71,3,10.3065,216.4365,3/4/2019\\r\\n109-86-4363,Mandalay,Female,Sports and travel,60.08,7,21.028,441.588,2/14/2019\\r\\n569-76-2760,Yangon,Female,Sports and travel,22.01,4,4.402,92.442,1/29/2019\\r\\n222-42-0244,Mandalay,Female,Health and beauty,72.11,9,32.4495,681.4395,1/28/2019\\r\\n760-53-9233,Yangon,Male,Fashion accessories,41.28,3,6.192,130.032,3/26/2019\\r\\n538-22-0304,Naypyitaw,Male,Electronic accessories,64.95,10,32.475,681.975,3/24/2019\\r\\n416-17-9926,Yangon,Female,Electronic accessories,74.22,10,37.11,779.31,1/1/2019\\r\\n237-44-6163,Yangon,Male,Electronic accessories,10.56,8,4.224,88.704,1/24/2019\\r\\n636-17-0325,Mandalay,Male,Health and beauty,62.57,4,12.514,262.794,2/25/2019\\r\\n343-75-9322,Mandalay,Female,Sports and travel,11.85,8,4.74,99.54,1/9/2019\\r\\n528-14-9470,Yangon,Male,Health and beauty,91.3,1,4.565,95.865,2/14/2019\\r\\n427-45-9297,Mandalay,Female,Home and lifestyle,40.73,7,14.2555,299.3655,3/12/2019\\r\\n807-34-3742,Yangon,Male,Fashion accessories,52.38,1,2.619,54.999,3/26/2019\\r\\n288-62-1085,Yangon,Male,Fashion accessories,38.54,5,9.635,202.335,1/9/2019\\r\\n670-71-7306,Mandalay,Male,Sports and travel,44.63,6,13.389,281.169,1/2/2019\\r\\n660-29-7083,Naypyitaw,Male,Electronic accessories,55.87,10,27.935,586.635,1/15/2019\\r\\n271-77-8740,Naypyitaw,Female,Sports and travel,29.22,6,8.766,184.086,1/1/2019\\r\\n497-36-0989,Yangon,Male,Fashion accessories,51.94,3,7.791,163.611,2/15/2019\\r\\n291-59-1384,Mandalay,Male,Electronic accessories,60.3,1,3.015,63.315,2/28/2019\\r\\n860-73-6466,Yangon,Female,Sports and travel,39.47,2,3.947,82.887,3/2/2019\\r\\n549-23-9016,Naypyitaw,Female,Food and beverages,14.87,2,1.487,31.227,2/13/2019\\r\\n896-34-0956,Yangon,Male,Fashion accessories,21.32,1,1.066,22.386,1/26/2019\\r\\n804-38-3935,Yangon,Male,Electronic accessories,93.78,3,14.067,295.407,1/30/2019\\r\\n585-90-0249,Yangon,Male,Electronic accessories,73.26,1,3.663,76.923,1/27/2019\\r\\n862-29-5914,Naypyitaw,Female,Sports and travel,22.38,1,1.119,23.499,1/30/2019\\r\\n845-94-6841,Naypyitaw,Female,Food and beverages,72.88,9,32.796,688.716,1/8/2019\\r\\n125-45-2293,Yangon,Female,Fashion accessories,99.1,6,29.73,624.33,1/19/2019\\r\\n843-73-4724,Yangon,Male,Fashion accessories,74.1,1,3.705,77.805,1/25/2019\\r\\n409-33-9708,Yangon,Female,Fashion accessories,98.48,2,9.848,206.808,2/19/2019\\r\\n658-66-3967,Naypyitaw,Male,Health and beauty,53.19,7,18.6165,390.9465,1/14/2019\\r\\n866-70-2814,Mandalay,Female,Electronic accessories,52.79,10,26.395,554.295,2/25/2019\\r\\n160-22-2687,Yangon,Female,Health and beauty,95.95,5,23.9875,503.7375,1/23/2019\\r\\n895-03-6665,Mandalay,Female,Fashion accessories,36.51,9,16.4295,345.0195,2/16/2019\\r\\n770-42-8960,Mandalay,Male,Food and beverages,21.12,8,8.448,177.408,1/1/2019\\r\\n748-45-2862,Yangon,Female,Home and lifestyle,28.31,4,5.662,118.902,3/7/2019\\r\\n234-36-2483,Mandalay,Male,Health and beauty,57.59,6,17.277,362.817,2/15/2019\\r\\n316-66-3011,Yangon,Female,Food and beverages,47.63,9,21.4335,450.1035,1/23/2019\\r\\n848-95-6252,Naypyitaw,Female,Home and lifestyle,86.27,1,4.3135,90.5835,2/20/2019\\r\\n840-76-5966,Yangon,Male,Sports and travel,12.76,2,1.276,26.796,1/8/2019\\r\\n152-03-4217,Mandalay,Female,Home and lifestyle,11.28,9,5.076,106.596,3/17/2019\\r\\n533-66-5566,Mandalay,Female,Home and lifestyle,51.07,7,17.8745,375.3645,1/12/2019\\r\\n124-31-1458,Yangon,Female,Electronic accessories,79.59,3,11.9385,250.7085,1/8/2019\\r\\n176-78-1170,Naypyitaw,Male,Health and beauty,33.81,3,5.0715,106.5015,1/26/2019\\r\\n361-59-0574,Mandalay,Male,Sports and travel,90.53,8,36.212,760.452,3/15/2019\\r\\n101-81-4070,Naypyitaw,Female,Health and beauty,62.82,2,6.282,131.922,1/17/2019\\r\\n631-34-1880,Naypyitaw,Male,Food and beverages,24.31,3,3.6465,76.5765,1/8/2019\\r\\n852-82-2749,Yangon,Male,Sports and travel,64.59,4,12.918,271.278,1/6/2019\\r\\n873-14-6353,Yangon,Male,Food and beverages,24.82,7,8.687,182.427,2/16/2019\\r\\n584-66-4073,Naypyitaw,Male,Fashion accessories,56.5,1,2.825,59.325,3/13/2019\\r\\n544-55-9589,Mandalay,Female,Electronic accessories,21.43,10,10.715,225.015,1/28/2019\\r\\n166-19-2553,Yangon,Male,Sports and travel,89.06,6,26.718,561.078,1/18/2019\\r\\n737-88-5876,Yangon,Male,Home and lifestyle,23.29,4,4.658,97.818,3/19/2019\\r\\n154-87-7367,Naypyitaw,Male,Home and lifestyle,65.26,8,26.104,548.184,3/15/2019\\r\\n885-56-0389,Naypyitaw,Male,Fashion accessories,52.35,1,2.6175,54.9675,2/12/2019\\r\\n608-05-3804,Mandalay,Male,Electronic accessories,39.75,1,1.9875,41.7375,2/25/2019\\r\\n448-61-3783,Yangon,Female,Electronic accessories,90.02,8,36.008,756.168,3/21/2019\\r\\n761-49-0439,Mandalay,Female,Electronic accessories,12.1,8,4.84,101.64,1/19/2019\\r\\n490-95-0021,Mandalay,Female,Food and beverages,33.21,10,16.605,348.705,1/8/2019\\r\\n115-38-7388,Naypyitaw,Female,Fashion accessories,10.18,8,4.072,85.512,3/30/2019\\r\\n311-13-6971,Mandalay,Male,Sports and travel,31.99,10,15.995,335.895,2/20/2019\\r\\n291-55-6563,Yangon,Female,Home and lifestyle,34.42,6,10.326,216.846,3/30/2019\\r\\n548-48-3156,Yangon,Female,Food and beverages,83.34,2,8.334,175.014,3/19/2019\\r\\n460-93-5834,Yangon,Male,Sports and travel,45.58,7,15.953,335.013,1/13/2019\\r\\n325-89-4209,Yangon,Male,Food and beverages,87.9,1,4.395,92.295,2/5/2019\\r\\n884-80-6021,Yangon,Female,Electronic accessories,73.47,10,36.735,771.435,3/23/2019\\r\\n137-74-8729,Naypyitaw,Female,Fashion accessories,12.19,8,4.876,102.396,3/13/2019\\r\\n880-46-5796,Yangon,Male,Sports and travel,76.92,10,38.46,807.66,3/17/2019\\r\\n389-70-2397,Naypyitaw,Female,Health and beauty,83.66,5,20.915,439.215,2/21/2019\\r\\n114-35-5271,Mandalay,Female,Electronic accessories,57.91,8,23.164,486.444,2/7/2019\\r\\n607-76-6216,Naypyitaw,Female,Fashion accessories,92.49,5,23.1225,485.5725,3/2/2019\\r\\n715-20-1673,Mandalay,Male,Electronic accessories,28.38,5,7.095,148.995,3/6/2019\\r\\n811-35-1094,Mandalay,Male,Electronic accessories,50.45,6,15.135,317.835,2/6/2019\\r\\n699-88-1972,Mandalay,Male,Health and beauty,99.16,8,39.664,832.944,1/28/2019\\r\\n781-84-8059,Naypyitaw,Male,Fashion accessories,60.74,7,21.259,446.439,1/18/2019\\r\\n409-49-6995,Naypyitaw,Female,Food and beverages,47.27,6,14.181,297.801,2/5/2019\\r\\n725-54-0677,Naypyitaw,Male,Health and beauty,85.6,7,29.96,629.16,3/2/2019\\r\\n146-09-5432,Yangon,Male,Food and beverages,35.04,9,15.768,331.128,2/9/2019\\r\\n377-79-7592,Naypyitaw,Female,Electronic accessories,44.84,9,20.178,423.738,1/14/2019\\r\\n509-10-0516,Mandalay,Male,Home and lifestyle,45.97,4,9.194,193.074,2/9/2019\\r\\n595-94-9924,Yangon,Female,Health and beauty,27.73,5,6.9325,145.5825,3/26/2019\\r\\n865-41-9075,Yangon,Male,Food and beverages,11.53,7,4.0355,84.7455,1/28/2019\\r\\n545-07-8534,Naypyitaw,Female,Health and beauty,58.32,2,5.832,122.472,2/14/2019\\r\\n118-62-1812,Naypyitaw,Female,Home and lifestyle,78.38,4,15.676,329.196,3/24/2019\\r\\n450-42-3339,Naypyitaw,Male,Health and beauty,84.61,10,42.305,888.405,2/9/2019\\r\\n851-98-3555,Mandalay,Female,Health and beauty,82.88,5,20.72,435.12,3/24/2019\\r\\n186-71-5196,Yangon,Female,Food and beverages,79.54,2,7.954,167.034,3/27/2019\\r\\n624-01-8356,Mandalay,Female,Home and lifestyle,49.01,10,24.505,514.605,1/27/2019\\r\\n313-66-9943,Mandalay,Female,Food and beverages,29.15,3,4.3725,91.8225,3/27/2019\\r\\n151-27-8496,Naypyitaw,Female,Electronic accessories,56.13,4,11.226,235.746,1/19/2019\\r\\n453-33-6436,Yangon,Female,Home and lifestyle,93.12,8,37.248,782.208,2/7/2019\\r\\n522-57-8364,Yangon,Male,Fashion accessories,51.34,8,20.536,431.256,1/31/2019\\r\\n459-45-2396,Yangon,Female,Food and beverages,99.6,3,14.94,313.74,2/25/2019\\r\\n717-96-4189,Naypyitaw,Female,Electronic accessories,35.49,6,10.647,223.587,2/2/2019\\r\\n722-13-2115,Naypyitaw,Male,Sports and travel,42.85,1,2.1425,44.9925,3/14/2019\\r\\n749-81-8133,Yangon,Female,Fashion accessories,94.67,4,18.934,397.614,3/11/2019\\r\\n777-67-2495,Mandalay,Male,Home and lifestyle,68.97,3,10.3455,217.2555,2/22/2019\\r\\n636-98-3364,Mandalay,Female,Electronic accessories,26.26,3,3.939,82.719,3/2/2019\\r\\n246-55-6923,Naypyitaw,Female,Home and lifestyle,35.79,9,16.1055,338.2155,3/10/2019\\r\\n181-82-6255,Mandalay,Female,Home and lifestyle,16.37,6,4.911,103.131,2/8/2019\\r\\n838-02-1821,Naypyitaw,Female,Home and lifestyle,12.73,2,1.273,26.733,2/22/2019\\r\\n887-42-0517,Naypyitaw,Female,Sports and travel,83.14,7,29.099,611.079,1/10/2019\\r\\n457-12-0244,Naypyitaw,Female,Sports and travel,35.22,6,10.566,221.886,3/14/2019\\r\\n226-34-0034,Mandalay,Female,Electronic accessories,13.78,4,2.756,57.876,1/10/2019\\r\\n321-49-7382,Mandalay,Male,Sports and travel,88.31,1,4.4155,92.7255,2/15/2019\\r\\n397-25-8725,Yangon,Female,Health and beauty,39.62,9,17.829,374.409,1/13/2019\\r\\n431-66-2305,Mandalay,Female,Electronic accessories,88.25,9,39.7125,833.9625,2/15/2019\\r\\n825-94-5922,Mandalay,Male,Sports and travel,25.31,2,2.531,53.151,3/2/2019\\r\\n641-62-7288,Mandalay,Male,Home and lifestyle,99.92,6,29.976,629.496,3/24/2019\\r\\n756-93-1854,Naypyitaw,Female,Fashion accessories,83.35,2,8.335,175.035,2/2/2019\\r\\n243-55-8457,Yangon,Female,Food and beverages,74.44,10,37.22,781.62,2/27/2019\\r\\n458-10-8612,Naypyitaw,Male,Health and beauty,64.08,7,22.428,470.988,1/20/2019\\r\\n501-61-1753,Mandalay,Female,Home and lifestyle,63.15,6,18.945,397.845,1/3/2019\\r\\n235-06-8510,Naypyitaw,Male,Home and lifestyle,85.72,3,12.858,270.018,1/24/2019\\r\\n433-08-7822,Naypyitaw,Female,Health and beauty,78.89,7,27.6115,579.8415,1/5/2019\\r\\n361-85-2571,Yangon,Female,Sports and travel,89.48,5,22.37,469.77,3/30/2019\\r\\n131-70-8179,Yangon,Female,Health and beauty,92.09,3,13.8135,290.0835,2/17/2019\\r\\n500-02-2261,Naypyitaw,Female,Food and beverages,57.29,6,17.187,360.927,3/21/2019\\r\\n720-72-2436,Yangon,Male,Food and beverages,66.52,4,13.304,279.384,3/2/2019\\r\\n702-83-5291,Naypyitaw,Male,Fashion accessories,99.82,9,44.919,943.299,3/27/2019\\r\\n809-69-9497,Yangon,Female,Home and lifestyle,45.68,10,22.84,479.64,1/19/2019\\r\\n449-16-6770,Yangon,Male,Health and beauty,50.79,5,12.6975,266.6475,2/19/2019\\r\\n333-23-2632,Yangon,Male,Health and beauty,10.08,7,3.528,74.088,3/28/2019\\r\\n489-82-1237,Yangon,Female,Electronic accessories,93.88,7,32.858,690.018,1/5/2019\\r\\n859-97-6048,Naypyitaw,Male,Electronic accessories,84.25,2,8.425,176.925,3/26/2019\\r\\n676-10-2200,Mandalay,Male,Fashion accessories,53.78,1,2.689,56.469,2/3/2019\\r\\n373-88-1424,Naypyitaw,Male,Home and lifestyle,35.81,5,8.9525,188.0025,2/6/2019\\r\\n365-16-4334,Mandalay,Female,Food and beverages,26.43,8,10.572,222.012,2/24/2019\\r\\n503-21-4385,Mandalay,Male,Health and beauty,39.91,3,5.9865,125.7165,2/21/2019\\r\\n305-89-2768,Mandalay,Female,Home and lifestyle,21.9,3,3.285,68.985,1/9/2019\\r\\n574-80-1489,Mandalay,Female,Food and beverages,62.85,4,12.57,263.97,2/25/2019\\r\\n784-08-0310,Naypyitaw,Female,Food and beverages,21.04,4,4.208,88.368,1/13/2019\\r\\n200-40-6154,Mandalay,Male,Home and lifestyle,65.91,6,19.773,415.233,2/9/2019\\r\\n846-10-0341,Yangon,Female,Fashion accessories,42.57,7,14.8995,312.8895,1/6/2019\\r\\n577-34-7579,Naypyitaw,Male,Food and beverages,50.49,9,22.7205,477.1305,1/10/2019\\r\\n430-02-3888,Mandalay,Male,Electronic accessories,46.02,6,13.806,289.926,2/7/2019\\r\\n867-47-1948,Naypyitaw,Female,Home and lifestyle,15.8,10,7.9,165.9,1/9/2019\\r\\n384-59-6655,Yangon,Female,Food and beverages,98.66,9,44.397,932.337,2/19/2019\\r\\n256-58-3609,Naypyitaw,Male,Fashion accessories,91.98,1,4.599,96.579,3/18/2019\\r\\n324-92-3863,Yangon,Male,Electronic accessories,20.89,2,2.089,43.869,2/5/2019\\r\\n593-08-5916,Yangon,Female,Fashion accessories,15.5,1,0.775,16.275,3/19/2019\\r\\n364-34-2972,Naypyitaw,Male,Electronic accessories,96.82,3,14.523,304.983,3/30/2019\\r\\n794-42-3736,Mandalay,Male,Food and beverages,33.33,2,3.333,69.993,1/26/2019\\r\\n172-42-8274,Mandalay,Female,Electronic accessories,38.27,2,3.827,80.367,3/2/2019\\r\\n558-60-5016,Yangon,Female,Home and lifestyle,33.3,9,14.985,314.685,3/4/2019\\r\\n195-06-0432,Yangon,Male,Home and lifestyle,81.01,3,12.1515,255.1815,1/13/2019\\r\\n605-03-2706,Yangon,Female,Health and beauty,15.8,3,2.37,49.77,3/25/2019\\r\\n214-30-2776,Mandalay,Female,Electronic accessories,34.49,5,8.6225,181.0725,3/11/2019\\r\\n746-04-1077,Mandalay,Female,Food and beverages,84.63,10,42.315,888.615,1/1/2019\\r\\n448-34-8700,Mandalay,Male,Home and lifestyle,36.91,7,12.9185,271.2885,2/10/2019\\r\\n452-04-8808,Mandalay,Male,Electronic accessories,87.08,7,30.478,640.038,1/26/2019\\r\\n531-56-4728,Yangon,Male,Home and lifestyle,80.08,3,12.012,252.252,2/11/2019\\r\\n744-82-9138,Naypyitaw,Male,Fashion accessories,86.13,2,8.613,180.873,2/7/2019\\r\\n883-69-1285,Mandalay,Male,Fashion accessories,49.92,2,4.992,104.832,3/6/2019\\r\\n221-25-5073,Yangon,Female,Food and beverages,74.66,4,14.932,313.572,3/4/2019\\r\\n518-71-6847,Mandalay,Male,Food and beverages,26.6,6,7.98,167.58,2/26/2019\\r\\n156-20-0370,Mandalay,Female,Electronic accessories,25.45,1,1.2725,26.7225,3/10/2019\\r\\n151-33-7434,Mandalay,Female,Food and beverages,67.77,1,3.3885,71.1585,2/4/2019\\r\\n728-47-9078,Naypyitaw,Male,Food and beverages,59.59,4,11.918,250.278,1/19/2019\\r\\n809-46-1866,Yangon,Male,Health and beauty,58.15,4,11.63,244.23,1/23/2019\\r\\n139-32-4183,Yangon,Female,Sports and travel,97.48,9,43.866,921.186,3/14/2019\\r\\n148-41-7930,Naypyitaw,Male,Health and beauty,99.96,7,34.986,734.706,1/23/2019\\r\\n189-40-5216,Naypyitaw,Male,Electronic accessories,96.37,7,33.7295,708.3195,1/9/2019\\r\\n374-38-5555,Mandalay,Female,Fashion accessories,63.71,5,15.9275,334.4775,2/7/2019\\r\\n764-44-8999,Mandalay,Female,Health and beauty,14.76,2,1.476,30.996,2/18/2019\\r\\n552-44-5977,Mandalay,Male,Health and beauty,62,8,24.8,520.8,1/3/2019\\r\\n267-62-7380,Naypyitaw,Male,Electronic accessories,82.34,10,41.17,864.57,3/29/2019\\r\\n430-53-4718,Mandalay,Male,Health and beauty,75.37,8,30.148,633.108,1/28/2019\\r\\n886-18-2897,Yangon,Female,Food and beverages,56.56,5,14.14,296.94,3/22/2019\\r\\n602-16-6955,Mandalay,Female,Sports and travel,76.6,10,38.3,804.3,1/24/2019\\r\\n745-74-0715,Yangon,Male,Electronic accessories,58.03,2,5.803,121.863,3/10/2019\\r\\n690-01-6631,Mandalay,Male,Fashion accessories,17.49,10,8.745,183.645,2/22/2019\\r\\n652-49-6720,Naypyitaw,Female,Electronic accessories,60.95,1,3.0475,63.9975,2/18/2019\\r\\n233-67-5758,Naypyitaw,Male,Health and beauty,40.35,1,2.0175,42.3675,1/29/2019\\r\\n303-96-2227,Mandalay,Female,Home and lifestyle,97.38,10,48.69,1022.49,3/2/2019\\r\\n727-02-1313,Yangon,Male,Food and beverages,31.84,1,1.592,33.432,2/9/2019\\r\\n347-56-2442,Yangon,Male,Home and lifestyle,65.82,1,3.291,69.111,2/22/2019\\r\\n849-09-3807,Yangon,Female,Fashion accessories,88.34,7,30.919,649.299,2/18/2019\\r\\n'}"
            ]
          },
          "metadata": {},
          "execution_count": 5
        }
      ],
      "source": [
        "from google.colab import files\n",
        "files.upload()"
      ]
    },
    {
      "cell_type": "code",
      "execution_count": 6,
      "metadata": {
        "id": "qHToc_bKy5aK"
      },
      "outputs": [],
      "source": [
        "df = spark.read.csv('supermarket_sales.csv',inferSchema=True, header=True)"
      ]
    },
    {
      "cell_type": "markdown",
      "metadata": {
        "id": "57Q9M3QU4PUJ"
      },
      "source": [
        "Dataframe is a data-structure"
      ]
    },
    {
      "cell_type": "code",
      "execution_count": 7,
      "metadata": {
        "id": "e9TnWoiX1RU3",
        "colab": {
          "base_uri": "https://localhost:8080/"
        },
        "outputId": "b12de5fa-76d4-4c0a-db2c-e37c0fa44813"
      },
      "outputs": [
        {
          "output_type": "execute_result",
          "data": {
            "text/plain": [
              "pyspark.sql.dataframe.DataFrame"
            ]
          },
          "metadata": {},
          "execution_count": 7
        }
      ],
      "source": [
        "type(df)"
      ]
    },
    {
      "cell_type": "code",
      "execution_count": 8,
      "metadata": {
        "id": "cDBqOzQY1Ra3",
        "colab": {
          "base_uri": "https://localhost:8080/"
        },
        "outputId": "ee574b2a-a6ad-48ba-c783-a8f4a5b31827"
      },
      "outputs": [
        {
          "output_type": "stream",
          "name": "stdout",
          "text": [
            "root\n",
            " |-- Invoice ID: string (nullable = true)\n",
            " |-- City: string (nullable = true)\n",
            " |-- Gender: string (nullable = true)\n",
            " |-- Product line: string (nullable = true)\n",
            " |-- Unit price: double (nullable = true)\n",
            " |-- Quantity: integer (nullable = true)\n",
            " |-- Tax 5%: double (nullable = true)\n",
            " |-- Total: double (nullable = true)\n",
            " |-- Date: string (nullable = true)\n",
            "\n"
          ]
        }
      ],
      "source": [
        "df.printSchema()"
      ]
    },
    {
      "cell_type": "code",
      "execution_count": 9,
      "metadata": {
        "id": "KFyHovwJ1RgV",
        "colab": {
          "base_uri": "https://localhost:8080/"
        },
        "outputId": "8ed3d647-339a-43eb-e0dc-3ebe934b0ba1"
      },
      "outputs": [
        {
          "output_type": "execute_result",
          "data": {
            "text/plain": [
              "['Invoice ID',\n",
              " 'City',\n",
              " 'Gender',\n",
              " 'Product line',\n",
              " 'Unit price',\n",
              " 'Quantity',\n",
              " 'Tax 5%',\n",
              " 'Total',\n",
              " 'Date']"
            ]
          },
          "metadata": {},
          "execution_count": 9
        }
      ],
      "source": [
        "df.columns"
      ]
    },
    {
      "cell_type": "code",
      "execution_count": 10,
      "metadata": {
        "id": "0Qp2q4WO4jDy",
        "colab": {
          "base_uri": "https://localhost:8080/"
        },
        "outputId": "b72c8c53-800b-4823-e3fc-1540783785d4"
      },
      "outputs": [
        {
          "output_type": "stream",
          "name": "stdout",
          "text": [
            "+---------+---------+\n",
            "|     City|     Date|\n",
            "+---------+---------+\n",
            "|   Yangon| 1/5/2019|\n",
            "|Naypyitaw| 3/8/2019|\n",
            "|   Yangon| 3/3/2019|\n",
            "|   Yangon|1/27/2022|\n",
            "|   London| 2/8/2022|\n",
            "|     null| 2/8/2022|\n",
            "|   Yangon| 2/8/2019|\n",
            "|Naypyitaw|3/25/2022|\n",
            "|   Yangon|2/25/2019|\n",
            "|Naypyitaw|2/24/2019|\n",
            "|   Yangon|1/10/2019|\n",
            "| Mandalay|2/20/2019|\n",
            "| Mandalay| 2/6/2019|\n",
            "| Mandalay| 3/9/2019|\n",
            "|   Yangon|2/12/2019|\n",
            "|   Yangon| 2/7/2019|\n",
            "|   Yangon|3/29/2019|\n",
            "| Mandalay|1/15/2019|\n",
            "|   Yangon|3/11/2019|\n",
            "|   Yangon| 1/1/2019|\n",
            "+---------+---------+\n",
            "only showing top 20 rows\n",
            "\n"
          ]
        }
      ],
      "source": [
        "df.select('City','Date').show()"
      ]
    },
    {
      "cell_type": "code",
      "execution_count": 11,
      "metadata": {
        "id": "MhZJsDKP4jUM",
        "colab": {
          "base_uri": "https://localhost:8080/"
        },
        "outputId": "c6debf03-c312-4446-9a0b-11ae521e4a99"
      },
      "outputs": [
        {
          "output_type": "execute_result",
          "data": {
            "text/plain": [
              "[('Invoice ID', 'string'),\n",
              " ('City', 'string'),\n",
              " ('Gender', 'string'),\n",
              " ('Product line', 'string'),\n",
              " ('Unit price', 'double'),\n",
              " ('Quantity', 'int'),\n",
              " ('Tax 5%', 'double'),\n",
              " ('Total', 'double'),\n",
              " ('Date', 'string')]"
            ]
          },
          "metadata": {},
          "execution_count": 11
        }
      ],
      "source": [
        "df.dtypes"
      ]
    },
    {
      "cell_type": "code",
      "execution_count": 12,
      "metadata": {
        "id": "0rL8KXYJ4jgB",
        "colab": {
          "base_uri": "https://localhost:8080/"
        },
        "outputId": "da0ab8ef-4707-40f8-9e23-3156d4e038f2"
      },
      "outputs": [
        {
          "output_type": "stream",
          "name": "stdout",
          "text": [
            "+-------+-----------+------+------+--------------------+------------------+------------------+-----------------+------------------+--------+\n",
            "|summary| Invoice ID|  City|Gender|        Product line|        Unit price|          Quantity|           Tax 5%|             Total|    Date|\n",
            "+-------+-----------+------+------+--------------------+------------------+------------------+-----------------+------------------+--------+\n",
            "|  count|       1002|  1001|  1001|                1000|              1000|              1000|             1002|              1002|    1002|\n",
            "|   mean|       null|  null|  null|                null| 55.67212999999998|              5.51|15.40896806387226| 323.5883293413175|    null|\n",
            "| stddev|       null|  null|  null|                null|26.494628347919786|2.9234305954556956|11.71585100541983|246.03287111381644|    null|\n",
            "|    min|101-17-6199|London| Feale|Electronic access...|             10.08|                 1|           0.5085|           10.6785|1/1/2019|\n",
            "|    max|898-04-2717|Yangon|  Male|   Sports and travel|             99.96|                10|            49.65|           1042.65|3/9/2019|\n",
            "+-------+-----------+------+------+--------------------+------------------+------------------+-----------------+------------------+--------+\n",
            "\n"
          ]
        }
      ],
      "source": [
        "df.describe().show()"
      ]
    },
    {
      "cell_type": "markdown",
      "metadata": {
        "id": "WOSVN1X16j5W"
      },
      "source": [
        "Add Column"
      ]
    },
    {
      "cell_type": "code",
      "execution_count": 13,
      "metadata": {
        "id": "7gcLuPGj4jsx"
      },
      "outputs": [],
      "source": [
        "df_pyspark = df.withColumn('Unit price after discount',df['Unit price']-10)"
      ]
    },
    {
      "cell_type": "code",
      "execution_count": 14,
      "metadata": {
        "id": "59FcUV7j9pN1",
        "colab": {
          "base_uri": "https://localhost:8080/"
        },
        "outputId": "5f4ea7b2-c959-4279-9a8e-4395d86a3808"
      },
      "outputs": [
        {
          "output_type": "execute_result",
          "data": {
            "text/plain": [
              "pyspark.sql.dataframe.DataFrame"
            ]
          },
          "metadata": {},
          "execution_count": 14
        }
      ],
      "source": [
        "type(df_pyspark)"
      ]
    },
    {
      "cell_type": "code",
      "execution_count": 15,
      "metadata": {
        "id": "nMjBagv496Jp",
        "colab": {
          "base_uri": "https://localhost:8080/"
        },
        "outputId": "89d6171a-4929-4cec-f5bf-07d77af4dcf1"
      },
      "outputs": [
        {
          "output_type": "stream",
          "name": "stdout",
          "text": [
            "+-----------+---------+------+--------------------+----------+--------+-------+--------+---------+-------------------------+\n",
            "| Invoice ID|     City|Gender|        Product line|Unit price|Quantity| Tax 5%|   Total|     Date|Unit price after discount|\n",
            "+-----------+---------+------+--------------------+----------+--------+-------+--------+---------+-------------------------+\n",
            "|750-67-8428|   Yangon|Female|   Health and beauty|     74.69|       7|26.1415|548.9715| 1/5/2019|                    64.69|\n",
            "|226-31-3081|Naypyitaw|Female|Electronic access...|     15.28|       5|   3.82|   80.22| 3/8/2019|        5.279999999999999|\n",
            "|631-41-3108|   Yangon|  Male|  Home and lifestyle|     46.33|       7|16.2155|340.5255| 3/3/2019|                    36.33|\n",
            "|123-19-1176|   Yangon|  Male|   Health and beauty|     58.22|       8| 23.288| 489.048|1/27/2022|                    48.22|\n",
            "|377-73-7997|   London| Feale|                null|      null|    null|30.2085|634.3785| 2/8/2022|                     null|\n",
            "|377-93-7997|     null|  null|                null|      null|    null|30.2085|634.3785| 2/8/2022|                     null|\n",
            "|373-73-7910|   Yangon|  Male|   Sports and travel|     86.31|       7|30.2085|634.3785| 2/8/2019|                    76.31|\n",
            "|699-14-3026|Naypyitaw|  Male|Electronic access...|     85.39|       7|29.8865|627.6165|3/25/2022|                    75.39|\n",
            "|355-53-5943|   Yangon|Female|Electronic access...|     68.84|       6| 20.652| 433.692|2/25/2019|                    58.84|\n",
            "|315-22-5665|Naypyitaw|Female|  Home and lifestyle|     73.56|      10|  36.78|  772.38|2/24/2019|                    63.56|\n",
            "|665-32-9167|   Yangon|Female|   Health and beauty|     36.26|       2|  3.626|  76.146|1/10/2019|       26.259999999999998|\n",
            "|692-92-5582| Mandalay|Female|  Food and beverages|     54.84|       3|  8.226| 172.746|2/20/2019|                    44.84|\n",
            "|351-62-0822| Mandalay|Female| Fashion accessories|     14.48|       4|  2.896|  60.816| 2/6/2019|                     4.48|\n",
            "|529-56-3974| Mandalay|  Male|Electronic access...|     25.51|       4|  5.102| 107.142| 3/9/2019|       15.510000000000002|\n",
            "|365-64-0515|   Yangon|Female|Electronic access...|     46.95|       5|11.7375|246.4875|2/12/2019|                    36.95|\n",
            "|252-56-2699|   Yangon|  Male|  Food and beverages|     43.19|      10| 21.595| 453.495| 2/7/2019|                    33.19|\n",
            "|829-34-3910|   Yangon|Female|   Health and beauty|     71.38|      10|  35.69|  749.49|3/29/2019|       61.379999999999995|\n",
            "|299-46-1805| Mandalay|Female|   Sports and travel|     93.72|       6| 28.116| 590.436|1/15/2019|                    83.72|\n",
            "|656-95-9349|   Yangon|Female|   Health and beauty|     68.93|       7|24.1255|506.6355|3/11/2019|        58.93000000000001|\n",
            "|765-26-6951|   Yangon|  Male|   Sports and travel|     72.61|       6| 21.783| 457.443| 1/1/2019|                    62.61|\n",
            "+-----------+---------+------+--------------------+----------+--------+-------+--------+---------+-------------------------+\n",
            "only showing top 20 rows\n",
            "\n"
          ]
        }
      ],
      "source": [
        "df_pyspark.show()"
      ]
    },
    {
      "cell_type": "code",
      "execution_count": 16,
      "metadata": {
        "id": "kLdrPeG_7VGs"
      },
      "outputs": [],
      "source": [
        "from pyspark.sql.functions import round,ceil, col,floor\n",
        "df_pyspark = df_pyspark.select(\"*\",round('Unit price after discount',2))"
      ]
    },
    {
      "cell_type": "code",
      "execution_count": null,
      "metadata": {
        "id": "2s-Ff3_581kV"
      },
      "outputs": [],
      "source": [
        "df_pyspark.show()"
      ]
    },
    {
      "cell_type": "markdown",
      "metadata": {
        "id": "l1s_8hxT_nWa"
      },
      "source": [
        "Drop Columns"
      ]
    },
    {
      "cell_type": "code",
      "execution_count": 17,
      "metadata": {
        "id": "mkhG8UzJ7Vbi"
      },
      "outputs": [],
      "source": [
        "df_remove = df_pyspark.drop('Unit price after discount')"
      ]
    },
    {
      "cell_type": "markdown",
      "metadata": {
        "id": "P8UcdB8G_t1H"
      },
      "source": [
        "Rename columns"
      ]
    },
    {
      "cell_type": "code",
      "execution_count": 22,
      "metadata": {
        "id": "Kg7u3R1b7Vmg"
      },
      "outputs": [],
      "source": [
        "df_renamed = df_pyspark.withColumnRenamed('round(Unit price after discount, 2)', 'Unit P after disc')"
      ]
    },
    {
      "cell_type": "markdown",
      "source": [
        "Dropping null records using how, thresh and subset(define column)"
      ],
      "metadata": {
        "id": "RYPM1ykJPPgl"
      }
    },
    {
      "cell_type": "code",
      "execution_count": 25,
      "metadata": {
        "id": "Hw3KCB2LkSCc",
        "colab": {
          "base_uri": "https://localhost:8080/"
        },
        "outputId": "06a45e71-3c7d-4c5d-944d-16b3b75cc7bd"
      },
      "outputs": [
        {
          "output_type": "execute_result",
          "data": {
            "text/plain": [
              "DataFrame[Invoice ID: string, City: string, Gender: string, Product line: string, Unit price: double, Quantity: int, Tax 5%: double, Total: double, Date: string, Unit price after discount: double, Unit P after disc: double]"
            ]
          },
          "metadata": {},
          "execution_count": 25
        }
      ],
      "source": [
        "df_renamed.na.drop(how ='any', subset =['Product line'])"
      ]
    },
    {
      "cell_type": "markdown",
      "source": [
        "Filling a particular null value column with missing value"
      ],
      "metadata": {
        "id": "ImzLBFA0Pre2"
      }
    },
    {
      "cell_type": "code",
      "execution_count": 36,
      "metadata": {
        "id": "TLW05QSRkSHY",
        "colab": {
          "base_uri": "https://localhost:8080/"
        },
        "outputId": "8116c861-13d1-4639-d9fb-1c985299e76d"
      },
      "outputs": [
        {
          "output_type": "stream",
          "name": "stdout",
          "text": [
            "+-----------+---------+-------------+--------------------+----------+--------+-------+--------+---------+-------------------------+-----------------+\n",
            "| Invoice ID|     City|       Gender|        Product line|Unit price|Quantity| Tax 5%|   Total|     Date|Unit price after discount|Unit P after disc|\n",
            "+-----------+---------+-------------+--------------------+----------+--------+-------+--------+---------+-------------------------+-----------------+\n",
            "|750-67-8428|   Yangon|       Female|   Health and beauty|     74.69|       7|26.1415|548.9715| 1/5/2019|                    64.69|            64.69|\n",
            "|226-31-3081|Naypyitaw|       Female|Electronic access...|     15.28|       5|   3.82|   80.22| 3/8/2019|        5.279999999999999|             5.28|\n",
            "|631-41-3108|   Yangon|         Male|  Home and lifestyle|     46.33|       7|16.2155|340.5255| 3/3/2019|                    36.33|            36.33|\n",
            "|123-19-1176|   Yangon|         Male|   Health and beauty|     58.22|       8| 23.288| 489.048|1/27/2022|                    48.22|            48.22|\n",
            "|377-73-7997|   London|        Feale|       Missing value|      null|    null|30.2085|634.3785| 2/8/2022|                     null|             null|\n",
            "|377-93-7997|     null|Missing value|       Missing value|      null|    null|30.2085|634.3785| 2/8/2022|                     null|             null|\n",
            "|373-73-7910|   Yangon|         Male|   Sports and travel|     86.31|       7|30.2085|634.3785| 2/8/2019|                    76.31|            76.31|\n",
            "|699-14-3026|Naypyitaw|         Male|Electronic access...|     85.39|       7|29.8865|627.6165|3/25/2022|                    75.39|            75.39|\n",
            "|355-53-5943|   Yangon|       Female|Electronic access...|     68.84|       6| 20.652| 433.692|2/25/2019|                    58.84|            58.84|\n",
            "|315-22-5665|Naypyitaw|       Female|  Home and lifestyle|     73.56|      10|  36.78|  772.38|2/24/2019|                    63.56|            63.56|\n",
            "|665-32-9167|   Yangon|       Female|   Health and beauty|     36.26|       2|  3.626|  76.146|1/10/2019|       26.259999999999998|            26.26|\n",
            "|692-92-5582| Mandalay|       Female|  Food and beverages|     54.84|       3|  8.226| 172.746|2/20/2019|                    44.84|            44.84|\n",
            "|351-62-0822| Mandalay|       Female| Fashion accessories|     14.48|       4|  2.896|  60.816| 2/6/2019|                     4.48|             4.48|\n",
            "|529-56-3974| Mandalay|         Male|Electronic access...|     25.51|       4|  5.102| 107.142| 3/9/2019|       15.510000000000002|            15.51|\n",
            "|365-64-0515|   Yangon|       Female|Electronic access...|     46.95|       5|11.7375|246.4875|2/12/2019|                    36.95|            36.95|\n",
            "|252-56-2699|   Yangon|         Male|  Food and beverages|     43.19|      10| 21.595| 453.495| 2/7/2019|                    33.19|            33.19|\n",
            "|829-34-3910|   Yangon|       Female|   Health and beauty|     71.38|      10|  35.69|  749.49|3/29/2019|       61.379999999999995|            61.38|\n",
            "|299-46-1805| Mandalay|       Female|   Sports and travel|     93.72|       6| 28.116| 590.436|1/15/2019|                    83.72|            83.72|\n",
            "|656-95-9349|   Yangon|       Female|   Health and beauty|     68.93|       7|24.1255|506.6355|3/11/2019|        58.93000000000001|            58.93|\n",
            "|765-26-6951|   Yangon|         Male|   Sports and travel|     72.61|       6| 21.783| 457.443| 1/1/2019|                    62.61|            62.61|\n",
            "+-----------+---------+-------------+--------------------+----------+--------+-------+--------+---------+-------------------------+-----------------+\n",
            "only showing top 20 rows\n",
            "\n"
          ]
        }
      ],
      "source": [
        "df_renamed.na.fill('Missing value',['Product line','Gender']).show()"
      ]
    },
    {
      "cell_type": "markdown",
      "source": [
        "Replacing numeric null values with meaningful data"
      ],
      "metadata": {
        "id": "zgThhKIVcNb1"
      }
    },
    {
      "cell_type": "code",
      "execution_count": 45,
      "metadata": {
        "id": "CtbvjUwAkSOZ"
      },
      "outputs": [],
      "source": [
        "from pyspark.ml.feature import Imputer\n",
        "\n",
        "imputer = Imputer(\n",
        "    inputCols=[ 'Quantity', 'Unit price'],\n",
        "    outputCols= [\"{}_imputed\".format(c) for c in ['Quantity', 'Unit price']]\n",
        ").setStrategy(\"mean\")"
      ]
    },
    {
      "cell_type": "code",
      "execution_count": 48,
      "metadata": {
        "id": "TmH680ofkSSC"
      },
      "outputs": [],
      "source": [
        "imputer_df = imputer.fit(df_renamed).transform(df_renamed)"
      ]
    },
    {
      "cell_type": "code",
      "source": [
        "type(imputer_df)"
      ],
      "metadata": {
        "colab": {
          "base_uri": "https://localhost:8080/"
        },
        "id": "15woXNkYcSz1",
        "outputId": "ffca7633-28de-4c47-ddb5-b471ed5f6569"
      },
      "execution_count": 50,
      "outputs": [
        {
          "output_type": "execute_result",
          "data": {
            "text/plain": [
              "pyspark.sql.dataframe.DataFrame"
            ]
          },
          "metadata": {},
          "execution_count": 50
        }
      ]
    },
    {
      "cell_type": "markdown",
      "source": [
        "Filter operation "
      ],
      "metadata": {
        "id": "J9hLp9erkg2n"
      }
    },
    {
      "cell_type": "code",
      "source": [
        "Filter all (less than 2 no of quantities)\n",
        "\n",
        "imputer_df.filter(\"Quantity <2\").show(5)"
      ],
      "metadata": {
        "colab": {
          "base_uri": "https://localhost:8080/"
        },
        "id": "jCf1efwGcTLx",
        "outputId": "a529f660-2378-4c6b-a65e-1ebdbaf6f608"
      },
      "execution_count": 59,
      "outputs": [
        {
          "output_type": "stream",
          "name": "stdout",
          "text": [
            "+-----------+---------+------+-------------------+----------+--------+------+-------+---------+-------------------------+-----------------+----------------+------------------+\n",
            "| Invoice ID|     City|Gender|       Product line|Unit price|Quantity|Tax 5%|  Total|     Date|Unit price after discount|Unit P after disc|Quantity_imputed|Unit price_imputed|\n",
            "+-----------+---------+------+-------------------+----------+--------+------+-------+---------+-------------------------+-----------------+----------------+------------------+\n",
            "|649-29-6775| Mandalay|  Male|Fashion accessories|     33.52|       1| 1.676| 35.196| 2/8/2019|       23.520000000000003|            23.52|               1|             33.52|\n",
            "|232-16-2483|Naypyitaw|Female|  Sports and travel|     68.12|       1| 3.406| 71.526| 1/7/2019|       58.120000000000005|            58.12|               1|             68.12|\n",
            "|280-35-5823| Mandalay|Female| Home and lifestyle|     86.72|       1| 4.336| 91.056|1/17/2019|                    76.72|            76.72|               1|             86.72|\n",
            "|778-71-5554|Naypyitaw|  Male|Fashion accessories|     15.43|       1|0.7715|16.2015|1/25/2019|                     5.43|             5.43|               1|             15.43|\n",
            "|382-03-4532|   Yangon|Female|  Health and beauty|     18.33|       1|0.9165|19.2465| 2/2/2019|        8.329999999999998|             8.33|               1|             18.33|\n",
            "+-----------+---------+------+-------------------+----------+--------+------+-------+---------+-------------------------+-----------------+----------------+------------------+\n",
            "only showing top 5 rows\n",
            "\n"
          ]
        }
      ]
    },
    {
      "cell_type": "markdown",
      "source": [
        "Selecting 2 columns fetching unique no of quantities"
      ],
      "metadata": {
        "id": "wGt9JxVXoFIB"
      }
    },
    {
      "cell_type": "code",
      "source": [
        "imputer_df.filter(\"Quantity <2\").select(['Invoice ID','City','Quantity']).show()"
      ],
      "metadata": {
        "colab": {
          "base_uri": "https://localhost:8080/"
        },
        "id": "8rDrJT0qcTQ_",
        "outputId": "abd8e71c-2910-4e3a-94e4-2bd93a0ad6ae"
      },
      "execution_count": 63,
      "outputs": [
        {
          "output_type": "stream",
          "name": "stdout",
          "text": [
            "+-----------+---------+--------+\n",
            "| Invoice ID|     City|Quantity|\n",
            "+-----------+---------+--------+\n",
            "|649-29-6775| Mandalay|       1|\n",
            "|232-16-2483|Naypyitaw|       1|\n",
            "|280-35-5823| Mandalay|       1|\n",
            "|778-71-5554|Naypyitaw|       1|\n",
            "|382-03-4532|   Yangon|       1|\n",
            "|504-35-8843|   Yangon|       1|\n",
            "|512-91-0811|Naypyitaw|       1|\n",
            "|594-34-4444|   Yangon|       1|\n",
            "|163-56-7055|Naypyitaw|       1|\n",
            "|659-65-8956| Mandalay|       1|\n",
            "|488-25-4221|Naypyitaw|       1|\n",
            "|279-74-2924| Mandalay|       1|\n",
            "|275-28-0149|   Yangon|       1|\n",
            "|400-60-7251|   Yangon|       1|\n",
            "|556-86-3144|Naypyitaw|       1|\n",
            "|856-22-8149|   Yangon|       1|\n",
            "|802-43-8934|   Yangon|       1|\n",
            "|279-62-1445|Naypyitaw|       1|\n",
            "|478-06-7835|   Yangon|       1|\n",
            "|366-93-0948|   Yangon|       1|\n",
            "+-----------+---------+--------+\n",
            "only showing top 20 rows\n",
            "\n"
          ]
        }
      ]
    },
    {
      "cell_type": "markdown",
      "source": [
        "Define a range"
      ],
      "metadata": {
        "id": "QHqQOFZGpD4p"
      }
    },
    {
      "cell_type": "code",
      "source": [
        "imputer_df.filter((imputer_df['Quantity'] <2) | \n",
        "                  (imputer_df['Quantity'] > 9)).select(['Invoice ID','City','Quantity']).show()"
      ],
      "metadata": {
        "colab": {
          "base_uri": "https://localhost:8080/"
        },
        "id": "8efsLXGRcTWz",
        "outputId": "2751179e-8147-42bd-9c5b-b00603ed4e0f"
      },
      "execution_count": 75,
      "outputs": [
        {
          "output_type": "stream",
          "name": "stdout",
          "text": [
            "+-----------+---------+--------+\n",
            "| Invoice ID|     City|Quantity|\n",
            "+-----------+---------+--------+\n",
            "|315-22-5665|Naypyitaw|      10|\n",
            "|252-56-2699|   Yangon|      10|\n",
            "|829-34-3910|   Yangon|      10|\n",
            "|649-29-6775| Mandalay|       1|\n",
            "|232-16-2483|Naypyitaw|       1|\n",
            "|280-35-5823| Mandalay|       1|\n",
            "|574-22-5561|Naypyitaw|      10|\n",
            "|778-71-5554|Naypyitaw|       1|\n",
            "|817-48-8732|   Yangon|      10|\n",
            "|199-75-8169|   Yangon|      10|\n",
            "|877-22-3308|   Yangon|      10|\n",
            "|232-11-3025|   Yangon|      10|\n",
            "|382-03-4532|   Yangon|       1|\n",
            "|393-65-2792|Naypyitaw|      10|\n",
            "|796-12-2025|Naypyitaw|      10|\n",
            "|732-94-0499|Naypyitaw|      10|\n",
            "|829-49-1914|Naypyitaw|      10|\n",
            "|504-35-8843|   Yangon|       1|\n",
            "|225-32-0908|Naypyitaw|      10|\n",
            "|512-91-0811|Naypyitaw|       1|\n",
            "+-----------+---------+--------+\n",
            "only showing top 20 rows\n",
            "\n"
          ]
        }
      ]
    },
    {
      "cell_type": "markdown",
      "source": [
        "Using NOT condition"
      ],
      "metadata": {
        "id": "fbLD71N5rH3o"
      }
    },
    {
      "cell_type": "code",
      "source": [
        "imputer_df.filter(~(imputer_df['Quantity'] <=2)).select(['Invoice ID','City','Quantity']).show()"
      ],
      "metadata": {
        "colab": {
          "base_uri": "https://localhost:8080/"
        },
        "id": "72xS7N-scTZa",
        "outputId": "a4e1388f-6606-41d1-de82-e333111db16b"
      },
      "execution_count": 79,
      "outputs": [
        {
          "output_type": "stream",
          "name": "stdout",
          "text": [
            "+-----------+---------+--------+\n",
            "| Invoice ID|     City|Quantity|\n",
            "+-----------+---------+--------+\n",
            "|750-67-8428|   Yangon|       7|\n",
            "|226-31-3081|Naypyitaw|       5|\n",
            "|631-41-3108|   Yangon|       7|\n",
            "|123-19-1176|   Yangon|       8|\n",
            "|373-73-7910|   Yangon|       7|\n",
            "|699-14-3026|Naypyitaw|       7|\n",
            "|355-53-5943|   Yangon|       6|\n",
            "|315-22-5665|Naypyitaw|      10|\n",
            "|692-92-5582| Mandalay|       3|\n",
            "|351-62-0822| Mandalay|       4|\n",
            "|529-56-3974| Mandalay|       4|\n",
            "|365-64-0515|   Yangon|       5|\n",
            "|252-56-2699|   Yangon|      10|\n",
            "|829-34-3910|   Yangon|      10|\n",
            "|299-46-1805| Mandalay|       6|\n",
            "|656-95-9349|   Yangon|       7|\n",
            "|765-26-6951|   Yangon|       6|\n",
            "|329-62-1586|   Yangon|       3|\n",
            "|300-71-4605|Naypyitaw|       5|\n",
            "|371-85-5789| Mandalay|       3|\n",
            "+-----------+---------+--------+\n",
            "only showing top 20 rows\n",
            "\n"
          ]
        }
      ]
    },
    {
      "cell_type": "markdown",
      "source": [
        "Using Group by and aggregate function"
      ],
      "metadata": {
        "id": "wkdESZNSrbX-"
      }
    },
    {
      "cell_type": "code",
      "source": [
        "#max quantity acc to city\n",
        "imputer_df.groupBy('City').sum('Quantity').show()"
      ],
      "metadata": {
        "colab": {
          "base_uri": "https://localhost:8080/"
        },
        "id": "IGXpl6Jbrach",
        "outputId": "f3fe1424-1d8d-40a3-da29-b98bb71c6693"
      },
      "execution_count": 82,
      "outputs": [
        {
          "output_type": "stream",
          "name": "stdout",
          "text": [
            "+---------+-------------+\n",
            "|     City|sum(Quantity)|\n",
            "+---------+-------------+\n",
            "|Naypyitaw|         1831|\n",
            "|     null|         null|\n",
            "|   London|         null|\n",
            "| Mandalay|         1820|\n",
            "|   Yangon|         1859|\n",
            "+---------+-------------+\n",
            "\n"
          ]
        }
      ]
    },
    {
      "cell_type": "code",
      "source": [
        "#mean acc to city\n",
        "imputer_df.groupBy('City').mean().show()"
      ],
      "metadata": {
        "colab": {
          "base_uri": "https://localhost:8080/"
        },
        "id": "9eQHxgpqraf5",
        "outputId": "56caaa5c-08d1-40a9-83f0-fb4f46e6e87a"
      },
      "execution_count": 84,
      "outputs": [
        {
          "output_type": "stream",
          "name": "stdout",
          "text": [
            "+---------+------------------+------------------+------------------+------------------+------------------------------+----------------------+---------------------+-----------------------+\n",
            "|     City|   avg(Unit price)|     avg(Quantity)|       avg(Tax 5%)|        avg(Total)|avg(Unit price after discount)|avg(Unit P after disc)|avg(Quantity_imputed)|avg(Unit price_imputed)|\n",
            "+---------+------------------+------------------+------------------+------------------+------------------------------+----------------------+---------------------+-----------------------+\n",
            "|Naypyitaw|56.609024390243896|5.5823170731707314| 16.05236737804879|337.09971493902424|            46.609024390243874|    46.609024390243874|   5.5823170731707314|     56.609024390243896|\n",
            "|     null|              null|              null|           30.2085|          634.3785|                          null|                  null|                  5.0|      55.67212999999998|\n",
            "|   London|              null|              null|           30.2085|          634.3785|                          null|                  null|                  5.0|      55.67212999999998|\n",
            "| Mandalay| 55.65927710843374| 5.481927710843373|15.232024096385551|319.87250602409625|             45.65927710843372|     45.65927710843372|    5.481927710843373|      55.65927710843374|\n",
            "|   Yangon| 54.78085294117646|5.4676470588235295| 14.87400147058824|312.35403088235324|            44.780852941176484|    44.780852941176484|   5.4676470588235295|      54.78085294117646|\n",
            "+---------+------------------+------------------+------------------+------------------+------------------------------+----------------------+---------------------+-----------------------+\n",
            "\n"
          ]
        }
      ]
    },
    {
      "cell_type": "code",
      "source": [
        "#count no of cities\n",
        "imputer_df.groupBy('City').count().show()"
      ],
      "metadata": {
        "colab": {
          "base_uri": "https://localhost:8080/"
        },
        "id": "Cm6P8Y9vraik",
        "outputId": "41fb4074-23ef-4937-95f8-0d92fdf328bc"
      },
      "execution_count": 85,
      "outputs": [
        {
          "output_type": "stream",
          "name": "stdout",
          "text": [
            "+---------+-----+\n",
            "|     City|count|\n",
            "+---------+-----+\n",
            "|Naypyitaw|  328|\n",
            "|     null|    1|\n",
            "|   London|    1|\n",
            "| Mandalay|  332|\n",
            "|   Yangon|  340|\n",
            "+---------+-----+\n",
            "\n"
          ]
        }
      ]
    },
    {
      "cell_type": "code",
      "source": [
        ""
      ],
      "metadata": {
        "id": "nzpEjAvBranJ"
      },
      "execution_count": null,
      "outputs": []
    },
    {
      "cell_type": "code",
      "source": [
        ""
      ],
      "metadata": {
        "id": "SdM1aZEAcTcw"
      },
      "execution_count": null,
      "outputs": []
    }
  ],
  "metadata": {
    "colab": {
      "name": "Dataframe_spark_pre-processing.ipynb",
      "provenance": [],
      "authorship_tag": "ABX9TyMTvYbb4ZbH0Js1EFT8qZ5Q",
      "include_colab_link": true
    },
    "kernelspec": {
      "display_name": "Python 3",
      "name": "python3"
    },
    "language_info": {
      "name": "python"
    }
  },
  "nbformat": 4,
  "nbformat_minor": 0
}