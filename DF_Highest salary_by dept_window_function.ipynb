{
  "nbformat": 4,
  "nbformat_minor": 0,
  "metadata": {
    "colab": {
      "name": "RDD_DF_Project.ipynb",
      "provenance": [],
      "authorship_tag": "ABX9TyNLFCTsTMDHx6q1iVAe1y6r",
      "include_colab_link": true
    },
    "kernelspec": {
      "name": "python3",
      "display_name": "Python 3"
    },
    "language_info": {
      "name": "python"
    }
  },
  "cells": [
    {
      "cell_type": "markdown",
      "metadata": {
        "id": "view-in-github",
        "colab_type": "text"
      },
      "source": [
        "<a href=\"https://colab.research.google.com/github/sahana0007/Spark/blob/main/DF_Highest%20salary_by%20dept_window_function.ipynb\" target=\"_parent\"><img src=\"https://colab.research.google.com/assets/colab-badge.svg\" alt=\"Open In Colab\"/></a>"
      ]
    },
    {
      "cell_type": "code",
      "execution_count": 8,
      "metadata": {
        "colab": {
          "base_uri": "https://localhost:8080/"
        },
        "id": "HLSqYLRW7__9",
        "outputId": "3ee54d76-0825-4a67-c5f2-98c01ce86646"
      },
      "outputs": [
        {
          "output_type": "stream",
          "name": "stdout",
          "text": [
            "Drive already mounted at /content/drive; to attempt to forcibly remount, call drive.mount(\"/content/drive\", force_remount=True).\n"
          ]
        }
      ],
      "source": [
        "from google.colab import drive\n",
        "drive.mount('/content/drive')"
      ]
    },
    {
      "cell_type": "code",
      "source": [
        "!pip install pyspark"
      ],
      "metadata": {
        "colab": {
          "base_uri": "https://localhost:8080/"
        },
        "id": "bZUnxEJI9fec",
        "outputId": "ee39eb2f-a5b3-4dca-edfb-7ea6b9112839"
      },
      "execution_count": 9,
      "outputs": [
        {
          "output_type": "stream",
          "name": "stdout",
          "text": [
            "Looking in indexes: https://pypi.org/simple, https://us-python.pkg.dev/colab-wheels/public/simple/\n",
            "Requirement already satisfied: pyspark in /usr/local/lib/python3.7/dist-packages (3.3.0)\n",
            "Requirement already satisfied: py4j==0.10.9.5 in /usr/local/lib/python3.7/dist-packages (from pyspark) (0.10.9.5)\n"
          ]
        }
      ]
    },
    {
      "cell_type": "code",
      "source": [
        "from pyspark import SparkContext, SparkConf\n",
        "import pyspark\n",
        "from pyspark.sql import SparkSession\n",
        "\n",
        "spark = SparkSession.builder.appName(\"getNthhighestSalary\").master(\"local[*]\").getOrCreate()\n",
        "\n",
        "#sc = SparkContext(\"local\",\"PySpark Rank\")\n",
        "#conf = SparkConf().setAppName(\"Pyspark Project\").setMaster(\"local\")\n",
        "#sc = SparkContext (conf = conf)"
      ],
      "metadata": {
        "id": "BYXXtjIOIPEi"
      },
      "execution_count": 10,
      "outputs": []
    },
    {
      "cell_type": "markdown",
      "source": [
        "Find top 3 salary departmentwise"
      ],
      "metadata": {
        "id": "VvCqQIeg_bXt"
      }
    },
    {
      "cell_type": "code",
      "source": [
        "from pyspark.sql.window import Window\n",
        "from pyspark.sql.functions import col, row_number\n",
        "from pyspark import SparkContext\n",
        "from pyspark.sql import SQLContext\n",
        "\n",
        "#file_rdd = sc.textFile(\"/content/Salaries1.txt\")\n"
      ],
      "metadata": {
        "id": "KZnyEfII9fpB"
      },
      "execution_count": 11,
      "outputs": []
    },
    {
      "cell_type": "code",
      "source": [
        "df = spark.read\\\n",
        "      .format(\"csv\")\\\n",
        "      .option(\"header\", \"true\")\\\n",
        "      .option(\"inferSchema\", \"true\")\\\n",
        "      .csv(\"/content/Salaries1.csv\")\n",
        "  "
      ],
      "metadata": {
        "id": "qC0dLeKD9fxk"
      },
      "execution_count": 12,
      "outputs": []
    },
    {
      "cell_type": "code",
      "source": [
        "df.show()"
      ],
      "metadata": {
        "colab": {
          "base_uri": "https://localhost:8080/"
        },
        "id": "Yv-vjLuw1mcR",
        "outputId": "e56c6223-9947-4ea5-eb5c-478a13342c3f"
      },
      "execution_count": 13,
      "outputs": [
        {
          "output_type": "stream",
          "name": "stdout",
          "text": [
            "+---+------------------+--------------------+---------+-----------+---------+--------+---------+----------------+----+-----+-------------+------+------------+\n",
            "| Id|      EmployeeName|            JobTitle|  BasePay|OvertimePay| OtherPay|Benefits| TotalPay|TotalPayBenefits|Year|Notes|       Agency|Status|DepartmentId|\n",
            "+---+------------------+--------------------+---------+-----------+---------+--------+---------+----------------+----+-----+-------------+------+------------+\n",
            "|  1|    NATHANIEL FORD|GENERAL MANAGER-M...|167411.18|        0.0|400184.25|    null|567595.43|       567595.43|2011| null|San Francisco|  null|           7|\n",
            "|  2|      GARY JIMENEZ|CAPTAIN III (POLI...|155966.02|  245131.88|137811.38|    null|538909.28|       538909.28|2011| null|San Francisco|  null|           7|\n",
            "|  3|    ALBERT PARDINI|CAPTAIN III (POLI...|212739.13|  106088.18|  16452.6|    null|335279.91|       335279.91|2011| null|San Francisco|  null|           7|\n",
            "|  4| CHRISTOPHER CHONG|WIRE ROPE CABLE M...|  77916.0|   56120.71| 198306.9|    null|332343.61|       332343.61|2011| null|San Francisco|  null|           7|\n",
            "|  5|   PATRICK GARDNER|DEPUTY CHIEF OF D...| 134401.6|     9737.0|182234.59|    null|326373.19|       326373.19|2011| null|San Francisco|  null|           7|\n",
            "|  6|    DAVID SULLIVAN|ASSISTANT DEPUTY ...| 118602.0|     8601.0|189082.74|    null|316285.74|       316285.74|2011| null|San Francisco|  null|           7|\n",
            "|  7|         ALSON LEE|BATTALION CHIEF, ...| 92492.01|    89062.9|134426.14|    null|315981.05|       315981.05|2011| null|San Francisco|  null|           7|\n",
            "|  8|     DAVID KUSHNER|DEPUTY DIRECTOR O...|256576.96|        0.0|  51322.5|    null|307899.46|       307899.46|2011| null|San Francisco|  null|           7|\n",
            "|  9|    MICHAEL MORRIS|BATTALION CHIEF, ...|176932.64|   86362.68| 40132.23|    null|303427.55|       303427.55|2011| null|San Francisco|  null|           7|\n",
            "| 10|JOANNE HAYES-WHITE|CHIEF OF DEPARTME...| 285262.0|        0.0| 17115.73|    null|302377.73|       302377.73|2011| null|San Francisco|  null|           7|\n",
            "| 11|     ARTHUR KENNEY|ASSISTANT CHIEF O...|194999.39|   71344.88|  33149.9|    null|299494.17|       299494.17|2011| null|San Francisco|  null|           7|\n",
            "| 12|  PATRICIA JACKSON|CAPTAIN III (POLI...|  99722.0|   87082.62| 110804.3|    null|297608.92|       297608.92|2011| null|San Francisco|  null|           7|\n",
            "| 13| EDWARD HARRINGTON|EXECUTIVE CONTRAC...|294580.02|        0.0|      0.0|    null|294580.02|       294580.02|2011| null|San Francisco|  null|           7|\n",
            "| 14|       JOHN MARTIN|   DEPARTMENT HEAD V|271329.03|        0.0| 21342.59|    null|292671.62|       292671.62|2011| null|San Francisco|  null|           7|\n",
            "| 15|    DAVID FRANKLIN|BATTALION CHIEF, ...|174872.64|    74050.3| 37424.11|    null|286347.05|       286347.05|2011| null|San Francisco|  null|           7|\n",
            "| 16|   RICHARD CORRIEA|COMMANDER III, (P...|198778.01|    73478.2| 13957.65|    null|286213.86|       286213.86|2011| null|San Francisco|  null|           7|\n",
            "| 17|          AMY HART|   DEPARTMENT HEAD V|268604.57|        0.0| 16115.86|    null|284720.43|       284720.43|2011| null|San Francisco|  null|           7|\n",
            "| 18|    SEBASTIAN WONG|CAPTAIN, EMERGENC...|140546.87|  119397.26| 18625.08|    null|278569.21|       278569.21|2011| null|San Francisco|  null|           7|\n",
            "| 19|        MARTY ROSS|BATTALION CHIEF, ...|168692.63|   69626.12| 38115.47|    null|276434.22|       276434.22|2011| null|San Francisco|  null|           7|\n",
            "| 20|     ELLEN MOFFATT|ASSISTANT MEDICAL...|257510.59|     880.16|  16159.5|    null|274550.25|       274550.25|2011| null|San Francisco|  null|           7|\n",
            "+---+------------------+--------------------+---------+-----------+---------+--------+---------+----------------+----+-----+-------------+------+------------+\n",
            "only showing top 20 rows\n",
            "\n"
          ]
        }
      ]
    },
    {
      "cell_type": "code",
      "source": [
        "from pyspark.sql.functions import col, dense_rank\n",
        "from pyspark.sql.window import Window\n",
        "\n",
        "\n"
      ],
      "metadata": {
        "id": "IS9mMs7A1mjH"
      },
      "execution_count": 14,
      "outputs": []
    },
    {
      "cell_type": "code",
      "source": [
        "windowfn = Window.partitionBy(col(\"DepartmentId\")).orderBy(col(\"TotalPay\"))"
      ],
      "metadata": {
        "id": "ClMTXvAB1mmp"
      },
      "execution_count": 15,
      "outputs": []
    },
    {
      "cell_type": "code",
      "source": [
        "df_salary_rank = df.withColumn(\"salary_rank\", dense_rank().over (windowfn))"
      ],
      "metadata": {
        "id": "_M8eLLI01mqn"
      },
      "execution_count": 16,
      "outputs": []
    },
    {
      "cell_type": "code",
      "source": [
        "df_salary_rank.show()"
      ],
      "metadata": {
        "id": "YPr9bew19f0C",
        "colab": {
          "base_uri": "https://localhost:8080/"
        },
        "outputId": "9abd1a2b-5353-4641-a1b3-f1887c052ae1"
      },
      "execution_count": 17,
      "outputs": [
        {
          "output_type": "stream",
          "name": "stdout",
          "text": [
            "+---+----------------+--------------------+---------+-----------+---------+--------+---------+----------------+----+-----+-------------+------+------------+-----------+\n",
            "| Id|    EmployeeName|            JobTitle|  BasePay|OvertimePay| OtherPay|Benefits| TotalPay|TotalPayBenefits|Year|Notes|       Agency|Status|DepartmentId|salary_rank|\n",
            "+---+----------------+--------------------+---------+-----------+---------+--------+---------+----------------+----+-----+-------------+------+------------+-----------+\n",
            "| 42|   THOMAS ABBOTT|BATTALION CHIEF, ...|168692.63|    59760.9| 21954.96|    null|250408.49|       250408.49|2011| null|San Francisco|  null|           7|          1|\n",
            "| 41|MICHAEL THOMPSON|BATTALION CHIEF, ...|168692.66|   60847.56| 21055.17|    null|250595.39|       250595.39|2011| null|San Francisco|  null|           7|          2|\n",
            "| 40|    BRENDAN WARD|BATTALION CHIEF, ...|147158.85|   64985.85| 39540.46|    null|251685.16|       251685.16|2011| null|San Francisco|  null|           7|          3|\n",
            "| 39|      JONES WONG|LIEUTENANT III (P...|132202.26|   52648.92| 67083.83|    null|251935.01|       251935.01|2011| null|San Francisco|  null|           7|          4|\n",
            "| 38|     JAMES BOSCH|INSPECTOR III, (P...| 110661.2|   31162.04| 111446.2|    null|253269.44|       253269.44|2011| null|San Francisco|  null|           7|          5|\n",
            "| 37|    SUSAN CURRIN|ADMINISTRATOR, SF...|245124.44|        0.0|  12000.0|    null|257124.44|       257124.44|2011| null|San Francisco|  null|           7|          6|\n",
            "| 36|      KHOA TRINH|ELECTRONIC MAINTE...| 101953.2|  139102.95| 16483.94|    null|257540.09|       257540.09|2011| null|San Francisco|  null|           7|          7|\n",
            "| 35|       JOSE VELO|BATTALION CHIEF, ...|177781.25|   59924.97|  20658.0|    null|258364.22|       258364.22|2011| null|San Francisco|  null|           7|          8|\n",
            "| 34|      JOHN TURSI|INSPECTOR III, (P...|104861.39|   50227.61|103499.39|    null|258588.39|       258588.39|2011| null|San Francisco|  null|           7|          9|\n",
            "| 33|     GARY AMELIO|   DEPARTMENT HEAD V| 248895.7|        0.0| 10789.18|    null|259684.88|       259684.88|2011| null|San Francisco|  null|           7|         10|\n",
            "| 32|     DAVID SHINN|DEPUTY CHIEF III ...|254027.63|        0.0|  5899.48|    null|259927.11|       259927.11|2011| null|San Francisco|  null|           7|         11|\n",
            "| 31| HARLAN KELLY-JR|EXECUTIVE CONTRAC...|234325.02|        0.0| 25972.64|    null|260297.66|       260297.66|2011| null|San Francisco|  null|           7|         12|\n",
            "| 30|   MONICA FIELDS|DEPUTY CHIEF OF D...| 246225.6|        0.0| 15140.54|    null|261366.14|       261366.14|2011| null|San Francisco|  null|           7|         13|\n",
            "| 29|  DENISE SCHMITT|DEPUTY CHIEF III ...| 261717.6|        0.0|   2357.0|    null| 264074.6|        264074.6|2011| null|San Francisco|  null|           7|         14|\n",
            "| 28|  RAYMOND GUZMAN|BATTALION CHIEF, ...|168692.59|   80706.88| 16063.99|    null|265463.46|       265463.46|2011| null|San Francisco|  null|           7|         15|\n",
            "| 27|     JOHN HANLEY|CAPTAIN, FIRE SUP...|  92080.8|    40008.0|133695.76|    null|265784.56|       265784.56|2011| null|San Francisco|  null|           7|         16|\n",
            "| 26|    GREGORY SUHR|     CHIEF OF POLICE|256470.41|        0.0| 11522.18|    null|267992.59|       267992.59|2011| null|San Francisco|  null|           7|         17|\n",
            "| 25| JOSEPH DRISCOLL|CAPTAIN, FIRE SUP...|140546.86|   97868.77| 31909.28|    null|270324.91|       270324.91|2011| null|San Francisco|  null|           7|         18|\n",
            "| 24|   VICTOR WYRSCH|BATTALION CHIEF, ...|168692.63|   77896.14| 24083.86|    null|270672.63|       270672.63|2011| null|San Francisco|  null|           7|         19|\n",
            "| 23|   GEORGE GARCIA|CAPTAIN, FIRE SUP...|140546.88|   93200.58| 39955.25|    null|273702.71|       273702.71|2011| null|San Francisco|  null|           7|         20|\n",
            "+---+----------------+--------------------+---------+-----------+---------+--------+---------+----------------+----+-----+-------------+------+------------+-----------+\n",
            "only showing top 20 rows\n",
            "\n"
          ]
        }
      ]
    },
    {
      "cell_type": "code",
      "source": [
        "n = int(input(\"Enter the value of n: \"))\n",
        "print(\"n is: \", n)\n",
        "\n",
        "df_salary_rank.filter(f\"salary_rank == {n}\").show()"
      ],
      "metadata": {
        "colab": {
          "base_uri": "https://localhost:8080/"
        },
        "id": "PBhmUG2NVydH",
        "outputId": "bb69873f-de37-4439-d5f6-9b26deb35f6d"
      },
      "execution_count": 18,
      "outputs": [
        {
          "output_type": "stream",
          "name": "stdout",
          "text": [
            "Enter the value of n: 7\n",
            "n is:  7\n",
            "+----+--------------+--------------------+---------+-----------+--------+--------+---------+----------------+----+-----+-------------+------+------------+-----------+\n",
            "|  Id|  EmployeeName|            JobTitle|  BasePay|OvertimePay|OtherPay|Benefits| TotalPay|TotalPayBenefits|Year|Notes|       Agency|Status|DepartmentId|salary_rank|\n",
            "+----+--------------+--------------------+---------+-----------+--------+--------+---------+----------------+----+-----+-------------+------+------------+-----------+\n",
            "|  36|    KHOA TRINH|ELECTRONIC MAINTE...| 101953.2|  139102.95|16483.94|    null|257540.09|       257540.09|2011| null|San Francisco|  null|           7|          7|\n",
            "| 317|      BOND YEE|DEPUTY DIRECTOR I...| 195256.1|        0.0|   408.0|    null| 195664.1|        195664.1|2011| null|San Francisco|  null|           8|          7|\n",
            "| 552| DENISE NEWMAN|BATTALION CHIEF, ...| 168713.2|    5340.28|10122.78|    null|184176.26|       184176.26|2011| null|San Francisco|  null|           9|          7|\n",
            "|1246|   SALLY GRATZ|ATTORNEY (CIVIL/C...|164373.39|        0.0|     0.0|    null|164373.39|       164373.39|2011| null|San Francisco|  null|          10|          7|\n",
            "|1247|PAUL SPRAGGINS|ATTORNEY (CIVIL/C...|164373.39|        0.0|     0.0|    null|164373.39|       164373.39|2011| null|San Francisco|  null|          10|          7|\n",
            "|1248| JOEL BLACKMAN|ATTORNEY (CIVIL/C...|164373.39|        0.0|     0.0|    null|164373.39|       164373.39|2011| null|San Francisco|  null|          10|          7|\n",
            "|2002|   SWATI PATEL|SUPERVISING PHARM...|151888.03|        0.0|  1200.0|    null|153088.03|       153088.03|2011| null|San Francisco|  null|          11|          7|\n",
            "+----+--------------+--------------------+---------+-----------+--------+--------+---------+----------------+----+-----+-------------+------+------------+-----------+\n",
            "\n"
          ]
        }
      ]
    },
    {
      "cell_type": "code",
      "source": [
        "df.createOrReplaceTempView(\"Employee\")"
      ],
      "metadata": {
        "id": "oE9JcswjXaJd"
      },
      "execution_count": 19,
      "outputs": []
    },
    {
      "cell_type": "code",
      "source": [
        "sqlDF = spark.sql(\"Select EmployeeName, TotalPay, DepartmentId , (rank() over(partition by DepartmentId order by TotalPay DESC)) as rank from Employee\")"
      ],
      "metadata": {
        "colab": {
          "base_uri": "https://localhost:8080/"
        },
        "id": "y-AzU3TpV_lP",
        "outputId": "70e895fd-67e6-4951-c1e6-eb245dd7590d"
      },
      "execution_count": 33,
      "outputs": [
        {
          "output_type": "stream",
          "name": "stdout",
          "text": [
            "+----------------+---------+------------+----+\n",
            "|    EmployeeName| TotalPay|DepartmentId|rank|\n",
            "+----------------+---------+------------+----+\n",
            "|       ALSON LEE|315981.05|           7|   7|\n",
            "|    JAMES DUDLEY|248718.64|           8|   7|\n",
            "|MICHAEL GONZALES|195232.37|           9|   7|\n",
            "|   ELISA RAMIREZ|183656.84|          10|   7|\n",
            "+----------------+---------+------------+----+\n",
            "\n"
          ]
        }
      ]
    },
    {
      "cell_type": "code",
      "source": [
        "n = int(input(\"Enter the value of n: \"))\n",
        "print(\"n is: \", n)\n",
        "sqlDF.filter(f\"rank=={n}\").show()"
      ],
      "metadata": {
        "colab": {
          "base_uri": "https://localhost:8080/"
        },
        "id": "cTWuNlDzZDDO",
        "outputId": "9e7e8058-4e97-4035-8891-60f3fc3d2674"
      },
      "execution_count": 34,
      "outputs": [
        {
          "output_type": "stream",
          "name": "stdout",
          "text": [
            "Enter the value of n: 5\n",
            "n is:  5\n",
            "+----------------+---------+------------+----+\n",
            "|    EmployeeName| TotalPay|DepartmentId|rank|\n",
            "+----------------+---------+------------+----+\n",
            "| PATRICK GARDNER|326373.19|           7|   5|\n",
            "|BRYAN RUBENSTEIN| 249293.3|           8|   5|\n",
            "|RUDY CASTELLANOS|195290.76|           9|   5|\n",
            "|JOSHUA BAMBERGER|183754.57|          10|   5|\n",
            "+----------------+---------+------------+----+\n",
            "\n"
          ]
        }
      ]
    },
    {
      "cell_type": "code",
      "source": [
        ""
      ],
      "metadata": {
        "id": "jOFa-eGrV_w4"
      },
      "execution_count": null,
      "outputs": []
    },
    {
      "cell_type": "code",
      "source": [
        ""
      ],
      "metadata": {
        "id": "qM-P8gBRV__d"
      },
      "execution_count": null,
      "outputs": []
    }
  ]
}