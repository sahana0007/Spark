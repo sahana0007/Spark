{
  "nbformat": 4,
  "nbformat_minor": 0,
  "metadata": {
    "colab": {
      "name": "Pyspark project.ipynb",
      "provenance": [],
      "authorship_tag": "ABX9TyOZurhD1atGVmX8qUwx6b/Q"
    },
    "kernelspec": {
      "name": "python3",
      "display_name": "Python 3"
    },
    "language_info": {
      "name": "python"
    }
  },
  "cells": [
    {
      "cell_type": "code",
      "execution_count": 1,
      "metadata": {
        "colab": {
          "base_uri": "https://localhost:8080/"
        },
        "id": "HLSqYLRW7__9",
        "outputId": "bee300ea-cb39-47a1-9640-ba63bab50fd4"
      },
      "outputs": [
        {
          "output_type": "stream",
          "name": "stdout",
          "text": [
            "Mounted at /content/drive\n"
          ]
        }
      ],
      "source": [
        "from google.colab import drive\n",
        "drive.mount('/content/drive')"
      ]
    },
    {
      "cell_type": "code",
      "source": [
        "!pip install pyspark"
      ],
      "metadata": {
        "colab": {
          "base_uri": "https://localhost:8080/"
        },
        "id": "bZUnxEJI9fec",
        "outputId": "1d36daee-5e0f-4af0-fa80-5d458eae6e0c"
      },
      "execution_count": 2,
      "outputs": [
        {
          "output_type": "stream",
          "name": "stdout",
          "text": [
            "Looking in indexes: https://pypi.org/simple, https://us-python.pkg.dev/colab-wheels/public/simple/\n",
            "Collecting pyspark\n",
            "  Downloading pyspark-3.3.0.tar.gz (281.3 MB)\n",
            "\u001b[K     |████████████████████████████████| 281.3 MB 46 kB/s \n",
            "\u001b[?25hCollecting py4j==0.10.9.5\n",
            "  Downloading py4j-0.10.9.5-py2.py3-none-any.whl (199 kB)\n",
            "\u001b[K     |████████████████████████████████| 199 kB 52.7 MB/s \n",
            "\u001b[?25hBuilding wheels for collected packages: pyspark\n",
            "  Building wheel for pyspark (setup.py) ... \u001b[?25l\u001b[?25hdone\n",
            "  Created wheel for pyspark: filename=pyspark-3.3.0-py2.py3-none-any.whl size=281764026 sha256=62ac2981dd48e0bdb2657b95cbe7736a4abc49684ed534186a804bacce778ee8\n",
            "  Stored in directory: /root/.cache/pip/wheels/7a/8e/1b/f73a52650d2e5f337708d9f6a1750d451a7349a867f928b885\n",
            "Successfully built pyspark\n",
            "Installing collected packages: py4j, pyspark\n",
            "Successfully installed py4j-0.10.9.5 pyspark-3.3.0\n"
          ]
        }
      ]
    },
    {
      "cell_type": "code",
      "source": [
        "from pyspark import SparkContext, SparkConf\n",
        "import pyspark\n",
        "from pyspark.sql import SparkSession\n",
        "\n",
        "sc = SparkContext(\"local\",\"PySpark Word Count\")\n",
        "#conf = SparkConf().setAppName(\"Pyspark Project\").setMaster(\"local\")\n",
        "#sc = SparkContext (conf = conf)"
      ],
      "metadata": {
        "id": "BYXXtjIOIPEi"
      },
      "execution_count": 3,
      "outputs": []
    },
    {
      "cell_type": "markdown",
      "source": [
        "Provide count of words"
      ],
      "metadata": {
        "id": "cjOjAB0E4X1y"
      }
    },
    {
      "cell_type": "code",
      "source": [
        "import sys\n",
        "if __name__ == \"__main__\":\n",
        "  words = sc.textFile(\"/content/spark.txt\").flatMap(lambda line: line.split(\" \"))\n",
        "  wordcount = words.map(lambda word: (word,1)).reduceByKey(lambda a,b: a+b)\n",
        "  wordcount.saveAsTextFile(\"/content/output/\")"
      ],
      "metadata": {
        "id": "l0dhoHY_0r3j"
      },
      "execution_count": 8,
      "outputs": []
    },
    {
      "cell_type": "code",
      "source": [
        "type(words)"
      ],
      "metadata": {
        "colab": {
          "base_uri": "https://localhost:8080/"
        },
        "id": "NkgYGGLd9fmc",
        "outputId": "b55f46b5-855f-4cb5-b4df-1bedad47bc53"
      },
      "execution_count": 9,
      "outputs": [
        {
          "output_type": "execute_result",
          "data": {
            "text/plain": [
              "pyspark.rdd.PipelinedRDD"
            ]
          },
          "metadata": {},
          "execution_count": 9
        }
      ]
    },
    {
      "cell_type": "code",
      "source": [
        ""
      ],
      "metadata": {
        "id": "KZnyEfII9fpB"
      },
      "execution_count": 4,
      "outputs": []
    },
    {
      "cell_type": "code",
      "source": [
        ""
      ],
      "metadata": {
        "id": "S0rjVES_9ftu"
      },
      "execution_count": 4,
      "outputs": []
    },
    {
      "cell_type": "code",
      "source": [
        ""
      ],
      "metadata": {
        "id": "qC0dLeKD9fxk"
      },
      "execution_count": 4,
      "outputs": []
    },
    {
      "cell_type": "code",
      "source": [
        ""
      ],
      "metadata": {
        "id": "YPr9bew19f0C"
      },
      "execution_count": 4,
      "outputs": []
    }
  ]
}