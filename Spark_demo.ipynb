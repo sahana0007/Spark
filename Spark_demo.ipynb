{
  "nbformat": 4,
  "nbformat_minor": 0,
  "metadata": {
    "colab": {
      "name": "Spark demo.ipynb",
      "provenance": [],
      "authorship_tag": "ABX9TyNXqvVSofCsIJpYLw1Y/rAj",
      "include_colab_link": true
    },
    "kernelspec": {
      "name": "python3",
      "display_name": "Python 3"
    },
    "language_info": {
      "name": "python"
    }
  },
  "cells": [
    {
      "cell_type": "markdown",
      "metadata": {
        "id": "view-in-github",
        "colab_type": "text"
      },
      "source": [
        "<a href=\"https://colab.research.google.com/github/sahana0007/Spark/blob/main/Spark_demo.ipynb\" target=\"_parent\"><img src=\"https://colab.research.google.com/assets/colab-badge.svg\" alt=\"Open In Colab\"/></a>"
      ]
    },
    {
      "cell_type": "code",
      "execution_count": 2,
      "metadata": {
        "colab": {
          "base_uri": "https://localhost:8080/"
        },
        "id": "Z-ENSeaLMAGf",
        "outputId": "2c5079df-e883-49d9-ab96-050147557444"
      },
      "outputs": [
        {
          "output_type": "stream",
          "name": "stdout",
          "text": [
            "Looking in indexes: https://pypi.org/simple, https://us-python.pkg.dev/colab-wheels/public/simple/\n",
            "Collecting pyspark\n",
            "  Downloading pyspark-3.3.0.tar.gz (281.3 MB)\n",
            "\u001b[K     |████████████████████████████████| 281.3 MB 43 kB/s \n",
            "\u001b[?25hCollecting py4j==0.10.9.5\n",
            "  Downloading py4j-0.10.9.5-py2.py3-none-any.whl (199 kB)\n",
            "\u001b[K     |████████████████████████████████| 199 kB 44.5 MB/s \n",
            "\u001b[?25hBuilding wheels for collected packages: pyspark\n",
            "  Building wheel for pyspark (setup.py) ... \u001b[?25l\u001b[?25hdone\n",
            "  Created wheel for pyspark: filename=pyspark-3.3.0-py2.py3-none-any.whl size=281764026 sha256=ba14ff638326d06a2e1ad14915cffad3830b08c405fefd5216edfb30da731534\n",
            "  Stored in directory: /root/.cache/pip/wheels/7a/8e/1b/f73a52650d2e5f337708d9f6a1750d451a7349a867f928b885\n",
            "Successfully built pyspark\n",
            "Installing collected packages: py4j, pyspark\n",
            "Successfully installed py4j-0.10.9.5 pyspark-3.3.0\n"
          ]
        }
      ],
      "source": [
        "!pip install pyspark"
      ]
    },
    {
      "cell_type": "code",
      "source": [
        "!apt-get install openjdk-8-jdk-headless -qq > /dev/null\n",
        "!wget -q https://www-us.apache.org/dist/spark/spark-2.4.4/spark-2.4.4-bin-hadoop2.7.tgz\n",
        "!tar xf spark-2.4.4-bin-hadoop2.7.tgz\n",
        "!pip install -q findspark\n",
        "import os\n",
        "os.environ[\"JAVA_HOME\"] = \"/usr/lib/jvm/java-8-openjdk-amd64\"\n",
        "os.environ[\"SPARK_HOME\"] = \"/content/spark-2.4.4-bin-hadoop2.7\"\n",
        "import findspark\n",
        "findspark.init()"
      ],
      "metadata": {
        "colab": {
          "base_uri": "https://localhost:8080/"
        },
        "id": "0jIOVo7BrA1n",
        "outputId": "d8980a15-bc3e-428a-c2ce-b8f6853414bf"
      },
      "execution_count": 6,
      "outputs": [
        {
          "output_type": "stream",
          "name": "stdout",
          "text": [
            "tar: spark-2.4.4-bin-hadoop2.7.tgz: Cannot open: No such file or directory\n",
            "tar: Error is not recoverable: exiting now\n"
          ]
        }
      ]
    },
    {
      "cell_type": "code",
      "source": [
        "sc = spark.sparkContext\n",
        "lines = sc.textFile(\"spark-2.4.4-bin-hadoop2.7/README.md\")"
      ],
      "metadata": {
        "id": "uFCNb7-grih3"
      },
      "execution_count": 7,
      "outputs": []
    },
    {
      "cell_type": "code",
      "source": [
        "input = sc.textFile(\"spark-2.4.4-bin-hadoop2.7/*.md\")"
      ],
      "metadata": {
        "id": "qi1C1aa5roXI"
      },
      "execution_count": 8,
      "outputs": []
    },
    {
      "cell_type": "code",
      "source": [
        "import pyspark\n",
        "from pyspark.sql import SparkSession"
      ],
      "metadata": {
        "id": "nnJAnYkjMl_G"
      },
      "execution_count": 3,
      "outputs": []
    },
    {
      "cell_type": "code",
      "source": [
        "spark = SparkSession.builder.master(\"local\").appName(\"demo\").getOrCreate()"
      ],
      "metadata": {
        "id": "zswC10qhMvCU"
      },
      "execution_count": 4,
      "outputs": []
    },
    {
      "cell_type": "code",
      "source": [
        "from google.colab import files\n",
        "files.upload()"
      ],
      "metadata": {
        "id": "KQi3MjKirxte"
      },
      "execution_count": null,
      "outputs": []
    },
    {
      "cell_type": "code",
      "source": [
        "df = spark.read.csv('supermarket_sales.csv',inferSchema=True, header=True)"
      ],
      "metadata": {
        "id": "nJ6xjFVgp7Bz"
      },
      "execution_count": 11,
      "outputs": []
    },
    {
      "cell_type": "code",
      "source": [
        "spark"
      ],
      "metadata": {
        "colab": {
          "base_uri": "https://localhost:8080/",
          "height": 219
        },
        "id": "Lxi54rgYNCRu",
        "outputId": "89fa6eef-66f3-4f36-afa9-189feab5f448"
      },
      "execution_count": 12,
      "outputs": [
        {
          "output_type": "execute_result",
          "data": {
            "text/plain": [
              "<pyspark.sql.session.SparkSession at 0x7f10b3763590>"
            ],
            "text/html": [
              "\n",
              "            <div>\n",
              "                <p><b>SparkSession - in-memory</b></p>\n",
              "                \n",
              "        <div>\n",
              "            <p><b>SparkContext</b></p>\n",
              "\n",
              "            <p><a href=\"http://43d21d0dfbb2:4040\">Spark UI</a></p>\n",
              "\n",
              "            <dl>\n",
              "              <dt>Version</dt>\n",
              "                <dd><code>v3.3.0</code></dd>\n",
              "              <dt>Master</dt>\n",
              "                <dd><code>local</code></dd>\n",
              "              <dt>AppName</dt>\n",
              "                <dd><code>demo</code></dd>\n",
              "            </dl>\n",
              "        </div>\n",
              "        \n",
              "            </div>\n",
              "        "
            ]
          },
          "metadata": {},
          "execution_count": 12
        }
      ]
    },
    {
      "cell_type": "code",
      "source": [
        "df.show()"
      ],
      "metadata": {
        "colab": {
          "base_uri": "https://localhost:8080/"
        },
        "id": "flLvrcywjsD7",
        "outputId": "18e91d42-ebc9-47c9-b17d-589303afc1e4"
      },
      "execution_count": 13,
      "outputs": [
        {
          "output_type": "stream",
          "name": "stdout",
          "text": [
            "+-----------+---------+------+--------------------+----------+--------+-------+--------+---------+\n",
            "| Invoice ID|     City|Gender|        Product line|Unit price|Quantity| Tax 5%|   Total|     Date|\n",
            "+-----------+---------+------+--------------------+----------+--------+-------+--------+---------+\n",
            "|750-67-8428|   Yangon|Female|   Health and beauty|     74.69|       7|26.1415|548.9715| 1/5/2019|\n",
            "|226-31-3081|Naypyitaw|Female|Electronic access...|     15.28|       5|   3.82|   80.22| 3/8/2019|\n",
            "|631-41-3108|   Yangon|  Male|  Home and lifestyle|     46.33|       7|16.2155|340.5255| 3/3/2019|\n",
            "|123-19-1176|   Yangon|  Male|   Health and beauty|     58.22|       8| 23.288| 489.048|1/27/2019|\n",
            "|373-73-7910|   Yangon|  Male|   Sports and travel|     86.31|       7|30.2085|634.3785| 2/8/2019|\n",
            "|699-14-3026|Naypyitaw|  Male|Electronic access...|     85.39|       7|29.8865|627.6165|3/25/2019|\n",
            "|355-53-5943|   Yangon|Female|Electronic access...|     68.84|       6| 20.652| 433.692|2/25/2019|\n",
            "|315-22-5665|Naypyitaw|Female|  Home and lifestyle|     73.56|      10|  36.78|  772.38|2/24/2019|\n",
            "|665-32-9167|   Yangon|Female|   Health and beauty|     36.26|       2|  3.626|  76.146|1/10/2019|\n",
            "|692-92-5582| Mandalay|Female|  Food and beverages|     54.84|       3|  8.226| 172.746|2/20/2019|\n",
            "|351-62-0822| Mandalay|Female| Fashion accessories|     14.48|       4|  2.896|  60.816| 2/6/2019|\n",
            "|529-56-3974| Mandalay|  Male|Electronic access...|     25.51|       4|  5.102| 107.142| 3/9/2019|\n",
            "|365-64-0515|   Yangon|Female|Electronic access...|     46.95|       5|11.7375|246.4875|2/12/2019|\n",
            "|252-56-2699|   Yangon|  Male|  Food and beverages|     43.19|      10| 21.595| 453.495| 2/7/2019|\n",
            "|829-34-3910|   Yangon|Female|   Health and beauty|     71.38|      10|  35.69|  749.49|3/29/2019|\n",
            "|299-46-1805| Mandalay|Female|   Sports and travel|     93.72|       6| 28.116| 590.436|1/15/2019|\n",
            "|656-95-9349|   Yangon|Female|   Health and beauty|     68.93|       7|24.1255|506.6355|3/11/2019|\n",
            "|765-26-6951|   Yangon|  Male|   Sports and travel|     72.61|       6| 21.783| 457.443| 1/1/2019|\n",
            "|329-62-1586|   Yangon|  Male|  Food and beverages|     54.67|       3| 8.2005|172.2105|1/21/2019|\n",
            "|319-50-3348| Mandalay|Female|  Home and lifestyle|      40.3|       2|   4.03|   84.63|3/11/2019|\n",
            "+-----------+---------+------+--------------------+----------+--------+-------+--------+---------+\n",
            "only showing top 20 rows\n",
            "\n"
          ]
        }
      ]
    },
    {
      "cell_type": "code",
      "source": [
        "type(df)"
      ],
      "metadata": {
        "colab": {
          "base_uri": "https://localhost:8080/"
        },
        "id": "fjkjSXVPjsKZ",
        "outputId": "633a77d3-d167-4e58-8998-7133996f9518"
      },
      "execution_count": 14,
      "outputs": [
        {
          "output_type": "execute_result",
          "data": {
            "text/plain": [
              "pyspark.sql.dataframe.DataFrame"
            ]
          },
          "metadata": {},
          "execution_count": 14
        }
      ]
    },
    {
      "cell_type": "markdown",
      "source": [
        "## Filter data by several columns"
      ],
      "metadata": {
        "id": "S0sNOPMMshdl"
      }
    },
    {
      "cell_type": "code",
      "source": [
        "df_F = df.select(\"Invoice ID\",\"City\",\"Gender\",\"Product line\",\"Unit price\",\"Quantity\",\"Total\",\"Date\").show()"
      ],
      "metadata": {
        "colab": {
          "base_uri": "https://localhost:8080/"
        },
        "id": "a8YfWCtrjsQK",
        "outputId": "ec533282-78e5-426d-aca0-32760fed41b0"
      },
      "execution_count": 18,
      "outputs": [
        {
          "output_type": "stream",
          "name": "stdout",
          "text": [
            "+-----------+---------+------+--------------------+----------+--------+--------+---------+\n",
            "| Invoice ID|     City|Gender|        Product line|Unit price|Quantity|   Total|     Date|\n",
            "+-----------+---------+------+--------------------+----------+--------+--------+---------+\n",
            "|750-67-8428|   Yangon|Female|   Health and beauty|     74.69|       7|548.9715| 1/5/2019|\n",
            "|226-31-3081|Naypyitaw|Female|Electronic access...|     15.28|       5|   80.22| 3/8/2019|\n",
            "|631-41-3108|   Yangon|  Male|  Home and lifestyle|     46.33|       7|340.5255| 3/3/2019|\n",
            "|123-19-1176|   Yangon|  Male|   Health and beauty|     58.22|       8| 489.048|1/27/2019|\n",
            "|373-73-7910|   Yangon|  Male|   Sports and travel|     86.31|       7|634.3785| 2/8/2019|\n",
            "|699-14-3026|Naypyitaw|  Male|Electronic access...|     85.39|       7|627.6165|3/25/2019|\n",
            "|355-53-5943|   Yangon|Female|Electronic access...|     68.84|       6| 433.692|2/25/2019|\n",
            "|315-22-5665|Naypyitaw|Female|  Home and lifestyle|     73.56|      10|  772.38|2/24/2019|\n",
            "|665-32-9167|   Yangon|Female|   Health and beauty|     36.26|       2|  76.146|1/10/2019|\n",
            "|692-92-5582| Mandalay|Female|  Food and beverages|     54.84|       3| 172.746|2/20/2019|\n",
            "|351-62-0822| Mandalay|Female| Fashion accessories|     14.48|       4|  60.816| 2/6/2019|\n",
            "|529-56-3974| Mandalay|  Male|Electronic access...|     25.51|       4| 107.142| 3/9/2019|\n",
            "|365-64-0515|   Yangon|Female|Electronic access...|     46.95|       5|246.4875|2/12/2019|\n",
            "|252-56-2699|   Yangon|  Male|  Food and beverages|     43.19|      10| 453.495| 2/7/2019|\n",
            "|829-34-3910|   Yangon|Female|   Health and beauty|     71.38|      10|  749.49|3/29/2019|\n",
            "|299-46-1805| Mandalay|Female|   Sports and travel|     93.72|       6| 590.436|1/15/2019|\n",
            "|656-95-9349|   Yangon|Female|   Health and beauty|     68.93|       7|506.6355|3/11/2019|\n",
            "|765-26-6951|   Yangon|  Male|   Sports and travel|     72.61|       6| 457.443| 1/1/2019|\n",
            "|329-62-1586|   Yangon|  Male|  Food and beverages|     54.67|       3|172.2105|1/21/2019|\n",
            "|319-50-3348| Mandalay|Female|  Home and lifestyle|      40.3|       2|   84.63|3/11/2019|\n",
            "+-----------+---------+------+--------------------+----------+--------+--------+---------+\n",
            "only showing top 20 rows\n",
            "\n"
          ]
        }
      ]
    },
    {
      "cell_type": "code",
      "source": [
        "from google.colab import drive\n",
        "drive.mount('/content/drive')"
      ],
      "metadata": {
        "colab": {
          "base_uri": "https://localhost:8080/"
        },
        "id": "dV2kzw2PjsU4",
        "outputId": "3577d21b-32f1-4887-d29b-42bfe51aa824"
      },
      "execution_count": 22,
      "outputs": [
        {
          "output_type": "stream",
          "name": "stdout",
          "text": [
            "Mounted at /content/drive\n"
          ]
        }
      ]
    },
    {
      "cell_type": "markdown",
      "source": [
        "Save only the filtered Data"
      ],
      "metadata": {
        "id": "ASARZLows84B"
      }
    },
    {
      "cell_type": "code",
      "source": [
        ""
      ],
      "metadata": {
        "id": "txUUkwCHjsYj"
      },
      "execution_count": null,
      "outputs": []
    }
  ]
}